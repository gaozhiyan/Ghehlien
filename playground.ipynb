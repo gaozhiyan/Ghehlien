{
 "cells": [
  {
   "cell_type": "markdown",
   "metadata": {},
   "source": [
    "# Playground\n",
    "\n",
    "Prerequisites for Ghehlien.\n",
    "\n",
    "## Playing with Fuzzy Numbers\n",
    "\n",
    "Ghehlien is closely related to binary relation and fuzzy binary relation, in which the transitive closure can be calculated by `*` and `+` operations on 2\\*2 arrays.\n",
    "\n",
    "Defining a new type called `FuzzyFloat`, in which `*` becomes `min` and `+` becomes `max`."
   ]
  },
  {
   "cell_type": "code",
   "execution_count": 1,
   "metadata": {},
   "outputs": [],
   "source": [
    "include(\"fuzzynum.jl\")\n",
    "using fuzzynum"
   ]
  },
  {
   "cell_type": "code",
   "execution_count": 2,
   "metadata": {},
   "outputs": [
    {
     "data": {
      "text/plain": [
       "0.6"
      ]
     },
     "execution_count": 2,
     "metadata": {},
     "output_type": "execute_result"
    }
   ],
   "source": [
    "FuzzyFloat(0.5) + FuzzyFloat(0.6)"
   ]
  },
  {
   "cell_type": "code",
   "execution_count": 3,
   "metadata": {},
   "outputs": [
    {
     "data": {
      "text/plain": [
       "2×2 Array{fuzzynum.FuzzyFloat,2}:\n",
       " 0.4  0.8\n",
       " 0.2  0.6"
      ]
     },
     "execution_count": 3,
     "metadata": {},
     "output_type": "execute_result"
    }
   ],
   "source": [
    "m = [FuzzyFloat(0.4) FuzzyFloat(0.8); FuzzyFloat(0.2) FuzzyFloat(0.6)]"
   ]
  },
  {
   "cell_type": "code",
   "execution_count": 4,
   "metadata": {},
   "outputs": [
    {
     "data": {
      "text/plain": [
       "2×2 Array{fuzzynum.FuzzyFloat,2}:\n",
       " 0.2  0.7\n",
       " 0.5  0.1"
      ]
     },
     "execution_count": 4,
     "metadata": {},
     "output_type": "execute_result"
    }
   ],
   "source": [
    "n = [FuzzyFloat(0.2) FuzzyFloat(0.7); FuzzyFloat(0.5) FuzzyFloat(0.1)]"
   ]
  },
  {
   "cell_type": "code",
   "execution_count": 5,
   "metadata": {},
   "outputs": [
    {
     "data": {
      "text/plain": [
       "2×2 Array{fuzzynum.FuzzyFloat,2}:\n",
       " 0.5  0.4\n",
       " 0.5  0.2"
      ]
     },
     "execution_count": 5,
     "metadata": {},
     "output_type": "execute_result"
    }
   ],
   "source": [
    "m * n"
   ]
  },
  {
   "cell_type": "markdown",
   "metadata": {},
   "source": [
    "## Reading data from file"
   ]
  },
  {
   "cell_type": "code",
   "execution_count": 6,
   "metadata": {},
   "outputs": [],
   "source": [
    "using CSV"
   ]
  },
  {
   "cell_type": "markdown",
   "metadata": {},
   "source": [
    "When reading data from a CSV file, the result would be DataFrames.DataFrame."
   ]
  },
  {
   "cell_type": "code",
   "execution_count": 7,
   "metadata": {},
   "outputs": [
    {
     "data": {
      "text/html": [
       "<table class=\"data-frame\"><thead><tr><th></th><th>廣韻韻部順序&廣韻韻部原貌(調整前)</th><th>小韻序</th><th>上字</th><th>下字</th><th>中古拼音(polyhedron 版)</th><th>廣韻字頭(覈校後)</th><th>小韻內字序</th></tr></thead><tbody><tr><th>1</th><td>上平01東</td><td>1</td><td>德</td><td>紅</td><td>tung</td><td>東</td><td>1</td></tr><tr><th>2</th><td>上平01東</td><td>1</td><td>德</td><td>紅</td><td>tung</td><td>菄</td><td>2</td></tr><tr><th>3</th><td>上平01東</td><td>1</td><td>德</td><td>紅</td><td>tung</td><td>鶇</td><td>3</td></tr><tr><th>4</th><td>上平01東</td><td>1</td><td>德</td><td>紅</td><td>tung</td><td>䍶</td><td>4</td></tr><tr><th>5</th><td>上平01東</td><td>1</td><td>德</td><td>紅</td><td>tung</td><td>𠍀</td><td>5</td></tr><tr><th>6</th><td>上平01東</td><td>1</td><td>德</td><td>紅</td><td>tung</td><td>倲</td><td>6</td></tr><tr><th>7</th><td>上平01東</td><td>1</td><td>德</td><td>紅</td><td>tung</td><td>𩜍</td><td>7</td></tr><tr><th>8</th><td>上平01東</td><td>1</td><td>德</td><td>紅</td><td>tung</td><td>𢘐</td><td>8</td></tr><tr><th>9</th><td>上平01東</td><td>1</td><td>德</td><td>紅</td><td>tung</td><td>涷</td><td>9</td></tr><tr><th>10</th><td>上平01東</td><td>1</td><td>德</td><td>紅</td><td>tung</td><td>蝀</td><td>10</td></tr><tr><th>11</th><td>上平01東</td><td>1</td><td>德</td><td>紅</td><td>tung</td><td>凍</td><td>11</td></tr><tr><th>12</th><td>上平01東</td><td>1</td><td>德</td><td>紅</td><td>tung</td><td>鯟</td><td>12</td></tr><tr><th>13</th><td>上平01東</td><td>1</td><td>德</td><td>紅</td><td>tung</td><td>𢔅</td><td>13</td></tr><tr><th>14</th><td>上平01東</td><td>1</td><td>德</td><td>紅</td><td>tung</td><td>崠</td><td>14</td></tr><tr><th>15</th><td>上平01東</td><td>1</td><td>德</td><td>紅</td><td>tung</td><td>埬</td><td>15</td></tr><tr><th>16</th><td>上平01東</td><td>1</td><td>德</td><td>紅</td><td>tung</td><td>𧓕</td><td>16</td></tr><tr><th>17</th><td>上平01東</td><td>1</td><td>德</td><td>紅</td><td>tung</td><td>䰤</td><td>17</td></tr><tr><th>18</th><td>上平01東</td><td>2</td><td>徒</td><td>紅</td><td>dung</td><td>同</td><td>1</td></tr><tr><th>19</th><td>上平01東</td><td>2</td><td>徒</td><td>紅</td><td>dung</td><td>仝</td><td>2</td></tr><tr><th>20</th><td>上平01東</td><td>2</td><td>徒</td><td>紅</td><td>dung</td><td>童</td><td>3</td></tr><tr><th>21</th><td>上平01東</td><td>2</td><td>徒</td><td>紅</td><td>dung</td><td>僮</td><td>4</td></tr><tr><th>22</th><td>上平01東</td><td>2</td><td>徒</td><td>紅</td><td>dung</td><td>銅</td><td>5</td></tr><tr><th>23</th><td>上平01東</td><td>2</td><td>徒</td><td>紅</td><td>dung</td><td>桐</td><td>6</td></tr><tr><th>24</th><td>上平01東</td><td>2</td><td>徒</td><td>紅</td><td>dung</td><td>峒</td><td>7</td></tr><tr><th>25</th><td>上平01東</td><td>2</td><td>徒</td><td>紅</td><td>dung</td><td>硐</td><td>8</td></tr><tr><th>26</th><td>上平01東</td><td>2</td><td>徒</td><td>紅</td><td>dung</td><td>𦨴</td><td>9</td></tr><tr><th>27</th><td>上平01東</td><td>2</td><td>徒</td><td>紅</td><td>dung</td><td>𧱁</td><td>10</td></tr><tr><th>28</th><td>上平01東</td><td>2</td><td>徒</td><td>紅</td><td>dung</td><td>筒</td><td>11</td></tr><tr><th>29</th><td>上平01東</td><td>2</td><td>徒</td><td>紅</td><td>dung</td><td>瞳</td><td>12</td></tr><tr><th>30</th><td>上平01東</td><td>2</td><td>徒</td><td>紅</td><td>dung</td><td>㼧</td><td>13</td></tr><tr><th>&vellip;</th><td>&vellip;</td><td>&vellip;</td><td>&vellip;</td><td>&vellip;</td><td>&vellip;</td><td>&vellip;</td><td>&vellip;</td></tr></tbody></table>"
      ],
      "text/plain": [
       "25333×7 DataFrames.DataFrame. Omitted printing of 3 columns\n",
       "│ Row   │ 廣韻韻部順序&廣韻韻部原貌(調整前) │ 小韻序 │ 上字 │ 下字 │\n",
       "├───────┼───────────────────────────────────┼────────┼──────┼──────┤\n",
       "│ 1     │ 上平01東                          │ 1      │ 德   │ 紅   │\n",
       "│ 2     │ 上平01東                          │ 1      │ 德   │ 紅   │\n",
       "│ 3     │ 上平01東                          │ 1      │ 德   │ 紅   │\n",
       "│ 4     │ 上平01東                          │ 1      │ 德   │ 紅   │\n",
       "│ 5     │ 上平01東                          │ 1      │ 德   │ 紅   │\n",
       "│ 6     │ 上平01東                          │ 1      │ 德   │ 紅   │\n",
       "│ 7     │ 上平01東                          │ 1      │ 德   │ 紅   │\n",
       "│ 8     │ 上平01東                          │ 1      │ 德   │ 紅   │\n",
       "│ 9     │ 上平01東                          │ 1      │ 德   │ 紅   │\n",
       "│ 10    │ 上平01東                          │ 1      │ 德   │ 紅   │\n",
       "│ 11    │ 上平01東                          │ 1      │ 德   │ 紅   │\n",
       "⋮\n",
       "│ 25322 │ 下平01先                          │ 576    │ 昨   │ 先   │\n",
       "│ 25323 │ 下平09麻                          │ 777    │ 女   │ 加   │\n",
       "│ 25324 │ 下平17登                          │ 974    │ 武   │ 登   │\n",
       "│ 25325 │ 下平27銜                          │ 1148   │ 古   │ 銜   │\n",
       "│ 25326 │ 上14賄                            │ 1441   │ 七   │ 罪   │\n",
       "│ 25327 │ 去06至                            │ 2230   │ 息   │ 利   │\n",
       "│ 25328 │ 去31襇                            │ 2687   │ 蒲   │ 莧   │\n",
       "│ 25329 │ 去42宕                            │ 2936   │ 他   │ 浪   │\n",
       "│ 25330 │ 去54闞                            │ 3121   │ 古   │ 蹔   │\n",
       "│ 25331 │ 入11沒                            │ 3390   │ 戶   │ 骨   │\n",
       "│ 25332 │ 入16屑                            │ 3473   │ 古   │ 穴   │\n",
       "│ 25333 │ 入29葉                            │ 3817   │ 尼   │ 輒   │"
      ]
     },
     "execution_count": 7,
     "metadata": {},
     "output_type": "execute_result"
    }
   ],
   "source": [
    "df = CSV.read(\"data.csv\", types = Dict(7 => String))"
   ]
  },
  {
   "cell_type": "code",
   "execution_count": 8,
   "metadata": {},
   "outputs": [
    {
     "data": {
      "text/plain": [
       "4.192949907235621"
      ]
     },
     "execution_count": 8,
     "metadata": {},
     "output_type": "execute_result"
    }
   ],
   "source": [
    "mapfoldl(length, +, 0, df[Symbol(\"中古拼音(polyhedron 版)\")])/25333"
   ]
  },
  {
   "cell_type": "markdown",
   "metadata": {},
   "source": [
    "## Playing with [Lazy.jl](https://github.com/MikeInnes/Lazy.jl)"
   ]
  },
  {
   "cell_type": "code",
   "execution_count": 9,
   "metadata": {},
   "outputs": [],
   "source": [
    "using Lazy"
   ]
  },
  {
   "cell_type": "code",
   "execution_count": 10,
   "metadata": {},
   "outputs": [
    {
     "data": {
      "text/plain": [
       "true"
      ]
     },
     "execution_count": 10,
     "metadata": {},
     "output_type": "execute_result"
    }
   ],
   "source": [
    "@> 'a' (x -> x + 1) (x -> x == 'b')"
   ]
  },
  {
   "cell_type": "code",
   "execution_count": 11,
   "metadata": {},
   "outputs": [
    {
     "data": {
      "text/plain": [
       "Dict{Any,Any} with 2 entries:\n",
       "  2 => Any[(2, 2, 3), (2, 3, 4)]\n",
       "  1 => Any[(1, 2, 3), (1, 2, 4)]"
      ]
     },
     "execution_count": 11,
     "metadata": {},
     "output_type": "execute_result"
    }
   ],
   "source": [
    "groupby(x -> x[1], [(1,2,3), (1,2,4), (2,2,3), (2,3,4)])"
   ]
  }
 ],
 "metadata": {
  "kernelspec": {
   "display_name": "Julia 0.6.4",
   "language": "julia",
   "name": "julia-0.6"
  },
  "language_info": {
   "file_extension": ".jl",
   "mimetype": "application/julia",
   "name": "julia",
   "version": "0.6.4"
  }
 },
 "nbformat": 4,
 "nbformat_minor": 2
}
