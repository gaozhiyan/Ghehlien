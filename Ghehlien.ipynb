{
 "cells": [
  {
   "cell_type": "markdown",
   "metadata": {},
   "source": [
    "# Ghehlien\n",
    "\n",
    "This notebook is used for clustering of Old Chinese Phonology."
   ]
  },
  {
   "cell_type": "markdown",
   "metadata": {},
   "source": [
    "## Playing with `FuzzyNum`\n",
    "\n",
    "Defining a new type called `FuzzyNum`, `*` becomes `min` and `+` becomes `max`."
   ]
  },
  {
   "cell_type": "code",
   "execution_count": 1,
   "metadata": {},
   "outputs": [],
   "source": [
    "include(\"fuzzynum.jl\")\n",
    "using fuzzynum"
   ]
  },
  {
   "cell_type": "code",
   "execution_count": 2,
   "metadata": {},
   "outputs": [
    {
     "data": {
      "text/plain": [
       "0.6"
      ]
     },
     "execution_count": 2,
     "metadata": {},
     "output_type": "execute_result"
    }
   ],
   "source": [
    "FuzzyNum(0.5) + FuzzyNum(0.6)"
   ]
  },
  {
   "cell_type": "code",
   "execution_count": 3,
   "metadata": {},
   "outputs": [
    {
     "data": {
      "text/plain": [
       "2×2 Array{fuzzynum.FuzzyNum,2}:\n",
       " 0.4  0.8\n",
       " 0.2  0.6"
      ]
     },
     "execution_count": 3,
     "metadata": {},
     "output_type": "execute_result"
    }
   ],
   "source": [
    "a = [FuzzyNum(0.4) FuzzyNum(0.8); FuzzyNum(0.2) FuzzyNum(0.6)]"
   ]
  },
  {
   "cell_type": "code",
   "execution_count": 4,
   "metadata": {},
   "outputs": [
    {
     "data": {
      "text/plain": [
       "2×2 Array{fuzzynum.FuzzyNum,2}:\n",
       " 0.2  0.7\n",
       " 0.5  0.1"
      ]
     },
     "execution_count": 4,
     "metadata": {},
     "output_type": "execute_result"
    }
   ],
   "source": [
    "b = [FuzzyNum(0.2) FuzzyNum(0.7); FuzzyNum(0.5) FuzzyNum(0.1)]"
   ]
  },
  {
   "cell_type": "code",
   "execution_count": 5,
   "metadata": {},
   "outputs": [
    {
     "data": {
      "text/plain": [
       "2×2 Array{fuzzynum.FuzzyNum,2}:\n",
       " 0.5  0.4\n",
       " 0.5  0.2"
      ]
     },
     "execution_count": 5,
     "metadata": {},
     "output_type": "execute_result"
    }
   ],
   "source": [
    "a * b"
   ]
  },
  {
   "cell_type": "markdown",
   "metadata": {},
   "source": [
    "## Reading data from file"
   ]
  },
  {
   "cell_type": "code",
   "execution_count": 6,
   "metadata": {},
   "outputs": [],
   "source": [
    "using CSV"
   ]
  },
  {
   "cell_type": "markdown",
   "metadata": {},
   "source": [
    "Read CSV from file, the result would be `DataFrames.DataFrame`."
   ]
  },
  {
   "cell_type": "code",
   "execution_count": 7,
   "metadata": {},
   "outputs": [
    {
     "data": {
      "text/html": [
       "<table class=\"data-frame\"><thead><tr><th></th><th>廣韻韻部順序&廣韻韻部原貌(調整前)</th><th>小韻序</th><th>上字</th><th>下字</th><th>中古拼音(polyhedron 版)</th><th>廣韻字頭(覈校後)</th><th>小韻內字序</th></tr></thead><tbody><tr><th>1</th><td>上平01東</td><td>1</td><td>德</td><td>紅</td><td>tung</td><td>東</td><td>1</td></tr><tr><th>2</th><td>上平01東</td><td>1</td><td>德</td><td>紅</td><td>tung</td><td>菄</td><td>2</td></tr><tr><th>3</th><td>上平01東</td><td>1</td><td>德</td><td>紅</td><td>tung</td><td>鶇</td><td>3</td></tr><tr><th>4</th><td>上平01東</td><td>1</td><td>德</td><td>紅</td><td>tung</td><td>䍶</td><td>4</td></tr><tr><th>5</th><td>上平01東</td><td>1</td><td>德</td><td>紅</td><td>tung</td><td>𠍀</td><td>5</td></tr><tr><th>6</th><td>上平01東</td><td>1</td><td>德</td><td>紅</td><td>tung</td><td>倲</td><td>6</td></tr><tr><th>7</th><td>上平01東</td><td>1</td><td>德</td><td>紅</td><td>tung</td><td>𩜍</td><td>7</td></tr><tr><th>8</th><td>上平01東</td><td>1</td><td>德</td><td>紅</td><td>tung</td><td>𢘐</td><td>8</td></tr><tr><th>9</th><td>上平01東</td><td>1</td><td>德</td><td>紅</td><td>tung</td><td>涷</td><td>9</td></tr><tr><th>10</th><td>上平01東</td><td>1</td><td>德</td><td>紅</td><td>tung</td><td>蝀</td><td>10</td></tr><tr><th>11</th><td>上平01東</td><td>1</td><td>德</td><td>紅</td><td>tung</td><td>凍</td><td>11</td></tr><tr><th>12</th><td>上平01東</td><td>1</td><td>德</td><td>紅</td><td>tung</td><td>鯟</td><td>12</td></tr><tr><th>13</th><td>上平01東</td><td>1</td><td>德</td><td>紅</td><td>tung</td><td>𢔅</td><td>13</td></tr><tr><th>14</th><td>上平01東</td><td>1</td><td>德</td><td>紅</td><td>tung</td><td>崠</td><td>14</td></tr><tr><th>15</th><td>上平01東</td><td>1</td><td>德</td><td>紅</td><td>tung</td><td>埬</td><td>15</td></tr><tr><th>16</th><td>上平01東</td><td>1</td><td>德</td><td>紅</td><td>tung</td><td>𧓕</td><td>16</td></tr><tr><th>17</th><td>上平01東</td><td>1</td><td>德</td><td>紅</td><td>tung</td><td>䰤</td><td>17</td></tr><tr><th>18</th><td>上平01東</td><td>2</td><td>徒</td><td>紅</td><td>dung</td><td>同</td><td>1</td></tr><tr><th>19</th><td>上平01東</td><td>2</td><td>徒</td><td>紅</td><td>dung</td><td>仝</td><td>2</td></tr><tr><th>20</th><td>上平01東</td><td>2</td><td>徒</td><td>紅</td><td>dung</td><td>童</td><td>3</td></tr><tr><th>21</th><td>上平01東</td><td>2</td><td>徒</td><td>紅</td><td>dung</td><td>僮</td><td>4</td></tr><tr><th>22</th><td>上平01東</td><td>2</td><td>徒</td><td>紅</td><td>dung</td><td>銅</td><td>5</td></tr><tr><th>23</th><td>上平01東</td><td>2</td><td>徒</td><td>紅</td><td>dung</td><td>桐</td><td>6</td></tr><tr><th>24</th><td>上平01東</td><td>2</td><td>徒</td><td>紅</td><td>dung</td><td>峒</td><td>7</td></tr><tr><th>25</th><td>上平01東</td><td>2</td><td>徒</td><td>紅</td><td>dung</td><td>硐</td><td>8</td></tr><tr><th>26</th><td>上平01東</td><td>2</td><td>徒</td><td>紅</td><td>dung</td><td>𦨴</td><td>9</td></tr><tr><th>27</th><td>上平01東</td><td>2</td><td>徒</td><td>紅</td><td>dung</td><td>𧱁</td><td>10</td></tr><tr><th>28</th><td>上平01東</td><td>2</td><td>徒</td><td>紅</td><td>dung</td><td>筒</td><td>11</td></tr><tr><th>29</th><td>上平01東</td><td>2</td><td>徒</td><td>紅</td><td>dung</td><td>瞳</td><td>12</td></tr><tr><th>30</th><td>上平01東</td><td>2</td><td>徒</td><td>紅</td><td>dung</td><td>㼧</td><td>13</td></tr><tr><th>&vellip;</th><td>&vellip;</td><td>&vellip;</td><td>&vellip;</td><td>&vellip;</td><td>&vellip;</td><td>&vellip;</td><td>&vellip;</td></tr></tbody></table>"
      ],
      "text/plain": [
       "25333×7 DataFrames.DataFrame. Omitted printing of 3 columns\n",
       "│ Row   │ 廣韻韻部順序&廣韻韻部原貌(調整前) │ 小韻序 │ 上字 │ 下字 │\n",
       "├───────┼───────────────────────────────────┼────────┼──────┼──────┤\n",
       "│ 1     │ 上平01東                          │ 1      │ 德   │ 紅   │\n",
       "│ 2     │ 上平01東                          │ 1      │ 德   │ 紅   │\n",
       "│ 3     │ 上平01東                          │ 1      │ 德   │ 紅   │\n",
       "│ 4     │ 上平01東                          │ 1      │ 德   │ 紅   │\n",
       "│ 5     │ 上平01東                          │ 1      │ 德   │ 紅   │\n",
       "│ 6     │ 上平01東                          │ 1      │ 德   │ 紅   │\n",
       "│ 7     │ 上平01東                          │ 1      │ 德   │ 紅   │\n",
       "│ 8     │ 上平01東                          │ 1      │ 德   │ 紅   │\n",
       "│ 9     │ 上平01東                          │ 1      │ 德   │ 紅   │\n",
       "│ 10    │ 上平01東                          │ 1      │ 德   │ 紅   │\n",
       "│ 11    │ 上平01東                          │ 1      │ 德   │ 紅   │\n",
       "⋮\n",
       "│ 25322 │ 下平01先                          │ 576    │ 昨   │ 先   │\n",
       "│ 25323 │ 下平09麻                          │ 777    │ 女   │ 加   │\n",
       "│ 25324 │ 下平17登                          │ 974    │ 武   │ 登   │\n",
       "│ 25325 │ 下平27銜                          │ 1148   │ 古   │ 銜   │\n",
       "│ 25326 │ 上14賄                            │ 1441   │ 七   │ 罪   │\n",
       "│ 25327 │ 去06至                            │ 2230   │ 息   │ 利   │\n",
       "│ 25328 │ 去31襇                            │ 2687   │ 蒲   │ 莧   │\n",
       "│ 25329 │ 去42宕                            │ 2936   │ 他   │ 浪   │\n",
       "│ 25330 │ 去54闞                            │ 3121   │ 古   │ 蹔   │\n",
       "│ 25331 │ 入11沒                            │ 3390   │ 戶   │ 骨   │\n",
       "│ 25332 │ 入16屑                            │ 3473   │ 古   │ 穴   │\n",
       "│ 25333 │ 入29葉                            │ 3817   │ 尼   │ 輒   │"
      ]
     },
     "execution_count": 7,
     "metadata": {},
     "output_type": "execute_result"
    }
   ],
   "source": [
    "df = CSV.read(\"data.csv\", types=Dict(7=>String))"
   ]
  },
  {
   "cell_type": "code",
   "execution_count": 8,
   "metadata": {},
   "outputs": [
    {
     "data": {
      "text/plain": [
       "4.192949907235621"
      ]
     },
     "execution_count": 8,
     "metadata": {},
     "output_type": "execute_result"
    }
   ],
   "source": [
    "mapfoldl(length, +, 0, df[5])/25333"
   ]
  },
  {
   "cell_type": "markdown",
   "metadata": {},
   "source": [
    "## 1. Create a new set $S$ and put all upper characters into it:"
   ]
  },
  {
   "cell_type": "code",
   "execution_count": 9,
   "metadata": {},
   "outputs": [
    {
     "data": {
      "text/plain": [
       "Set(Union{CategoricalArrays.CategoricalString{UInt32}, Missings.Missing}[CategoricalArrays.CategoricalString{UInt32} \"當\", CategoricalArrays.CategoricalString{UInt32} \"跪\", CategoricalArrays.CategoricalString{UInt32} \"女\", CategoricalArrays.CategoricalString{UInt32} \"握\", CategoricalArrays.CategoricalString{UInt32} \"羽\", CategoricalArrays.CategoricalString{UInt32} \"危\", CategoricalArrays.CategoricalString{UInt32} \"尼\", CategoricalArrays.CategoricalString{UInt32} \"羊\", CategoricalArrays.CategoricalString{UInt32} \"同\", CategoricalArrays.CategoricalString{UInt32} \"醋\"  …  CategoricalArrays.CategoricalString{UInt32} \"匹\", CategoricalArrays.CategoricalString{UInt32} \"連\", CategoricalArrays.CategoricalString{UInt32} \"征\", CategoricalArrays.CategoricalString{UInt32} \"并\", CategoricalArrays.CategoricalString{UInt32} \"下\", CategoricalArrays.CategoricalString{UInt32} \"辝\", CategoricalArrays.CategoricalString{UInt32} \"色\", CategoricalArrays.CategoricalString{UInt32} \"卑\", CategoricalArrays.CategoricalString{UInt32} \"視\", CategoricalArrays.CategoricalString{UInt32} \"縛\"])"
      ]
     },
     "execution_count": 9,
     "metadata": {},
     "output_type": "execute_result"
    }
   ],
   "source": [
    "s = Set(df[3])"
   ]
  },
  {
   "cell_type": "code",
   "execution_count": 10,
   "metadata": {},
   "outputs": [
    {
     "data": {
      "text/plain": [
       "Set(Union{CategoricalArrays.CategoricalString{UInt32}, Missings.Missing}[CategoricalArrays.CategoricalString{UInt32} \"當\", CategoricalArrays.CategoricalString{UInt32} \"跪\", CategoricalArrays.CategoricalString{UInt32} \"女\", CategoricalArrays.CategoricalString{UInt32} \"握\", CategoricalArrays.CategoricalString{UInt32} \"羽\", CategoricalArrays.CategoricalString{UInt32} \"危\", CategoricalArrays.CategoricalString{UInt32} \"尼\", CategoricalArrays.CategoricalString{UInt32} \"羊\", CategoricalArrays.CategoricalString{UInt32} \"同\", CategoricalArrays.CategoricalString{UInt32} \"醋\"  …  CategoricalArrays.CategoricalString{UInt32} \"匹\", CategoricalArrays.CategoricalString{UInt32} \"連\", CategoricalArrays.CategoricalString{UInt32} \"征\", CategoricalArrays.CategoricalString{UInt32} \"并\", CategoricalArrays.CategoricalString{UInt32} \"下\", CategoricalArrays.CategoricalString{UInt32} \"辝\", CategoricalArrays.CategoricalString{UInt32} \"色\", CategoricalArrays.CategoricalString{UInt32} \"卑\", CategoricalArrays.CategoricalString{UInt32} \"視\", CategoricalArrays.CategoricalString{UInt32} \"縛\"])"
      ]
     },
     "execution_count": 10,
     "metadata": {},
     "output_type": "execute_result"
    }
   ],
   "source": [
    "filter!(x -> typeof(x) != Missings.Missing, s)"
   ]
  },
  {
   "cell_type": "markdown",
   "metadata": {},
   "source": [
    "## 2. Get the length of the set $S$, construct an empty $n*n$ array"
   ]
  },
  {
   "cell_type": "code",
   "execution_count": 11,
   "metadata": {},
   "outputs": [
    {
     "data": {
      "text/plain": [
       "471"
      ]
     },
     "execution_count": 11,
     "metadata": {},
     "output_type": "execute_result"
    }
   ],
   "source": [
    "n = length(s)"
   ]
  },
  {
   "cell_type": "code",
   "execution_count": 12,
   "metadata": {},
   "outputs": [
    {
     "data": {
      "text/plain": [
       "471×471 Array{Int64,2}:\n",
       " 0  0  0  0  0  0  0  0  0  0  0  0  0  …  0  0  0  0  0  0  0  0  0  0  0  0\n",
       " 0  0  0  0  0  0  0  0  0  0  0  0  0     0  0  0  0  0  0  0  0  0  0  0  0\n",
       " 0  0  0  0  0  0  0  0  0  0  0  0  0     0  0  0  0  0  0  0  0  0  0  0  0\n",
       " 0  0  0  0  0  0  0  0  0  0  0  0  0     0  0  0  0  0  0  0  0  0  0  0  0\n",
       " 0  0  0  0  0  0  0  0  0  0  0  0  0     0  0  0  0  0  0  0  0  0  0  0  0\n",
       " 0  0  0  0  0  0  0  0  0  0  0  0  0  …  0  0  0  0  0  0  0  0  0  0  0  0\n",
       " 0  0  0  0  0  0  0  0  0  0  0  0  0     0  0  0  0  0  0  0  0  0  0  0  0\n",
       " 0  0  0  0  0  0  0  0  0  0  0  0  0     0  0  0  0  0  0  0  0  0  0  0  0\n",
       " 0  0  0  0  0  0  0  0  0  0  0  0  0     0  0  0  0  0  0  0  0  0  0  0  0\n",
       " 0  0  0  0  0  0  0  0  0  0  0  0  0     0  0  0  0  0  0  0  0  0  0  0  0\n",
       " 0  0  0  0  0  0  0  0  0  0  0  0  0  …  0  0  0  0  0  0  0  0  0  0  0  0\n",
       " 0  0  0  0  0  0  0  0  0  0  0  0  0     0  0  0  0  0  0  0  0  0  0  0  0\n",
       " 0  0  0  0  0  0  0  0  0  0  0  0  0     0  0  0  0  0  0  0  0  0  0  0  0\n",
       " ⋮              ⋮              ⋮        ⋱     ⋮              ⋮              ⋮\n",
       " 0  0  0  0  0  0  0  0  0  0  0  0  0     0  0  0  0  0  0  0  0  0  0  0  0\n",
       " 0  0  0  0  0  0  0  0  0  0  0  0  0  …  0  0  0  0  0  0  0  0  0  0  0  0\n",
       " 0  0  0  0  0  0  0  0  0  0  0  0  0     0  0  0  0  0  0  0  0  0  0  0  0\n",
       " 0  0  0  0  0  0  0  0  0  0  0  0  0     0  0  0  0  0  0  0  0  0  0  0  0\n",
       " 0  0  0  0  0  0  0  0  0  0  0  0  0     0  0  0  0  0  0  0  0  0  0  0  0\n",
       " 0  0  0  0  0  0  0  0  0  0  0  0  0     0  0  0  0  0  0  0  0  0  0  0  0\n",
       " 0  0  0  0  0  0  0  0  0  0  0  0  0  …  0  0  0  0  0  0  0  0  0  0  0  0\n",
       " 0  0  0  0  0  0  0  0  0  0  0  0  0     0  0  0  0  0  0  0  0  0  0  0  0\n",
       " 0  0  0  0  0  0  0  0  0  0  0  0  0     0  0  0  0  0  0  0  0  0  0  0  0\n",
       " 0  0  0  0  0  0  0  0  0  0  0  0  0     0  0  0  0  0  0  0  0  0  0  0  0\n",
       " 0  0  0  0  0  0  0  0  0  0  0  0  0     0  0  0  0  0  0  0  0  0  0  0  0\n",
       " 0  0  0  0  0  0  0  0  0  0  0  0  0  …  0  0  0  0  0  0  0  0  0  0  0  0"
      ]
     },
     "execution_count": 12,
     "metadata": {},
     "output_type": "execute_result"
    }
   ],
   "source": [
    "arr = zeros(Int, n, n)"
   ]
  },
  {
   "cell_type": "markdown",
   "metadata": {},
   "source": [
    "## 3. Generate a list $xs$ from set $S$"
   ]
  },
  {
   "cell_type": "code",
   "execution_count": 13,
   "metadata": {},
   "outputs": [
    {
     "data": {
      "text/plain": [
       "Set(Union{CategoricalArrays.CategoricalString{UInt32}, Missings.Missing}[CategoricalArrays.CategoricalString{UInt32} \"兹\", CategoricalArrays.CategoricalString{UInt32} \"鋤\", CategoricalArrays.CategoricalString{UInt32} \"爭\", CategoricalArrays.CategoricalString{UInt32} \"明\", CategoricalArrays.CategoricalString{UInt32} \"之\", CategoricalArrays.CategoricalString{UInt32} \"數\", CategoricalArrays.CategoricalString{UInt32} \"北\", CategoricalArrays.CategoricalString{UInt32} \"彼\", CategoricalArrays.CategoricalString{UInt32} \"衢\", CategoricalArrays.CategoricalString{UInt32} \"爲\"  …  CategoricalArrays.CategoricalString{UInt32} \"速\", CategoricalArrays.CategoricalString{UInt32} \"始\", CategoricalArrays.CategoricalString{UInt32} \"呵\", CategoricalArrays.CategoricalString{UInt32} \"部\", CategoricalArrays.CategoricalString{UInt32} \"諸\", CategoricalArrays.CategoricalString{UInt32} \"丕\", CategoricalArrays.CategoricalString{UInt32} \"榮\", CategoricalArrays.CategoricalString{UInt32} \"遵\", CategoricalArrays.CategoricalString{UInt32} \"除\", CategoricalArrays.CategoricalString{UInt32} \"狂\"])"
      ]
     },
     "execution_count": 13,
     "metadata": {},
     "output_type": "execute_result"
    }
   ],
   "source": [
    "dupS = copy(s)"
   ]
  },
  {
   "cell_type": "code",
   "execution_count": 14,
   "metadata": {},
   "outputs": [
    {
     "data": {
      "text/plain": [
       "0-element Array{Any,1}"
      ]
     },
     "execution_count": 14,
     "metadata": {},
     "output_type": "execute_result"
    }
   ],
   "source": [
    "xs = []"
   ]
  },
  {
   "cell_type": "code",
   "execution_count": 15,
   "metadata": {},
   "outputs": [],
   "source": [
    "for i in 1:n\n",
    "    push!(xs, pop!(dupS))\n",
    "end"
   ]
  },
  {
   "cell_type": "code",
   "execution_count": 16,
   "metadata": {},
   "outputs": [
    {
     "data": {
      "text/plain": [
       "471-element Array{Any,1}:\n",
       " \"兹\"\n",
       " \"鋤\"\n",
       " \"爭\"\n",
       " \"明\"\n",
       " \"之\"\n",
       " \"數\"\n",
       " \"北\"\n",
       " \"彼\"\n",
       " \"衢\"\n",
       " \"爲\"\n",
       " \"匹\"\n",
       " \"愛\"\n",
       " \"傍\"\n",
       " ⋮  \n",
       " \"平\"\n",
       " \"區\"\n",
       " \"速\"\n",
       " \"始\"\n",
       " \"呵\"\n",
       " \"部\"\n",
       " \"諸\"\n",
       " \"丕\"\n",
       " \"榮\"\n",
       " \"遵\"\n",
       " \"除\"\n",
       " \"狂\""
      ]
     },
     "execution_count": 16,
     "metadata": {},
     "output_type": "execute_result"
    }
   ],
   "source": [
    "xs"
   ]
  },
  {
   "cell_type": "markdown",
   "metadata": {},
   "source": [
    "## 4. Set `count` as 0"
   ]
  },
  {
   "cell_type": "code",
   "execution_count": 17,
   "metadata": {},
   "outputs": [
    {
     "data": {
      "text/plain": [
       "0"
      ]
     },
     "execution_count": 17,
     "metadata": {},
     "output_type": "execute_result"
    }
   ],
   "source": [
    "count = 0"
   ]
  },
  {
   "cell_type": "markdown",
   "metadata": {},
   "source": [
    "## 5. Iterate `xs`, for all `x` in `xs`, find the upper character of `x`\n",
    "\n",
    "## Then, let $i_1$ be the index of `x` in `xs`, $i_2$ be the index of (the upper character of `x`) in `xs`\n",
    "\n",
    "## Increace one for array $(i_1, i_2)$ and $(i_2, i_1)$"
   ]
  },
  {
   "cell_type": "code",
   "execution_count": 18,
   "metadata": {},
   "outputs": [
    {
     "data": {
      "text/plain": [
       "CategoricalArrays.CategoricalString{UInt32}"
      ]
     },
     "execution_count": 18,
     "metadata": {},
     "output_type": "execute_result"
    }
   ],
   "source": [
    "typeof(xs[1])"
   ]
  },
  {
   "cell_type": "code",
   "execution_count": 19,
   "metadata": {},
   "outputs": [
    {
     "data": {
      "text/plain": [
       "findUpperChar (generic function with 1 method)"
      ]
     },
     "execution_count": 19,
     "metadata": {},
     "output_type": "execute_result"
    }
   ],
   "source": [
    "function findUpperChar(ch)\n",
    "    for (wrd, ucOfWrd) in zip(df[6], df[3])\n",
    "        if wrd == ch\n",
    "            return ucOfWrd\n",
    "        end\n",
    "    end\n",
    "end"
   ]
  },
  {
   "cell_type": "code",
   "execution_count": 20,
   "metadata": {},
   "outputs": [
    {
     "data": {
      "text/plain": [
       "CategoricalArrays.CategoricalString{UInt32} \"德\""
      ]
     },
     "execution_count": 20,
     "metadata": {},
     "output_type": "execute_result"
    }
   ],
   "source": [
    "findUpperChar(df[6][1])"
   ]
  },
  {
   "cell_type": "code",
   "execution_count": 21,
   "metadata": {},
   "outputs": [
    {
     "data": {
      "text/plain": [
       "getUpperCharIndex (generic function with 1 method)"
      ]
     },
     "execution_count": 21,
     "metadata": {},
     "output_type": "execute_result"
    }
   ],
   "source": [
    "function getUpperCharIndex(ch :: typeof(xs[1]))\n",
    "    for i in 1:n\n",
    "        if ch == xs[i]\n",
    "            return i\n",
    "        end\n",
    "    end\n",
    "end"
   ]
  },
  {
   "cell_type": "code",
   "execution_count": 22,
   "metadata": {},
   "outputs": [
    {
     "data": {
      "text/plain": [
       "33"
      ]
     },
     "execution_count": 22,
     "metadata": {},
     "output_type": "execute_result"
    }
   ],
   "source": [
    "getUpperCharIndex(findUpperChar(df[6][1]))"
   ]
  },
  {
   "cell_type": "code",
   "execution_count": 23,
   "metadata": {},
   "outputs": [],
   "source": [
    "for i in 1:n\n",
    "    i1 = i\n",
    "    i2 = getUpperCharIndex(findUpperChar(xs[i]))\n",
    "    arr[i1, i2] += 1\n",
    "    arr[i2, i1] += 1\n",
    "end"
   ]
  },
  {
   "cell_type": "markdown",
   "metadata": {},
   "source": [
    "## 6. Get the transitive closure of `arr`"
   ]
  },
  {
   "cell_type": "code",
   "execution_count": 24,
   "metadata": {},
   "outputs": [
    {
     "data": {
      "text/plain": [
       "471×471 Array{fuzzynum.FuzzyNum,2}:\n",
       " 0.0  0.0  0.0  0.0  0.0  0.0  0.0  0.0  …  0.0  0.0  0.0  0.0  0.0  0.0  0.0\n",
       " 0.0  0.0  0.0  0.0  0.0  0.0  0.0  0.0     0.0  0.0  0.0  0.0  0.0  0.0  0.0\n",
       " 0.0  0.0  0.0  0.0  0.0  0.0  0.0  0.0     0.0  0.0  0.0  0.0  0.0  0.0  0.0\n",
       " 0.0  0.0  0.0  0.0  0.0  0.0  0.0  0.0     0.0  0.0  0.0  0.0  0.0  0.0  0.0\n",
       " 0.0  0.0  0.0  0.0  0.0  0.0  0.0  0.0     0.0  0.0  0.0  0.0  0.0  0.0  0.0\n",
       " 0.0  0.0  0.0  0.0  0.0  0.0  0.0  0.0  …  0.0  0.0  0.0  0.0  0.0  0.0  0.0\n",
       " 0.0  0.0  0.0  0.0  0.0  0.0  0.0  0.0     0.0  0.0  0.0  0.0  0.0  0.0  0.0\n",
       " 0.0  0.0  0.0  0.0  0.0  0.0  0.0  0.0     0.0  0.0  0.0  0.0  0.0  0.0  0.0\n",
       " 0.0  0.0  0.0  0.0  0.0  0.0  0.0  0.0     0.0  0.0  0.0  0.0  0.0  0.0  0.0\n",
       " 0.0  0.0  0.0  0.0  0.0  0.0  0.0  0.0     0.0  0.0  0.0  0.0  0.0  0.0  0.0\n",
       " 0.0  0.0  0.0  0.0  0.0  0.0  0.0  0.0  …  0.0  0.0  0.0  0.0  0.0  0.0  0.0\n",
       " 0.0  0.0  0.0  0.0  0.0  0.0  0.0  0.0     0.0  0.0  0.0  0.0  0.0  0.0  0.0\n",
       " 0.0  0.0  0.0  0.0  0.0  0.0  0.0  0.0     0.0  0.0  0.0  0.0  0.0  0.0  0.0\n",
       " ⋮                        ⋮              ⋱       ⋮                        ⋮  \n",
       " 0.0  0.0  0.0  0.0  0.0  0.0  0.0  0.0     0.0  0.0  0.0  0.0  0.0  0.0  0.0\n",
       " 0.0  0.0  0.0  0.0  0.0  0.0  0.0  0.0  …  0.0  0.0  0.0  0.0  0.0  0.0  0.0\n",
       " 0.0  0.0  0.0  0.0  0.0  0.0  0.0  0.0     0.0  0.0  0.0  0.0  0.0  0.0  0.0\n",
       " 0.0  0.0  0.0  0.0  0.0  0.0  0.0  0.0     0.0  0.0  0.0  0.0  0.0  0.0  0.0\n",
       " 0.0  0.0  0.0  0.0  0.0  0.0  0.0  0.0     0.0  0.0  0.0  0.0  0.0  0.0  0.0\n",
       " 0.0  0.0  0.0  0.0  0.0  0.0  0.0  0.0     0.0  0.0  0.0  0.0  0.0  0.0  0.0\n",
       " 0.0  0.0  0.0  0.0  0.0  0.0  0.0  0.0  …  0.0  0.0  0.0  0.0  0.0  0.0  0.0\n",
       " 0.0  0.0  0.0  0.0  0.0  0.0  0.0  0.0     0.0  0.0  0.0  0.0  0.0  0.0  0.0\n",
       " 0.0  0.0  0.0  0.0  0.0  0.0  0.0  0.0     0.0  0.0  0.0  0.0  0.0  0.0  0.0\n",
       " 0.0  0.0  0.0  0.0  0.0  0.0  0.0  0.0     0.0  0.0  0.0  0.0  0.0  0.0  0.0\n",
       " 0.0  0.0  0.0  0.0  0.0  0.0  0.0  0.0     0.0  0.0  0.0  0.0  0.0  0.0  0.0\n",
       " 0.0  0.0  0.0  0.0  0.0  0.0  0.0  0.0  …  0.0  0.0  0.0  0.0  0.0  0.0  0.0"
      ]
     },
     "execution_count": 24,
     "metadata": {},
     "output_type": "execute_result"
    }
   ],
   "source": [
    "FuzzyArr = map(x -> FuzzyNum(x / n), arr)"
   ]
  },
  {
   "cell_type": "code",
   "execution_count": 25,
   "metadata": {},
   "outputs": [
    {
     "data": {
      "text/plain": [
       "getTransitiveClosure (generic function with 1 method)"
      ]
     },
     "execution_count": 25,
     "metadata": {},
     "output_type": "execute_result"
    }
   ],
   "source": [
    "function getTransitiveClosure(FuzzyArr)\n",
    "    while true\n",
    "        arr_new = FuzzyArr * FuzzyArr\n",
    "        if arr_new == FuzzyArr\n",
    "            return arr_new\n",
    "        end\n",
    "        FuzzyArr = arr_new\n",
    "    end\n",
    "end       "
   ]
  },
  {
   "cell_type": "code",
   "execution_count": 26,
   "metadata": {},
   "outputs": [
    {
     "data": {
      "text/plain": [
       "471×471 Array{fuzzynum.FuzzyNum,2}:\n",
       " 0.00212314  0.0         0.0         …  0.0         0.0         0.0       \n",
       " 0.0         0.00212314  0.0            0.0         0.0         0.0       \n",
       " 0.0         0.0         0.00212314     0.0         0.0         0.0       \n",
       " 0.0         0.0         0.0            0.0         0.0         0.0       \n",
       " 0.0         0.0         0.0            0.0         0.0         0.0       \n",
       " 0.0         0.0         0.0         …  0.0         0.0         0.0       \n",
       " 0.0         0.0         0.0            0.0         0.0         0.0       \n",
       " 0.0         0.0         0.0            0.0         0.0         0.0       \n",
       " 0.0         0.0         0.0            0.0         0.0         0.0       \n",
       " 0.0         0.0         0.0            0.0         0.0         0.0       \n",
       " 0.0         0.0         0.0         …  0.0         0.0         0.0       \n",
       " 0.0         0.0         0.0            0.0         0.0         0.0       \n",
       " 0.0         0.0         0.0            0.0         0.0         0.0       \n",
       " ⋮                                   ⋱                          ⋮         \n",
       " 0.0         0.0         0.0            0.0         0.0         0.0       \n",
       " 0.0         0.0         0.0         …  0.0         0.0         0.0       \n",
       " 0.0         0.0         0.0            0.0         0.0         0.0       \n",
       " 0.0         0.0         0.0            0.0         0.0         0.0       \n",
       " 0.0         0.0         0.0            0.0         0.0         0.0       \n",
       " 0.0         0.0         0.0            0.0         0.0         0.0       \n",
       " 0.0         0.0         0.0         …  0.0         0.0         0.0       \n",
       " 0.0         0.0         0.0            0.0         0.0         0.0       \n",
       " 0.0         0.0         0.0            0.0         0.0         0.0       \n",
       " 0.0         0.0         0.0            0.00212314  0.0         0.0       \n",
       " 0.0         0.0         0.0            0.0         0.00424628  0.0       \n",
       " 0.0         0.0         0.0         …  0.0         0.0         0.00212314"
      ]
     },
     "execution_count": 26,
     "metadata": {},
     "output_type": "execute_result"
    }
   ],
   "source": [
    "FuzzyArr_TC = getTransitiveClosure(FuzzyArr)"
   ]
  },
  {
   "cell_type": "code",
   "execution_count": 27,
   "metadata": {},
   "outputs": [
    {
     "data": {
      "text/plain": [
       "Set([0.00212314, 0.00424628, 0.0])"
      ]
     },
     "execution_count": 27,
     "metadata": {},
     "output_type": "execute_result"
    }
   ],
   "source": [
    "Set(map(x -> Float64(x), FuzzyArr_TC))"
   ]
  },
  {
   "cell_type": "code",
   "execution_count": 28,
   "metadata": {},
   "outputs": [
    {
     "data": {
      "text/plain": [
       "471×471 Array{fuzzynum.FuzzyNum,2}:\n",
       " 1.0  0.0  0.0  0.0  0.0  0.0  0.0  0.0  …  0.0  0.0  0.0  0.0  0.0  0.0  0.0\n",
       " 0.0  1.0  0.0  0.0  0.0  0.0  0.0  0.0     0.0  0.0  0.0  0.0  0.0  0.0  0.0\n",
       " 0.0  0.0  1.0  0.0  0.0  0.0  0.0  0.0     0.0  0.0  0.0  0.0  0.0  0.0  0.0\n",
       " 0.0  0.0  0.0  1.0  0.0  0.0  0.0  0.0     0.0  0.0  0.0  0.0  0.0  0.0  0.0\n",
       " 0.0  0.0  0.0  0.0  1.0  0.0  0.0  0.0     0.0  1.0  0.0  0.0  0.0  0.0  0.0\n",
       " 0.0  0.0  0.0  0.0  0.0  1.0  0.0  0.0  …  0.0  0.0  0.0  0.0  0.0  0.0  0.0\n",
       " 0.0  0.0  0.0  0.0  0.0  0.0  1.0  0.0     0.0  0.0  0.0  0.0  0.0  0.0  0.0\n",
       " 0.0  0.0  0.0  0.0  0.0  0.0  0.0  1.0     0.0  0.0  0.0  0.0  0.0  0.0  0.0\n",
       " 0.0  0.0  0.0  0.0  0.0  0.0  0.0  0.0     0.0  0.0  0.0  0.0  0.0  0.0  0.0\n",
       " 0.0  0.0  0.0  0.0  0.0  0.0  0.0  0.0     0.0  0.0  0.0  1.0  0.0  0.0  0.0\n",
       " 0.0  0.0  0.0  0.0  0.0  0.0  0.0  0.0  …  0.0  0.0  0.0  0.0  0.0  0.0  0.0\n",
       " 0.0  0.0  0.0  0.0  0.0  0.0  0.0  0.0     0.0  0.0  0.0  0.0  0.0  0.0  0.0\n",
       " 0.0  0.0  0.0  0.0  0.0  0.0  0.0  0.0     0.0  0.0  0.0  0.0  0.0  0.0  0.0\n",
       " ⋮                        ⋮              ⋱       ⋮                        ⋮  \n",
       " 0.0  0.0  0.0  0.0  0.0  0.0  0.0  0.0     1.0  0.0  0.0  0.0  0.0  0.0  0.0\n",
       " 0.0  0.0  0.0  0.0  0.0  0.0  0.0  0.0  …  0.0  0.0  0.0  0.0  0.0  0.0  0.0\n",
       " 0.0  0.0  0.0  0.0  0.0  0.0  0.0  0.0     0.0  0.0  0.0  0.0  0.0  0.0  0.0\n",
       " 0.0  0.0  0.0  0.0  0.0  0.0  0.0  0.0     0.0  0.0  0.0  0.0  0.0  0.0  0.0\n",
       " 0.0  0.0  0.0  0.0  0.0  0.0  0.0  0.0     0.0  0.0  0.0  0.0  0.0  0.0  0.0\n",
       " 0.0  0.0  0.0  0.0  0.0  0.0  0.0  0.0     1.0  0.0  0.0  0.0  0.0  0.0  0.0\n",
       " 0.0  0.0  0.0  0.0  1.0  0.0  0.0  0.0  …  0.0  1.0  0.0  0.0  0.0  0.0  0.0\n",
       " 0.0  0.0  0.0  0.0  0.0  0.0  0.0  0.0     0.0  0.0  1.0  0.0  0.0  0.0  0.0\n",
       " 0.0  0.0  0.0  0.0  0.0  0.0  0.0  0.0     0.0  0.0  0.0  1.0  0.0  0.0  0.0\n",
       " 0.0  0.0  0.0  0.0  0.0  0.0  0.0  0.0     0.0  0.0  0.0  0.0  1.0  0.0  0.0\n",
       " 0.0  0.0  0.0  0.0  0.0  0.0  0.0  0.0     0.0  0.0  0.0  0.0  0.0  1.0  0.0\n",
       " 0.0  0.0  0.0  0.0  0.0  0.0  0.0  0.0  …  0.0  0.0  0.0  0.0  0.0  0.0  1.0"
      ]
     },
     "execution_count": 28,
     "metadata": {},
     "output_type": "execute_result"
    }
   ],
   "source": [
    "FuzzyArr_Regression_TC = getTransitiveClosure(map(x -> FuzzyNum(x == zero(x) ? 0.0 : 1.0), FuzzyArr))"
   ]
  },
  {
   "cell_type": "code",
   "execution_count": 29,
   "metadata": {},
   "outputs": [
    {
     "data": {
      "text/plain": [
       "getCluster (generic function with 1 method)"
      ]
     },
     "execution_count": 29,
     "metadata": {},
     "output_type": "execute_result"
    }
   ],
   "source": [
    "function getCluster(arr)\n",
    "    arr_new = map(x -> Float64(x), arr)\n",
    "\n",
    "    ss = []\n",
    "    for i in 1:n\n",
    "        if all(xs -> !in(i, xs), ss)\n",
    "            s = map(x -> x[2], filter(x -> x[1] != zero(x[1]), zip(view(arr_new, :, i), collect(1:n))))\n",
    "            if length(s) != 0\n",
    "                push!(ss, s)\n",
    "            end\n",
    "        end\n",
    "    end\n",
    "    ss\n",
    "end"
   ]
  },
  {
   "cell_type": "code",
   "execution_count": 30,
   "metadata": {},
   "outputs": [
    {
     "name": "stderr",
     "output_type": "stream",
     "text": [
      "\u001b[1m\u001b[33mWARNING: \u001b[39m\u001b[22m\u001b[33mfilter(flt, itr) is deprecated, use Iterators.filter(flt, itr) instead.\u001b[39m\n",
      "Stacktrace:\n",
      " [1] \u001b[1mdepwarn\u001b[22m\u001b[22m\u001b[1m(\u001b[22m\u001b[22m::String, ::Symbol\u001b[1m)\u001b[22m\u001b[22m at \u001b[1m.\\deprecated.jl:70\u001b[22m\u001b[22m\n",
      " [2] \u001b[1mfilter\u001b[22m\u001b[22m\u001b[1m(\u001b[22m\u001b[22m::Function, ::Base.Iterators.Zip2{SubArray{Float64,1,Array{Float64,2},Tuple{Base.Slice{Base.OneTo{Int64}},Int64},true},Array{Int64,1}}\u001b[1m)\u001b[22m\u001b[22m at \u001b[1m.\\deprecated.jl:57\u001b[22m\u001b[22m\n",
      " [3] \u001b[1mgetCluster\u001b[22m\u001b[22m\u001b[1m(\u001b[22m\u001b[22m::Array{fuzzynum.FuzzyNum,2}\u001b[1m)\u001b[22m\u001b[22m at \u001b[1m.\\In[29]:7\u001b[22m\u001b[22m\n",
      " [4] \u001b[1minclude_string\u001b[22m\u001b[22m\u001b[1m(\u001b[22m\u001b[22m::String, ::String\u001b[1m)\u001b[22m\u001b[22m at \u001b[1m.\\loading.jl:522\u001b[22m\u001b[22m\n",
      " [5] \u001b[1minclude_string\u001b[22m\u001b[22m\u001b[1m(\u001b[22m\u001b[22m::Module, ::String, ::String\u001b[1m)\u001b[22m\u001b[22m at \u001b[1mE:\\julia-depot\\v0.6\\Compat\\src\\Compat.jl:88\u001b[22m\u001b[22m\n",
      " [6] \u001b[1mexecute_request\u001b[22m\u001b[22m\u001b[1m(\u001b[22m\u001b[22m::ZMQ.Socket, ::IJulia.Msg\u001b[1m)\u001b[22m\u001b[22m at \u001b[1mE:\\julia-depot\\v0.6\\IJulia\\src\\execute_request.jl:180\u001b[22m\u001b[22m\n",
      " [7] \u001b[1m(::Compat.#inner#14{Array{Any,1},IJulia.#execute_request,Tuple{ZMQ.Socket,IJulia.Msg}})\u001b[22m\u001b[22m\u001b[1m(\u001b[22m\u001b[22m\u001b[1m)\u001b[22m\u001b[22m at \u001b[1mE:\\julia-depot\\v0.6\\Compat\\src\\Compat.jl:332\u001b[22m\u001b[22m\n",
      " [8] \u001b[1meventloop\u001b[22m\u001b[22m\u001b[1m(\u001b[22m\u001b[22m::ZMQ.Socket\u001b[1m)\u001b[22m\u001b[22m at \u001b[1mE:\\julia-depot\\v0.6\\IJulia\\src\\eventloop.jl:8\u001b[22m\u001b[22m\n",
      " [9] \u001b[1m(::IJulia.##15#18)\u001b[22m\u001b[22m\u001b[1m(\u001b[22m\u001b[22m\u001b[1m)\u001b[22m\u001b[22m at \u001b[1m.\\task.jl:335\u001b[22m\u001b[22m\n",
      "while loading In[30], in expression starting on line 1\n"
     ]
    },
    {
     "data": {
      "text/plain": [
       "88-element Array{Any,1}:\n",
       " [1, 30, 203, 222, 263, 421, 443]                                         \n",
       " [2, 74, 84, 118, 158, 360, 391, 397]                                     \n",
       " [3, 134, 230, 380, 438]                                                  \n",
       " [4, 17, 41, 48, 52, 90, 119, 258, 285, 298, 366, 426]                    \n",
       " [5, 83, 86, 243, 289, 335, 408, 466]                                     \n",
       " [6, 71, 115, 133, 138, 233, 244, 305]                                    \n",
       " [7, 40, 79, 320, 388, 407]                                               \n",
       " [8, 63, 65, 68, 82, 98, 177, 192, 193, 268, 347, 352, 355, 427, 436, 454]\n",
       " [9, 80, 319, 329, 435]                                                   \n",
       " [10, 95, 266, 280, 359, 468]                                             \n",
       " [11]                                                                     \n",
       " [12, 23, 145, 162]                                                       \n",
       " [13, 127, 146, 198, 317, 433]                                            \n",
       " ⋮                                                                        \n",
       " [294, 372]                                                               \n",
       " [306, 441]                                                               \n",
       " [312, 387]                                                               \n",
       " [326]                                                                    \n",
       " [339]                                                                    \n",
       " [343, 444, 457]                                                          \n",
       " [356]                                                                    \n",
       " [358]                                                                    \n",
       " [395]                                                                    \n",
       " [401, 464]                                                               \n",
       " [410]                                                                    \n",
       " [437]                                                                    "
      ]
     },
     "execution_count": 30,
     "metadata": {},
     "output_type": "execute_result"
    }
   ],
   "source": [
    "c_regress = getCluster(FuzzyArr_Regression_TC)"
   ]
  },
  {
   "cell_type": "code",
   "execution_count": 31,
   "metadata": {},
   "outputs": [
    {
     "name": "stdout",
     "output_type": "stream",
     "text": [
      "兹匠疾自情慈秦\n",
      "鋤鶵查豺雛崱鉏牀\n",
      "爭阻莊鄒簪\n",
      "明靡文美武亡望眉巫彌綿無\n",
      "之氏占旨煑識支諸\n",
      "數山沙色疏疎生砂\n",
      "北伯布補百晡\n",
      "彼兵并防筆婢卑方皮縛畀分裴封附房\n",
      "衢具渠臼巨\n",
      "爲于有韋王榮\n",
      "匹\n",
      "愛哀安鷖\n",
      "傍白捕薄蒲步\n",
      "先胥須息素寫速\n",
      "雨筠羽薳洧雲云永\n",
      "胡侯乎懷\n",
      "父甫必弼陂符扶毗馮浮府鄙便平部\n",
      "弋台隨悅實營辝余似旬夷辭以羊乘食寺詳移翼徐祥予與餘神夕\n",
      "堂唐特同陀度杜\n",
      "憂謁握央依烟委衣一乙伊憶\n",
      "驅傾跪袪乞丘欽詰羌卿窺墟區\n",
      "側仄\n",
      "博邊巴\n",
      "獲下戶何黃\n",
      "署是視市寔殖\n",
      "德得\n",
      "嘗承成常蜀殊時\n",
      "力良離\n",
      "借𩛠醉作即姊漸則遵\n",
      "當冬\n",
      "仕崇助士\n",
      "廁創瘡初叉楚測芻\n",
      "連縷里呂林\n",
      "郎\n",
      "章征止脂職正\n",
      "治丈持佇植遟墜池場柱馳除\n",
      "天吐土託通\n",
      "蘇司辛雖斯桑思相私悉\n",
      "虛香羲朽休興況許喜\n",
      "姑乖各過兼楷公佳格\n",
      "母模慕摸謨\n",
      "洛勒落\n",
      "如儒耳汝\n",
      "火虎花馨荒海\n",
      "宅臣直\n",
      "豬追張竹丁卓徵陟珍迍知中褚猪\n",
      "蒼取倉遷親\n",
      "牛俄虞魚疑研愚吾\n",
      "乃內諾㚷\n",
      "康口謙枯恪空牽客\n",
      "女\n",
      "強俟求暨奇其狂\n",
      "披拂芳峯丕\n",
      "弃起曲綺去豈\n",
      "前藏在徂才\n",
      "挹於紆\n",
      "徒\n",
      "舉規居九俱紀几吉\n",
      "資祖將子臧\n",
      "敷孚撫妃\n",
      "式釋書舒始\n",
      "矢施詩試傷失湯賞商\n",
      "麁采麤醋青七千\n",
      "抽楮癡敕\n",
      "滂\n",
      "充處赤尺叱\n",
      "拏尼穠\n",
      "都\n",
      "烏\n",
      "兒人而仍\n",
      "雌\n",
      "危宜玉遇擬五語\n",
      "奴那\n",
      "莫\n",
      "恥丑\n",
      "古詭\n",
      "魯練\n",
      "苦可\n",
      "所史\n",
      "普\n",
      "此\n",
      "賴盧來\n",
      "他\n",
      "譬\n",
      "多\n",
      "呼呵\n",
      "昌\n",
      "昨\n"
     ]
    }
   ],
   "source": [
    "for i in map(m -> join(map(n -> xs[n], m)), c_regress)\n",
    "    println(i)\n",
    "end"
   ]
  }
 ],
 "metadata": {
  "kernelspec": {
   "display_name": "Julia 0.6.4",
   "language": "julia",
   "name": "julia-0.6"
  },
  "language_info": {
   "file_extension": ".jl",
   "mimetype": "application/julia",
   "name": "julia",
   "version": "0.6.4"
  }
 },
 "nbformat": 4,
 "nbformat_minor": 2
}
