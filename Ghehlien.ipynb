{
 "cells": [
  {
   "cell_type": "markdown",
   "metadata": {},
   "source": [
    "# Ghehlien\n",
    "\n",
    "**Ghehlien** (系聯) is a clustering method used in Old Chinese Phonology\n",
    "\n",
    "## 1. Prerequisites\n",
    "\n",
    "### 1.1 Playing with Fuzzy Numbers\n",
    "\n",
    "Defining a new type called `FuzzyFloat`, in which `*` becomes `min` and `+` becomes `max`."
   ]
  },
  {
   "cell_type": "code",
   "execution_count": 1,
   "metadata": {},
   "outputs": [],
   "source": [
    "include(\"fuzzynum.jl\")\n",
    "using fuzzynum"
   ]
  },
  {
   "cell_type": "code",
   "execution_count": 2,
   "metadata": {},
   "outputs": [
    {
     "data": {
      "text/plain": [
       "0.6"
      ]
     },
     "execution_count": 2,
     "metadata": {},
     "output_type": "execute_result"
    }
   ],
   "source": [
    "FuzzyFloat(0.5) + FuzzyFloat(0.6)"
   ]
  },
  {
   "cell_type": "code",
   "execution_count": 3,
   "metadata": {},
   "outputs": [
    {
     "data": {
      "text/plain": [
       "2×2 Array{fuzzynum.FuzzyFloat,2}:\n",
       " 0.4  0.8\n",
       " 0.2  0.6"
      ]
     },
     "execution_count": 3,
     "metadata": {},
     "output_type": "execute_result"
    }
   ],
   "source": [
    "a = [FuzzyFloat(0.4) FuzzyFloat(0.8); FuzzyFloat(0.2) FuzzyFloat(0.6)]"
   ]
  },
  {
   "cell_type": "code",
   "execution_count": 4,
   "metadata": {},
   "outputs": [
    {
     "data": {
      "text/plain": [
       "2×2 Array{fuzzynum.FuzzyFloat,2}:\n",
       " 0.2  0.7\n",
       " 0.5  0.1"
      ]
     },
     "execution_count": 4,
     "metadata": {},
     "output_type": "execute_result"
    }
   ],
   "source": [
    "b = [FuzzyFloat(0.2) FuzzyFloat(0.7); FuzzyFloat(0.5) FuzzyFloat(0.1)]"
   ]
  },
  {
   "cell_type": "code",
   "execution_count": 5,
   "metadata": {},
   "outputs": [
    {
     "data": {
      "text/plain": [
       "2×2 Array{fuzzynum.FuzzyFloat,2}:\n",
       " 0.5  0.4\n",
       " 0.5  0.2"
      ]
     },
     "execution_count": 5,
     "metadata": {},
     "output_type": "execute_result"
    }
   ],
   "source": [
    "a * b"
   ]
  },
  {
   "cell_type": "markdown",
   "metadata": {},
   "source": [
    "### 1.2 Reading data from file"
   ]
  },
  {
   "cell_type": "code",
   "execution_count": 6,
   "metadata": {},
   "outputs": [],
   "source": [
    "using CSV"
   ]
  },
  {
   "cell_type": "markdown",
   "metadata": {},
   "source": [
    "When reading data from a CSV file, the result would be `DataFrames.DataFrame`."
   ]
  },
  {
   "cell_type": "code",
   "execution_count": 7,
   "metadata": {},
   "outputs": [
    {
     "data": {
      "text/html": [
       "<table class=\"data-frame\"><thead><tr><th></th><th>廣韻韻部順序&廣韻韻部原貌(調整前)</th><th>小韻序</th><th>上字</th><th>下字</th><th>中古拼音(polyhedron 版)</th><th>廣韻字頭(覈校後)</th><th>小韻內字序</th></tr></thead><tbody><tr><th>1</th><td>上平01東</td><td>1</td><td>德</td><td>紅</td><td>tung</td><td>東</td><td>1</td></tr><tr><th>2</th><td>上平01東</td><td>1</td><td>德</td><td>紅</td><td>tung</td><td>菄</td><td>2</td></tr><tr><th>3</th><td>上平01東</td><td>1</td><td>德</td><td>紅</td><td>tung</td><td>鶇</td><td>3</td></tr><tr><th>4</th><td>上平01東</td><td>1</td><td>德</td><td>紅</td><td>tung</td><td>䍶</td><td>4</td></tr><tr><th>5</th><td>上平01東</td><td>1</td><td>德</td><td>紅</td><td>tung</td><td>𠍀</td><td>5</td></tr><tr><th>6</th><td>上平01東</td><td>1</td><td>德</td><td>紅</td><td>tung</td><td>倲</td><td>6</td></tr><tr><th>7</th><td>上平01東</td><td>1</td><td>德</td><td>紅</td><td>tung</td><td>𩜍</td><td>7</td></tr><tr><th>8</th><td>上平01東</td><td>1</td><td>德</td><td>紅</td><td>tung</td><td>𢘐</td><td>8</td></tr><tr><th>9</th><td>上平01東</td><td>1</td><td>德</td><td>紅</td><td>tung</td><td>涷</td><td>9</td></tr><tr><th>10</th><td>上平01東</td><td>1</td><td>德</td><td>紅</td><td>tung</td><td>蝀</td><td>10</td></tr><tr><th>11</th><td>上平01東</td><td>1</td><td>德</td><td>紅</td><td>tung</td><td>凍</td><td>11</td></tr><tr><th>12</th><td>上平01東</td><td>1</td><td>德</td><td>紅</td><td>tung</td><td>鯟</td><td>12</td></tr><tr><th>13</th><td>上平01東</td><td>1</td><td>德</td><td>紅</td><td>tung</td><td>𢔅</td><td>13</td></tr><tr><th>14</th><td>上平01東</td><td>1</td><td>德</td><td>紅</td><td>tung</td><td>崠</td><td>14</td></tr><tr><th>15</th><td>上平01東</td><td>1</td><td>德</td><td>紅</td><td>tung</td><td>埬</td><td>15</td></tr><tr><th>16</th><td>上平01東</td><td>1</td><td>德</td><td>紅</td><td>tung</td><td>𧓕</td><td>16</td></tr><tr><th>17</th><td>上平01東</td><td>1</td><td>德</td><td>紅</td><td>tung</td><td>䰤</td><td>17</td></tr><tr><th>18</th><td>上平01東</td><td>2</td><td>徒</td><td>紅</td><td>dung</td><td>同</td><td>1</td></tr><tr><th>19</th><td>上平01東</td><td>2</td><td>徒</td><td>紅</td><td>dung</td><td>仝</td><td>2</td></tr><tr><th>20</th><td>上平01東</td><td>2</td><td>徒</td><td>紅</td><td>dung</td><td>童</td><td>3</td></tr><tr><th>21</th><td>上平01東</td><td>2</td><td>徒</td><td>紅</td><td>dung</td><td>僮</td><td>4</td></tr><tr><th>22</th><td>上平01東</td><td>2</td><td>徒</td><td>紅</td><td>dung</td><td>銅</td><td>5</td></tr><tr><th>23</th><td>上平01東</td><td>2</td><td>徒</td><td>紅</td><td>dung</td><td>桐</td><td>6</td></tr><tr><th>24</th><td>上平01東</td><td>2</td><td>徒</td><td>紅</td><td>dung</td><td>峒</td><td>7</td></tr><tr><th>25</th><td>上平01東</td><td>2</td><td>徒</td><td>紅</td><td>dung</td><td>硐</td><td>8</td></tr><tr><th>26</th><td>上平01東</td><td>2</td><td>徒</td><td>紅</td><td>dung</td><td>𦨴</td><td>9</td></tr><tr><th>27</th><td>上平01東</td><td>2</td><td>徒</td><td>紅</td><td>dung</td><td>𧱁</td><td>10</td></tr><tr><th>28</th><td>上平01東</td><td>2</td><td>徒</td><td>紅</td><td>dung</td><td>筒</td><td>11</td></tr><tr><th>29</th><td>上平01東</td><td>2</td><td>徒</td><td>紅</td><td>dung</td><td>瞳</td><td>12</td></tr><tr><th>30</th><td>上平01東</td><td>2</td><td>徒</td><td>紅</td><td>dung</td><td>㼧</td><td>13</td></tr><tr><th>&vellip;</th><td>&vellip;</td><td>&vellip;</td><td>&vellip;</td><td>&vellip;</td><td>&vellip;</td><td>&vellip;</td><td>&vellip;</td></tr></tbody></table>"
      ],
      "text/plain": [
       "25333×7 DataFrames.DataFrame. Omitted printing of 3 columns\n",
       "│ Row   │ 廣韻韻部順序&廣韻韻部原貌(調整前) │ 小韻序 │ 上字 │ 下字 │\n",
       "├───────┼───────────────────────────────────┼────────┼──────┼──────┤\n",
       "│ 1     │ 上平01東                          │ 1      │ 德   │ 紅   │\n",
       "│ 2     │ 上平01東                          │ 1      │ 德   │ 紅   │\n",
       "│ 3     │ 上平01東                          │ 1      │ 德   │ 紅   │\n",
       "│ 4     │ 上平01東                          │ 1      │ 德   │ 紅   │\n",
       "│ 5     │ 上平01東                          │ 1      │ 德   │ 紅   │\n",
       "│ 6     │ 上平01東                          │ 1      │ 德   │ 紅   │\n",
       "│ 7     │ 上平01東                          │ 1      │ 德   │ 紅   │\n",
       "│ 8     │ 上平01東                          │ 1      │ 德   │ 紅   │\n",
       "│ 9     │ 上平01東                          │ 1      │ 德   │ 紅   │\n",
       "│ 10    │ 上平01東                          │ 1      │ 德   │ 紅   │\n",
       "│ 11    │ 上平01東                          │ 1      │ 德   │ 紅   │\n",
       "⋮\n",
       "│ 25322 │ 下平01先                          │ 576    │ 昨   │ 先   │\n",
       "│ 25323 │ 下平09麻                          │ 777    │ 女   │ 加   │\n",
       "│ 25324 │ 下平17登                          │ 974    │ 武   │ 登   │\n",
       "│ 25325 │ 下平27銜                          │ 1148   │ 古   │ 銜   │\n",
       "│ 25326 │ 上14賄                            │ 1441   │ 七   │ 罪   │\n",
       "│ 25327 │ 去06至                            │ 2230   │ 息   │ 利   │\n",
       "│ 25328 │ 去31襇                            │ 2687   │ 蒲   │ 莧   │\n",
       "│ 25329 │ 去42宕                            │ 2936   │ 他   │ 浪   │\n",
       "│ 25330 │ 去54闞                            │ 3121   │ 古   │ 蹔   │\n",
       "│ 25331 │ 入11沒                            │ 3390   │ 戶   │ 骨   │\n",
       "│ 25332 │ 入16屑                            │ 3473   │ 古   │ 穴   │\n",
       "│ 25333 │ 入29葉                            │ 3817   │ 尼   │ 輒   │"
      ]
     },
     "execution_count": 7,
     "metadata": {},
     "output_type": "execute_result"
    }
   ],
   "source": [
    "df = CSV.read(\"data.csv\", types = Dict(7 => String))"
   ]
  },
  {
   "cell_type": "code",
   "execution_count": 8,
   "metadata": {},
   "outputs": [
    {
     "data": {
      "text/plain": [
       "4.192949907235621"
      ]
     },
     "execution_count": 8,
     "metadata": {},
     "output_type": "execute_result"
    }
   ],
   "source": [
    "mapfoldl(length, +, 0, df[5])/25333  # Process the column 中古拼音(polyhedron 版)"
   ]
  },
  {
   "cell_type": "markdown",
   "metadata": {},
   "source": [
    "## 2. Analyses of Kuangxyonh\n",
    "\n",
    "In this section, the ghehlien of **pyanxchet upper characters** (反切上字) and **pyanxchet lower characters** (反切下字) in **Kuangxyonh** (廣韻) will be analysed.\n",
    "\n",
    "### 2.1 Pyanxchet Upper Characters\n",
    "\n",
    "**2.1.1. Create a new set $S$ and put all upper characters into it:**"
   ]
  },
  {
   "cell_type": "code",
   "execution_count": 9,
   "metadata": {},
   "outputs": [
    {
     "data": {
      "text/plain": [
       "Set(Union{CategoricalArrays.CategoricalString{UInt32}, Missings.Missing}[CategoricalArrays.CategoricalString{UInt32} \"當\", CategoricalArrays.CategoricalString{UInt32} \"跪\", CategoricalArrays.CategoricalString{UInt32} \"女\", CategoricalArrays.CategoricalString{UInt32} \"握\", CategoricalArrays.CategoricalString{UInt32} \"羽\", CategoricalArrays.CategoricalString{UInt32} \"危\", CategoricalArrays.CategoricalString{UInt32} \"尼\", CategoricalArrays.CategoricalString{UInt32} \"羊\", CategoricalArrays.CategoricalString{UInt32} \"同\", CategoricalArrays.CategoricalString{UInt32} \"醋\"  …  CategoricalArrays.CategoricalString{UInt32} \"匹\", CategoricalArrays.CategoricalString{UInt32} \"連\", CategoricalArrays.CategoricalString{UInt32} \"征\", CategoricalArrays.CategoricalString{UInt32} \"并\", CategoricalArrays.CategoricalString{UInt32} \"下\", CategoricalArrays.CategoricalString{UInt32} \"辝\", CategoricalArrays.CategoricalString{UInt32} \"色\", CategoricalArrays.CategoricalString{UInt32} \"卑\", CategoricalArrays.CategoricalString{UInt32} \"視\", CategoricalArrays.CategoricalString{UInt32} \"縛\"])"
      ]
     },
     "execution_count": 9,
     "metadata": {},
     "output_type": "execute_result"
    }
   ],
   "source": [
    "s = Set(df[:上字])"
   ]
  },
  {
   "cell_type": "code",
   "execution_count": 10,
   "metadata": {},
   "outputs": [
    {
     "data": {
      "text/plain": [
       "Set(Union{CategoricalArrays.CategoricalString{UInt32}, Missings.Missing}[CategoricalArrays.CategoricalString{UInt32} \"當\", CategoricalArrays.CategoricalString{UInt32} \"跪\", CategoricalArrays.CategoricalString{UInt32} \"女\", CategoricalArrays.CategoricalString{UInt32} \"握\", CategoricalArrays.CategoricalString{UInt32} \"羽\", CategoricalArrays.CategoricalString{UInt32} \"危\", CategoricalArrays.CategoricalString{UInt32} \"尼\", CategoricalArrays.CategoricalString{UInt32} \"羊\", CategoricalArrays.CategoricalString{UInt32} \"同\", CategoricalArrays.CategoricalString{UInt32} \"醋\"  …  CategoricalArrays.CategoricalString{UInt32} \"匹\", CategoricalArrays.CategoricalString{UInt32} \"連\", CategoricalArrays.CategoricalString{UInt32} \"征\", CategoricalArrays.CategoricalString{UInt32} \"并\", CategoricalArrays.CategoricalString{UInt32} \"下\", CategoricalArrays.CategoricalString{UInt32} \"辝\", CategoricalArrays.CategoricalString{UInt32} \"色\", CategoricalArrays.CategoricalString{UInt32} \"卑\", CategoricalArrays.CategoricalString{UInt32} \"視\", CategoricalArrays.CategoricalString{UInt32} \"縛\"])"
      ]
     },
     "execution_count": 10,
     "metadata": {},
     "output_type": "execute_result"
    }
   ],
   "source": [
    "filter!(x -> typeof(x) != Missings.Missing, s)  # Remove missing data, for those small rhymes (小韻) that has no pyanxchet"
   ]
  },
  {
   "cell_type": "markdown",
   "metadata": {},
   "source": [
    "**2.1.2. Get the length of the set $S$, construct an empty $n*n$ array**"
   ]
  },
  {
   "cell_type": "code",
   "execution_count": 11,
   "metadata": {},
   "outputs": [
    {
     "data": {
      "text/plain": [
       "471"
      ]
     },
     "execution_count": 11,
     "metadata": {},
     "output_type": "execute_result"
    }
   ],
   "source": [
    "n = length(s)"
   ]
  },
  {
   "cell_type": "code",
   "execution_count": 12,
   "metadata": {},
   "outputs": [
    {
     "data": {
      "text/plain": [
       "471×471 Array{Int64,2}:\n",
       " 1  0  0  0  0  0  0  0  0  0  0  0  0  …  0  0  0  0  0  0  0  0  0  0  0  0\n",
       " 0  1  0  0  0  0  0  0  0  0  0  0  0     0  0  0  0  0  0  0  0  0  0  0  0\n",
       " 0  0  1  0  0  0  0  0  0  0  0  0  0     0  0  0  0  0  0  0  0  0  0  0  0\n",
       " 0  0  0  1  0  0  0  0  0  0  0  0  0     0  0  0  0  0  0  0  0  0  0  0  0\n",
       " 0  0  0  0  1  0  0  0  0  0  0  0  0     0  0  0  0  0  0  0  0  0  0  0  0\n",
       " 0  0  0  0  0  1  0  0  0  0  0  0  0  …  0  0  0  0  0  0  0  0  0  0  0  0\n",
       " 0  0  0  0  0  0  1  0  0  0  0  0  0     0  0  0  0  0  0  0  0  0  0  0  0\n",
       " 0  0  0  0  0  0  0  1  0  0  0  0  0     0  0  0  0  0  0  0  0  0  0  0  0\n",
       " 0  0  0  0  0  0  0  0  1  0  0  0  0     0  0  0  0  0  0  0  0  0  0  0  0\n",
       " 0  0  0  0  0  0  0  0  0  1  0  0  0     0  0  0  0  0  0  0  0  0  0  0  0\n",
       " 0  0  0  0  0  0  0  0  0  0  1  0  0  …  0  0  0  0  0  0  0  0  0  0  0  0\n",
       " 0  0  0  0  0  0  0  0  0  0  0  1  0     0  0  0  0  0  0  0  0  0  0  0  0\n",
       " 0  0  0  0  0  0  0  0  0  0  0  0  1     0  0  0  0  0  0  0  0  0  0  0  0\n",
       " ⋮              ⋮              ⋮        ⋱     ⋮              ⋮              ⋮\n",
       " 0  0  0  0  0  0  0  0  0  0  0  0  0     1  0  0  0  0  0  0  0  0  0  0  0\n",
       " 0  0  0  0  0  0  0  0  0  0  0  0  0  …  0  1  0  0  0  0  0  0  0  0  0  0\n",
       " 0  0  0  0  0  0  0  0  0  0  0  0  0     0  0  1  0  0  0  0  0  0  0  0  0\n",
       " 0  0  0  0  0  0  0  0  0  0  0  0  0     0  0  0  1  0  0  0  0  0  0  0  0\n",
       " 0  0  0  0  0  0  0  0  0  0  0  0  0     0  0  0  0  1  0  0  0  0  0  0  0\n",
       " 0  0  0  0  0  0  0  0  0  0  0  0  0     0  0  0  0  0  1  0  0  0  0  0  0\n",
       " 0  0  0  0  0  0  0  0  0  0  0  0  0  …  0  0  0  0  0  0  1  0  0  0  0  0\n",
       " 0  0  0  0  0  0  0  0  0  0  0  0  0     0  0  0  0  0  0  0  1  0  0  0  0\n",
       " 0  0  0  0  0  0  0  0  0  0  0  0  0     0  0  0  0  0  0  0  0  1  0  0  0\n",
       " 0  0  0  0  0  0  0  0  0  0  0  0  0     0  0  0  0  0  0  0  0  0  1  0  0\n",
       " 0  0  0  0  0  0  0  0  0  0  0  0  0     0  0  0  0  0  0  0  0  0  0  1  0\n",
       " 0  0  0  0  0  0  0  0  0  0  0  0  0  …  0  0  0  0  0  0  0  0  0  0  0  1"
      ]
     },
     "execution_count": 12,
     "metadata": {},
     "output_type": "execute_result"
    }
   ],
   "source": [
    "arr = eye(Int, n)"
   ]
  },
  {
   "cell_type": "markdown",
   "metadata": {},
   "source": [
    "**2.1.3. Generate a list $xs$ from set $S$**"
   ]
  },
  {
   "cell_type": "code",
   "execution_count": 13,
   "metadata": {},
   "outputs": [
    {
     "data": {
      "text/plain": [
       "setToList (generic function with 1 method)"
      ]
     },
     "execution_count": 13,
     "metadata": {},
     "output_type": "execute_result"
    }
   ],
   "source": [
    "function setToList(s)\n",
    "    dupS = copy(s)\n",
    "    n = length(dupS)\n",
    "    xs = []\n",
    "    for i in 1:n\n",
    "        push!(xs, pop!(dupS))\n",
    "    end\n",
    "    xs\n",
    "end"
   ]
  },
  {
   "cell_type": "code",
   "execution_count": 14,
   "metadata": {},
   "outputs": [
    {
     "data": {
      "text/plain": [
       "471-element Array{Any,1}:\n",
       " \"兹\"\n",
       " \"鋤\"\n",
       " \"爭\"\n",
       " \"明\"\n",
       " \"之\"\n",
       " \"數\"\n",
       " \"北\"\n",
       " \"彼\"\n",
       " \"衢\"\n",
       " \"爲\"\n",
       " \"匹\"\n",
       " \"愛\"\n",
       " \"傍\"\n",
       " ⋮  \n",
       " \"平\"\n",
       " \"區\"\n",
       " \"速\"\n",
       " \"始\"\n",
       " \"呵\"\n",
       " \"部\"\n",
       " \"諸\"\n",
       " \"丕\"\n",
       " \"榮\"\n",
       " \"遵\"\n",
       " \"除\"\n",
       " \"狂\""
      ]
     },
     "execution_count": 14,
     "metadata": {},
     "output_type": "execute_result"
    }
   ],
   "source": [
    "xs = setToList(s)"
   ]
  },
  {
   "cell_type": "markdown",
   "metadata": {},
   "source": [
    "**2.1.4. Set `count` = 0**"
   ]
  },
  {
   "cell_type": "code",
   "execution_count": 15,
   "metadata": {},
   "outputs": [
    {
     "data": {
      "text/plain": [
       "0"
      ]
     },
     "execution_count": 15,
     "metadata": {},
     "output_type": "execute_result"
    }
   ],
   "source": [
    "count = 0"
   ]
  },
  {
   "cell_type": "markdown",
   "metadata": {},
   "source": [
    "**2.1.5. Iterate `xs`, for all `x` in `xs`, find the upper character of `x`**\n",
    "\n",
    "**Then, let $i_1$ be the index of `x` in `xs`, $i_2$ be the index of (the upper character of `x`) in `xs`**\n",
    "\n",
    "**Increace one for array $(i_1, i_2)$ and $(i_2, i_1)$**"
   ]
  },
  {
   "cell_type": "code",
   "execution_count": 16,
   "metadata": {},
   "outputs": [
    {
     "data": {
      "text/plain": [
       "findUpperChar (generic function with 1 method)"
      ]
     },
     "execution_count": 16,
     "metadata": {},
     "output_type": "execute_result"
    }
   ],
   "source": [
    "function findUpperChar(ch)\n",
    "    for (wrd, ucOfWrd) in zip(df[6], df[:上字])\n",
    "        if wrd == ch\n",
    "            return ucOfWrd\n",
    "        end\n",
    "    end\n",
    "end"
   ]
  },
  {
   "cell_type": "code",
   "execution_count": 17,
   "metadata": {},
   "outputs": [
    {
     "data": {
      "text/plain": [
       "getUpperCharIndex (generic function with 1 method)"
      ]
     },
     "execution_count": 17,
     "metadata": {},
     "output_type": "execute_result"
    }
   ],
   "source": [
    "function getUpperCharIndex(ch :: typeof(xs[1]))\n",
    "    for i in 1:n\n",
    "        if ch == xs[i]\n",
    "            return i\n",
    "        end\n",
    "    end\n",
    "end"
   ]
  },
  {
   "cell_type": "code",
   "execution_count": 18,
   "metadata": {},
   "outputs": [
    {
     "data": {
      "text/plain": [
       "33"
      ]
     },
     "execution_count": 18,
     "metadata": {},
     "output_type": "execute_result"
    }
   ],
   "source": [
    "getUpperCharIndex(findUpperChar(df[6][1]))"
   ]
  },
  {
   "cell_type": "code",
   "execution_count": 19,
   "metadata": {},
   "outputs": [],
   "source": [
    "for i in 1:n\n",
    "    i1 = i\n",
    "    i2 = getUpperCharIndex(findUpperChar(xs[i]))\n",
    "    arr[i1, i2] += 1\n",
    "    arr[i2, i1] += 1\n",
    "end"
   ]
  },
  {
   "cell_type": "markdown",
   "metadata": {},
   "source": [
    "**2.1.6. Get the transitive closure of `arr`**"
   ]
  },
  {
   "cell_type": "code",
   "execution_count": 20,
   "metadata": {},
   "outputs": [
    {
     "data": {
      "text/plain": [
       "471×471 Array{fuzzynum.FuzzyFloat,2}:\n",
       " 0.00212314  0.0         0.0         …  0.0         0.0         0.0       \n",
       " 0.0         0.00212314  0.0            0.0         0.0         0.0       \n",
       " 0.0         0.0         0.00212314     0.0         0.0         0.0       \n",
       " 0.0         0.0         0.0            0.0         0.0         0.0       \n",
       " 0.0         0.0         0.0            0.0         0.0         0.0       \n",
       " 0.0         0.0         0.0         …  0.0         0.0         0.0       \n",
       " 0.0         0.0         0.0            0.0         0.0         0.0       \n",
       " 0.0         0.0         0.0            0.0         0.0         0.0       \n",
       " 0.0         0.0         0.0            0.0         0.0         0.0       \n",
       " 0.0         0.0         0.0            0.0         0.0         0.0       \n",
       " 0.0         0.0         0.0         …  0.0         0.0         0.0       \n",
       " 0.0         0.0         0.0            0.0         0.0         0.0       \n",
       " 0.0         0.0         0.0            0.0         0.0         0.0       \n",
       " ⋮                                   ⋱                          ⋮         \n",
       " 0.0         0.0         0.0            0.0         0.0         0.0       \n",
       " 0.0         0.0         0.0         …  0.0         0.0         0.0       \n",
       " 0.0         0.0         0.0            0.0         0.0         0.0       \n",
       " 0.0         0.0         0.0            0.0         0.0         0.0       \n",
       " 0.0         0.0         0.0            0.0         0.0         0.0       \n",
       " 0.0         0.0         0.0            0.0         0.0         0.0       \n",
       " 0.0         0.0         0.0         …  0.0         0.0         0.0       \n",
       " 0.0         0.0         0.0            0.0         0.0         0.0       \n",
       " 0.0         0.0         0.0            0.0         0.0         0.0       \n",
       " 0.0         0.0         0.0            0.00212314  0.0         0.0       \n",
       " 0.0         0.0         0.0            0.0         0.00212314  0.0       \n",
       " 0.0         0.0         0.0         …  0.0         0.0         0.00212314"
      ]
     },
     "execution_count": 20,
     "metadata": {},
     "output_type": "execute_result"
    }
   ],
   "source": [
    "FuzzyArr = map(x -> FuzzyFloat(x / n), arr)"
   ]
  },
  {
   "cell_type": "code",
   "execution_count": 21,
   "metadata": {},
   "outputs": [
    {
     "data": {
      "text/plain": [
       "getTransitiveClosure (generic function with 1 method)"
      ]
     },
     "execution_count": 21,
     "metadata": {},
     "output_type": "execute_result"
    }
   ],
   "source": [
    "function getTransitiveClosure(FuzzyArr)\n",
    "    while true\n",
    "        arr_new = FuzzyArr * FuzzyArr\n",
    "        if arr_new == FuzzyArr\n",
    "            return arr_new\n",
    "        end\n",
    "        FuzzyArr = arr_new\n",
    "    end\n",
    "end       "
   ]
  },
  {
   "cell_type": "code",
   "execution_count": 22,
   "metadata": {},
   "outputs": [
    {
     "data": {
      "text/plain": [
       "471×471 Array{fuzzynum.FuzzyFloat,2}:\n",
       " 0.00212314  0.0         0.0         …  0.0         0.0         0.0       \n",
       " 0.0         0.00212314  0.0            0.0         0.0         0.0       \n",
       " 0.0         0.0         0.00212314     0.0         0.0         0.0       \n",
       " 0.0         0.0         0.0            0.0         0.0         0.0       \n",
       " 0.0         0.0         0.0            0.0         0.0         0.0       \n",
       " 0.0         0.0         0.0         …  0.0         0.0         0.0       \n",
       " 0.0         0.0         0.0            0.0         0.0         0.0       \n",
       " 0.0         0.0         0.0            0.0         0.0         0.0       \n",
       " 0.0         0.0         0.0            0.0         0.0         0.00212314\n",
       " 0.0         0.0         0.0            0.0         0.0         0.0       \n",
       " 0.0         0.0         0.0         …  0.0         0.0         0.0       \n",
       " 0.0         0.0         0.0            0.0         0.0         0.0       \n",
       " 0.0         0.0         0.0            0.0         0.0         0.0       \n",
       " ⋮                                   ⋱                          ⋮         \n",
       " 0.0         0.0         0.0            0.0         0.0         0.0       \n",
       " 0.0         0.0         0.0         …  0.0         0.0         0.0       \n",
       " 0.0         0.0         0.0            0.0         0.0         0.0       \n",
       " 0.0         0.0         0.0            0.0         0.0         0.0       \n",
       " 0.0         0.0         0.0            0.0         0.0         0.0       \n",
       " 0.0         0.0         0.0            0.0         0.0         0.0       \n",
       " 0.0         0.0         0.0         …  0.0         0.0         0.0       \n",
       " 0.0         0.0         0.0            0.0         0.0         0.0       \n",
       " 0.0         0.0         0.0            0.0         0.0         0.0       \n",
       " 0.0         0.0         0.0            0.00212314  0.0         0.0       \n",
       " 0.0         0.0         0.0            0.0         0.00424628  0.0       \n",
       " 0.0         0.0         0.0         …  0.0         0.0         0.00212314"
      ]
     },
     "execution_count": 22,
     "metadata": {},
     "output_type": "execute_result"
    }
   ],
   "source": [
    "FuzzyArr_TC = getTransitiveClosure(FuzzyArr)"
   ]
  },
  {
   "cell_type": "code",
   "execution_count": 23,
   "metadata": {},
   "outputs": [
    {
     "data": {
      "text/plain": [
       "Set([0.00212314, 0.00424628, 0.00636943, 0.0])"
      ]
     },
     "execution_count": 23,
     "metadata": {},
     "output_type": "execute_result"
    }
   ],
   "source": [
    "Set(map(x -> Float64(x), FuzzyArr_TC))"
   ]
  },
  {
   "cell_type": "code",
   "execution_count": 24,
   "metadata": {},
   "outputs": [
    {
     "data": {
      "text/plain": [
       "471×471 Array{fuzzynum.FuzzyFloat,2}:\n",
       " 1.0  0.0  0.0  0.0  0.0  0.0  0.0  0.0  …  0.0  0.0  0.0  0.0  0.0  0.0  0.0\n",
       " 0.0  1.0  0.0  0.0  0.0  0.0  0.0  0.0     0.0  0.0  0.0  0.0  0.0  0.0  0.0\n",
       " 0.0  0.0  1.0  0.0  0.0  0.0  0.0  0.0     0.0  0.0  0.0  0.0  0.0  0.0  0.0\n",
       " 0.0  0.0  0.0  1.0  0.0  0.0  0.0  0.0     0.0  0.0  0.0  0.0  0.0  0.0  0.0\n",
       " 0.0  0.0  0.0  0.0  1.0  0.0  0.0  0.0     0.0  1.0  0.0  0.0  0.0  0.0  0.0\n",
       " 0.0  0.0  0.0  0.0  0.0  1.0  0.0  0.0  …  0.0  0.0  0.0  0.0  0.0  0.0  0.0\n",
       " 0.0  0.0  0.0  0.0  0.0  0.0  1.0  0.0     0.0  0.0  0.0  0.0  0.0  0.0  0.0\n",
       " 0.0  0.0  0.0  0.0  0.0  0.0  0.0  1.0     1.0  0.0  0.0  0.0  0.0  0.0  0.0\n",
       " 0.0  0.0  0.0  0.0  0.0  0.0  0.0  0.0     0.0  0.0  0.0  0.0  0.0  0.0  1.0\n",
       " 0.0  0.0  0.0  0.0  0.0  0.0  0.0  0.0     0.0  0.0  0.0  1.0  0.0  0.0  0.0\n",
       " 0.0  0.0  0.0  0.0  0.0  0.0  0.0  0.0  …  0.0  0.0  0.0  0.0  0.0  0.0  0.0\n",
       " 0.0  0.0  0.0  0.0  0.0  0.0  0.0  0.0     0.0  0.0  0.0  0.0  0.0  0.0  0.0\n",
       " 0.0  0.0  0.0  0.0  0.0  0.0  0.0  0.0     0.0  0.0  0.0  0.0  0.0  0.0  0.0\n",
       " ⋮                        ⋮              ⋱       ⋮                        ⋮  \n",
       " 0.0  0.0  0.0  0.0  0.0  0.0  0.0  1.0     1.0  0.0  0.0  0.0  0.0  0.0  0.0\n",
       " 0.0  0.0  0.0  0.0  0.0  0.0  0.0  0.0  …  0.0  0.0  0.0  0.0  0.0  0.0  0.0\n",
       " 0.0  0.0  0.0  0.0  0.0  0.0  0.0  0.0     0.0  0.0  0.0  0.0  0.0  0.0  0.0\n",
       " 0.0  0.0  0.0  0.0  0.0  0.0  0.0  0.0     0.0  0.0  0.0  0.0  0.0  0.0  0.0\n",
       " 0.0  0.0  0.0  0.0  0.0  0.0  0.0  0.0     0.0  0.0  0.0  0.0  0.0  0.0  0.0\n",
       " 0.0  0.0  0.0  0.0  0.0  0.0  0.0  1.0     1.0  0.0  0.0  0.0  0.0  0.0  0.0\n",
       " 0.0  0.0  0.0  0.0  1.0  0.0  0.0  0.0  …  0.0  1.0  0.0  0.0  0.0  0.0  0.0\n",
       " 0.0  0.0  0.0  0.0  0.0  0.0  0.0  0.0     0.0  0.0  1.0  0.0  0.0  0.0  0.0\n",
       " 0.0  0.0  0.0  0.0  0.0  0.0  0.0  0.0     0.0  0.0  0.0  1.0  0.0  0.0  0.0\n",
       " 0.0  0.0  0.0  0.0  0.0  0.0  0.0  0.0     0.0  0.0  0.0  0.0  1.0  0.0  0.0\n",
       " 0.0  0.0  0.0  0.0  0.0  0.0  0.0  0.0     0.0  0.0  0.0  0.0  0.0  1.0  0.0\n",
       " 0.0  0.0  0.0  0.0  0.0  0.0  0.0  0.0  …  0.0  0.0  0.0  0.0  0.0  0.0  1.0"
      ]
     },
     "execution_count": 24,
     "metadata": {},
     "output_type": "execute_result"
    }
   ],
   "source": [
    "FuzzyArr_Regression_TC = getTransitiveClosure(map(x -> FuzzyFloat(x == zero(x) ? 0.0 : 1.0), FuzzyArr))"
   ]
  },
  {
   "cell_type": "code",
   "execution_count": 25,
   "metadata": {},
   "outputs": [
    {
     "data": {
      "text/plain": [
       "getCluster (generic function with 1 method)"
      ]
     },
     "execution_count": 25,
     "metadata": {},
     "output_type": "execute_result"
    }
   ],
   "source": [
    "function getCluster(arr)\n",
    "    arr_new = map(x -> Float64(x), arr)\n",
    "\n",
    "    ss = []\n",
    "    for i in 1:n\n",
    "        if all(xs -> !in(i, xs), ss)\n",
    "            s = map(x -> x[2], filter(x -> x[1] != zero(x[1]), zip(view(arr_new, :, i), collect(1:n))))\n",
    "            if length(s) != 0\n",
    "                push!(ss, s)\n",
    "            end\n",
    "        end\n",
    "    end\n",
    "    ss\n",
    "end"
   ]
  },
  {
   "cell_type": "code",
   "execution_count": 26,
   "metadata": {},
   "outputs": [
    {
     "name": "stderr",
     "output_type": "stream",
     "text": [
      "\u001b[1m\u001b[33mWARNING: \u001b[39m\u001b[22m\u001b[33mfilter(flt, itr) is deprecated, use Iterators.filter(flt, itr) instead.\u001b[39m\n",
      "Stacktrace:\n",
      " [1] \u001b[1mdepwarn\u001b[22m\u001b[22m\u001b[1m(\u001b[22m\u001b[22m::String, ::Symbol\u001b[1m)\u001b[22m\u001b[22m at \u001b[1m.\\deprecated.jl:70\u001b[22m\u001b[22m\n",
      " [2] \u001b[1mfilter\u001b[22m\u001b[22m\u001b[1m(\u001b[22m\u001b[22m::Function, ::Base.Iterators.Zip2{SubArray{Float64,1,Array{Float64,2},Tuple{Base.Slice{Base.OneTo{Int64}},Int64},true},Array{Int64,1}}\u001b[1m)\u001b[22m\u001b[22m at \u001b[1m.\\deprecated.jl:57\u001b[22m\u001b[22m\n",
      " [3] \u001b[1mgetCluster\u001b[22m\u001b[22m\u001b[1m(\u001b[22m\u001b[22m::Array{fuzzynum.FuzzyFloat,2}\u001b[1m)\u001b[22m\u001b[22m at \u001b[1m.\\In[25]:7\u001b[22m\u001b[22m\n",
      " [4] \u001b[1minclude_string\u001b[22m\u001b[22m\u001b[1m(\u001b[22m\u001b[22m::String, ::String\u001b[1m)\u001b[22m\u001b[22m at \u001b[1m.\\loading.jl:522\u001b[22m\u001b[22m\n",
      " [5] \u001b[1minclude_string\u001b[22m\u001b[22m\u001b[1m(\u001b[22m\u001b[22m::Module, ::String, ::String\u001b[1m)\u001b[22m\u001b[22m at \u001b[1mE:\\julia-depot\\v0.6\\Compat\\src\\Compat.jl:88\u001b[22m\u001b[22m\n",
      " [6] \u001b[1mexecute_request\u001b[22m\u001b[22m\u001b[1m(\u001b[22m\u001b[22m::ZMQ.Socket, ::IJulia.Msg\u001b[1m)\u001b[22m\u001b[22m at \u001b[1mE:\\julia-depot\\v0.6\\IJulia\\src\\execute_request.jl:180\u001b[22m\u001b[22m\n",
      " [7] \u001b[1m(::Compat.#inner#14{Array{Any,1},IJulia.#execute_request,Tuple{ZMQ.Socket,IJulia.Msg}})\u001b[22m\u001b[22m\u001b[1m(\u001b[22m\u001b[22m\u001b[1m)\u001b[22m\u001b[22m at \u001b[1mE:\\julia-depot\\v0.6\\Compat\\src\\Compat.jl:332\u001b[22m\u001b[22m\n",
      " [8] \u001b[1meventloop\u001b[22m\u001b[22m\u001b[1m(\u001b[22m\u001b[22m::ZMQ.Socket\u001b[1m)\u001b[22m\u001b[22m at \u001b[1mE:\\julia-depot\\v0.6\\IJulia\\src\\eventloop.jl:8\u001b[22m\u001b[22m\n",
      " [9] \u001b[1m(::IJulia.##15#18)\u001b[22m\u001b[22m\u001b[1m(\u001b[22m\u001b[22m\u001b[1m)\u001b[22m\u001b[22m at \u001b[1m.\\task.jl:335\u001b[22m\u001b[22m\n",
      "while loading In[26], in expression starting on line 1\n"
     ]
    },
    {
     "data": {
      "text/plain": [
       "48-element Array{Any,1}:\n",
       " [1, 30, 203, 222, 263, 421, 443]                                                            \n",
       " [2, 39, 62, 74, 84, 118, 147, 158, 218, 360, 391, 397]                                      \n",
       " [3, 25, 134, 185, 230, 380, 438]                                                            \n",
       " [4, 17, 41, 48, 52, 90, 119, 258, 285, 298, 366, 426]                                       \n",
       " [5, 49, 54, 83, 86, 100, 243, 289, 316, 335, 361, 374, 408, 466]                            \n",
       " [6, 71, 115, 133, 138, 233, 244, 305, 312, 387]                                             \n",
       " [7, 27, 40, 79, 211, 320, 324, 388, 407]                                                    \n",
       " [8, 18, 28, 53, 63, 65, 68, 82, 96, 98  …  363, 392, 400, 404, 422, 427, 436, 454, 460, 465]\n",
       " [9, 80, 102, 132, 204, 236, 319, 329, 332, 338, 435, 471]                                   \n",
       " [10, 15, 29, 95, 140, 154, 196, 199, 239, 242, 266, 280, 359, 468]                          \n",
       " [11, 358]                                                                                   \n",
       " [12, 23, 145, 162, 178]                                                                     \n",
       " [13, 127, 146, 198, 317, 433]                                                               \n",
       " ⋮                                                                                           \n",
       " [88, 89, 105, 188, 191, 214, 255, 257, 265, 276, 287, 291, 378, 413, 456]                   \n",
       " [91, 232, 277, 303, 310, 409]                                                               \n",
       " [92, 183, 260, 282, 295, 306, 402, 412, 441, 442]                                           \n",
       " [93, 172, 248, 283]                                                                         \n",
       " [103, 136, 281, 334, 337, 376, 393, 406, 467]                                               \n",
       " [113, 139, 228, 301, 322, 437]                                                              \n",
       " [125, 142, 190, 210, 336, 364, 394, 423]                                                    \n",
       " [143, 157, 161, 166, 167, 175, 344, 350, 369, 375, 405, 429, 453, 463]                      \n",
       " [163, 205, 235, 269, 288, 389]                                                              \n",
       " [164, 326]                                                                                  \n",
       " [168, 223, 275, 328, 396, 410]                                                              \n",
       " [184, 339]                                                                                  "
      ]
     },
     "execution_count": 26,
     "metadata": {},
     "output_type": "execute_result"
    }
   ],
   "source": [
    "c_regress = getCluster(FuzzyArr_Regression_TC)"
   ]
  },
  {
   "cell_type": "code",
   "execution_count": 27,
   "metadata": {},
   "outputs": [
    {
     "name": "stdout",
     "output_type": "stream",
     "text": [
      "兹匠疾自情慈秦\n",
      "鋤仕崇鶵查豺助雛士崱鉏牀\n",
      "爭側阻仄莊鄒簪\n",
      "明靡文美武亡望眉巫彌綿無\n",
      "之章征氏占止旨煑脂識職正支諸\n",
      "數山沙色疏疎生砂所史\n",
      "北博伯布邊補巴百晡\n",
      "彼父甫必兵并防筆弼婢陂符卑方皮縛扶畀分毗裴馮浮府鄙便封附房平部\n",
      "衢具強俟求暨渠臼奇其巨狂\n",
      "爲雨筠于羽薳洧雲云永有韋王榮\n",
      "匹譬\n",
      "愛哀安鷖烏\n",
      "傍白捕薄蒲步\n",
      "先胥蘇須司息素寫辛雖斯桑思相私悉速\n",
      "胡侯獲乎下戶懷何黃\n",
      "弋台隨悅實營辝余似旬夷辭以羊乘食寺詳移翼徐祥予與餘神夕\n",
      "堂徒唐特同陀度杜\n",
      "憂謁握挹央依烟於委衣一乙紆伊憶\n",
      "驅傾跪弃起袪曲乞綺丘欽詰羌去卿窺豈墟區\n",
      "署嘗承是成視市常蜀殊寔時殖\n",
      "德多得\n",
      "力連縷里良呂離林\n",
      "借𩛠醉資祖將作即子姊漸則臧遵\n",
      "當都冬\n",
      "廁創瘡初叉楚測芻\n",
      "郎魯練\n",
      "治宅丈持佇植臣遟直墜池場柱馳除\n",
      "天吐土託他通\n",
      "虛香羲朽休興況許喜\n",
      "姑乖各過兼楷公古佳格詭\n",
      "母模慕莫摸謨\n",
      "洛勒落賴盧來\n",
      "如兒儒人耳而仍汝\n",
      "火虎花馨荒海呼呵\n",
      "豬追張竹丁卓徵陟珍迍知中褚猪\n",
      "蒼麁取采麤倉遷醋青七千親\n",
      "牛俄虞危宜玉遇魚擬疑研愚吾五語\n",
      "乃奴內諾那㚷\n",
      "康口謙枯恪苦空牽可客\n",
      "女拏尼穠\n",
      "披敷孚拂撫芳峯妃丕\n",
      "前藏在徂才昨\n",
      "舉規居九俱紀几吉\n",
      "式矢施詩釋試傷失湯書賞舒商始\n",
      "抽楮癡恥敕丑\n",
      "滂普\n",
      "充處赤尺叱昌\n",
      "雌此\n"
     ]
    }
   ],
   "source": [
    "for i in map(m -> join(map(n -> xs[n], m)), c_regress)\n",
    "    println(i)\n",
    "end"
   ]
  },
  {
   "cell_type": "markdown",
   "metadata": {},
   "source": [
    "### 2.2 Pyanxchet Lower Characters\n",
    "\n",
    "**2.2.1. Create a new set $S$ and put all upper characters into it:**"
   ]
  },
  {
   "cell_type": "code",
   "execution_count": 28,
   "metadata": {},
   "outputs": [
    {
     "data": {
      "text/plain": [
       "Set(Union{CategoricalArrays.CategoricalString{UInt32}, Missings.Missing}[CategoricalArrays.CategoricalString{UInt32} \"懈\", CategoricalArrays.CategoricalString{UInt32} \"甾\", CategoricalArrays.CategoricalString{UInt32} \"當\", CategoricalArrays.CategoricalString{UInt32} \"甚\", CategoricalArrays.CategoricalString{UInt32} \"法\", CategoricalArrays.CategoricalString{UInt32} \"賄\", CategoricalArrays.CategoricalString{UInt32} \"越\", CategoricalArrays.CategoricalString{UInt32} \"俾\", CategoricalArrays.CategoricalString{UInt32} \"運\", CategoricalArrays.CategoricalString{UInt32} \"河\"  …  CategoricalArrays.CategoricalString{UInt32} \"亞\", CategoricalArrays.CategoricalString{UInt32} \"寸\", CategoricalArrays.CategoricalString{UInt32} \"教\", CategoricalArrays.CategoricalString{UInt32} \"戀\", CategoricalArrays.CategoricalString{UInt32} \"畏\", CategoricalArrays.CategoricalString{UInt32} \"位\", CategoricalArrays.CategoricalString{UInt32} \"鄭\", CategoricalArrays.CategoricalString{UInt32} \"醒\", CategoricalArrays.CategoricalString{UInt32} \"贈\", CategoricalArrays.CategoricalString{UInt32} \"圓\"])"
      ]
     },
     "execution_count": 28,
     "metadata": {},
     "output_type": "execute_result"
    }
   ],
   "source": [
    "s = Set(df[:下字])"
   ]
  },
  {
   "cell_type": "code",
   "execution_count": 29,
   "metadata": {},
   "outputs": [
    {
     "data": {
      "text/plain": [
       "Set(Union{CategoricalArrays.CategoricalString{UInt32}, Missings.Missing}[CategoricalArrays.CategoricalString{UInt32} \"懈\", CategoricalArrays.CategoricalString{UInt32} \"甾\", CategoricalArrays.CategoricalString{UInt32} \"當\", CategoricalArrays.CategoricalString{UInt32} \"甚\", CategoricalArrays.CategoricalString{UInt32} \"法\", CategoricalArrays.CategoricalString{UInt32} \"賄\", CategoricalArrays.CategoricalString{UInt32} \"越\", CategoricalArrays.CategoricalString{UInt32} \"俾\", CategoricalArrays.CategoricalString{UInt32} \"運\", CategoricalArrays.CategoricalString{UInt32} \"河\"  …  CategoricalArrays.CategoricalString{UInt32} \"亞\", CategoricalArrays.CategoricalString{UInt32} \"寸\", CategoricalArrays.CategoricalString{UInt32} \"教\", CategoricalArrays.CategoricalString{UInt32} \"戀\", CategoricalArrays.CategoricalString{UInt32} \"畏\", CategoricalArrays.CategoricalString{UInt32} \"位\", CategoricalArrays.CategoricalString{UInt32} \"鄭\", CategoricalArrays.CategoricalString{UInt32} \"醒\", CategoricalArrays.CategoricalString{UInt32} \"贈\", CategoricalArrays.CategoricalString{UInt32} \"圓\"])"
      ]
     },
     "execution_count": 29,
     "metadata": {},
     "output_type": "execute_result"
    }
   ],
   "source": [
    "filter!(x -> typeof(x) != Missings.Missing, s)  # Remove missing data, for those small rhymes (小韻) that has no pyanxchet"
   ]
  },
  {
   "cell_type": "markdown",
   "metadata": {},
   "source": [
    "**2.2.2. Get the length of the set $S$, construct an empty $n*n$ array**"
   ]
  },
  {
   "cell_type": "code",
   "execution_count": 30,
   "metadata": {},
   "outputs": [
    {
     "data": {
      "text/plain": [
       "1187"
      ]
     },
     "execution_count": 30,
     "metadata": {},
     "output_type": "execute_result"
    }
   ],
   "source": [
    "n = length(s)"
   ]
  },
  {
   "cell_type": "code",
   "execution_count": 31,
   "metadata": {},
   "outputs": [
    {
     "data": {
      "text/plain": [
       "1187×1187 Array{Int64,2}:\n",
       " 1  0  0  0  0  0  0  0  0  0  0  0  0  …  0  0  0  0  0  0  0  0  0  0  0  0\n",
       " 0  1  0  0  0  0  0  0  0  0  0  0  0     0  0  0  0  0  0  0  0  0  0  0  0\n",
       " 0  0  1  0  0  0  0  0  0  0  0  0  0     0  0  0  0  0  0  0  0  0  0  0  0\n",
       " 0  0  0  1  0  0  0  0  0  0  0  0  0     0  0  0  0  0  0  0  0  0  0  0  0\n",
       " 0  0  0  0  1  0  0  0  0  0  0  0  0     0  0  0  0  0  0  0  0  0  0  0  0\n",
       " 0  0  0  0  0  1  0  0  0  0  0  0  0  …  0  0  0  0  0  0  0  0  0  0  0  0\n",
       " 0  0  0  0  0  0  1  0  0  0  0  0  0     0  0  0  0  0  0  0  0  0  0  0  0\n",
       " 0  0  0  0  0  0  0  1  0  0  0  0  0     0  0  0  0  0  0  0  0  0  0  0  0\n",
       " 0  0  0  0  0  0  0  0  1  0  0  0  0     0  0  0  0  0  0  0  0  0  0  0  0\n",
       " 0  0  0  0  0  0  0  0  0  1  0  0  0     0  0  0  0  0  0  0  0  0  0  0  0\n",
       " 0  0  0  0  0  0  0  0  0  0  1  0  0  …  0  0  0  0  0  0  0  0  0  0  0  0\n",
       " 0  0  0  0  0  0  0  0  0  0  0  1  0     0  0  0  0  0  0  0  0  0  0  0  0\n",
       " 0  0  0  0  0  0  0  0  0  0  0  0  1     0  0  0  0  0  0  0  0  0  0  0  0\n",
       " ⋮              ⋮              ⋮        ⋱  ⋮              ⋮              ⋮   \n",
       " 0  0  0  0  0  0  0  0  0  0  0  0  0  …  1  0  0  0  0  0  0  0  0  0  0  0\n",
       " 0  0  0  0  0  0  0  0  0  0  0  0  0     0  1  0  0  0  0  0  0  0  0  0  0\n",
       " 0  0  0  0  0  0  0  0  0  0  0  0  0     0  0  1  0  0  0  0  0  0  0  0  0\n",
       " 0  0  0  0  0  0  0  0  0  0  0  0  0     0  0  0  1  0  0  0  0  0  0  0  0\n",
       " 0  0  0  0  0  0  0  0  0  0  0  0  0     0  0  0  0  1  0  0  0  0  0  0  0\n",
       " 0  0  0  0  0  0  0  0  0  0  0  0  0  …  0  0  0  0  0  1  0  0  0  0  0  0\n",
       " 0  0  0  0  0  0  0  0  0  0  0  0  0     0  0  0  0  0  0  1  0  0  0  0  0\n",
       " 0  0  0  0  0  0  0  0  0  0  0  0  0     0  0  0  0  0  0  0  1  0  0  0  0\n",
       " 0  0  0  0  0  0  0  0  0  0  0  0  0     0  0  0  0  0  0  0  0  1  0  0  0\n",
       " 0  0  0  0  0  0  0  0  0  0  0  0  0     0  0  0  0  0  0  0  0  0  1  0  0\n",
       " 0  0  0  0  0  0  0  0  0  0  0  0  0  …  0  0  0  0  0  0  0  0  0  0  1  0\n",
       " 0  0  0  0  0  0  0  0  0  0  0  0  0     0  0  0  0  0  0  0  0  0  0  0  1"
      ]
     },
     "execution_count": 31,
     "metadata": {},
     "output_type": "execute_result"
    }
   ],
   "source": [
    "arr = eye(Int, n)"
   ]
  },
  {
   "cell_type": "markdown",
   "metadata": {},
   "source": [
    "**2.2.3. Generate a list $xs$ from set $S$**"
   ]
  },
  {
   "cell_type": "code",
   "execution_count": 32,
   "metadata": {},
   "outputs": [],
   "source": [
    "# function setToList(s)"
   ]
  },
  {
   "cell_type": "code",
   "execution_count": 33,
   "metadata": {},
   "outputs": [
    {
     "data": {
      "text/plain": [
       "1187-element Array{Any,1}:\n",
       " \"婁\"\n",
       " \"肌\"\n",
       " \"焉\"\n",
       " \"肴\"\n",
       " \"制\"\n",
       " \"懈\"\n",
       " \"鍾\"\n",
       " \"預\"\n",
       " \"孟\"\n",
       " \"綸\"\n",
       " \"爲\"\n",
       " \"灼\"\n",
       " \"甾\"\n",
       " ⋮  \n",
       " \"杯\"\n",
       " \"佃\"\n",
       " \"贈\"\n",
       " \"襃\"\n",
       " \"拜\"\n",
       " \"荏\"\n",
       " \"允\"\n",
       " \"赧\"\n",
       " \"牒\"\n",
       " \"斗\"\n",
       " \"曹\"\n",
       " \"圓\""
      ]
     },
     "execution_count": 33,
     "metadata": {},
     "output_type": "execute_result"
    }
   ],
   "source": [
    "xs = setToList(s)"
   ]
  },
  {
   "cell_type": "markdown",
   "metadata": {},
   "source": [
    "**2.2.4. Set `count` = 0**"
   ]
  },
  {
   "cell_type": "code",
   "execution_count": 34,
   "metadata": {},
   "outputs": [
    {
     "data": {
      "text/plain": [
       "0"
      ]
     },
     "execution_count": 34,
     "metadata": {},
     "output_type": "execute_result"
    }
   ],
   "source": [
    "count = 0"
   ]
  },
  {
   "cell_type": "markdown",
   "metadata": {},
   "source": [
    "**2.2.5. Iterate `xs`, for all `x` in `xs`, find the upper character of `x`**\n",
    "\n",
    "**Then, let $i_1$ be the index of `x` in `xs`, $i_2$ be the index of (the upper character of `x`) in `xs`**\n",
    "\n",
    "**Increace one for array $(i_1, i_2)$ and $(i_2, i_1)$**"
   ]
  },
  {
   "cell_type": "code",
   "execution_count": 35,
   "metadata": {},
   "outputs": [
    {
     "data": {
      "text/plain": [
       "findLowerChar (generic function with 1 method)"
      ]
     },
     "execution_count": 35,
     "metadata": {},
     "output_type": "execute_result"
    }
   ],
   "source": [
    "function findLowerChar(ch)\n",
    "    for (wrd, ucOfWrd) in zip(df[6], df[:下字])\n",
    "        if wrd == ch\n",
    "            return ucOfWrd\n",
    "        end\n",
    "    end\n",
    "end"
   ]
  },
  {
   "cell_type": "code",
   "execution_count": 36,
   "metadata": {},
   "outputs": [
    {
     "data": {
      "text/plain": [
       "getLowerCharIndex (generic function with 1 method)"
      ]
     },
     "execution_count": 36,
     "metadata": {},
     "output_type": "execute_result"
    }
   ],
   "source": [
    "function getLowerCharIndex(ch :: typeof(xs[1]))\n",
    "    for i in 1:n\n",
    "        if ch == xs[i]\n",
    "            return i\n",
    "        end\n",
    "    end\n",
    "end"
   ]
  },
  {
   "cell_type": "code",
   "execution_count": 37,
   "metadata": {},
   "outputs": [
    {
     "data": {
      "text/plain": [
       "595"
      ]
     },
     "execution_count": 37,
     "metadata": {},
     "output_type": "execute_result"
    }
   ],
   "source": [
    "getLowerCharIndex(findLowerChar(df[6][1]))"
   ]
  },
  {
   "cell_type": "code",
   "execution_count": 38,
   "metadata": {},
   "outputs": [
    {
     "name": "stdout",
     "output_type": "stream",
     "text": [
      "(i, typeof(findLowerChar(xs[i]))) = (278, Void)\n",
      "(i, typeof(findLowerChar(xs[i]))) = (816, Missings.Missing)\n"
     ]
    }
   ],
   "source": [
    "for i in 1:n\n",
    "    if typeof(findLowerChar(xs[i])) != typeof(findLowerChar(xs[1]))\n",
    "        @show i, typeof(findLowerChar(xs[i]))\n",
    "    end\n",
    "end"
   ]
  },
  {
   "cell_type": "code",
   "execution_count": 39,
   "metadata": {},
   "outputs": [],
   "source": [
    "for i in 1:n\n",
    "    i1 = i\n",
    "    lc = findLowerChar(xs[i])\n",
    "    if typeof(findLowerChar(xs[i])) == typeof(findLowerChar(xs[1]))\n",
    "        i2 = getLowerCharIndex(lc)\n",
    "        arr[i1, i2] += 1\n",
    "        arr[i2, i1] += 1\n",
    "    end\n",
    "end"
   ]
  },
  {
   "cell_type": "markdown",
   "metadata": {},
   "source": [
    "**6. Get the transitive closure of `arr`**"
   ]
  },
  {
   "cell_type": "code",
   "execution_count": 40,
   "metadata": {},
   "outputs": [
    {
     "data": {
      "text/plain": [
       "1187×1187 Array{fuzzynum.FuzzyFloat,2}:\n",
       " 0.00084246  0.0         0.0         …  0.0         0.0         0.0       \n",
       " 0.0         0.00084246  0.0            0.0         0.0         0.0       \n",
       " 0.0         0.0         0.00084246     0.0         0.0         0.0       \n",
       " 0.0         0.0         0.0            0.0         0.0         0.0       \n",
       " 0.0         0.0         0.0            0.0         0.0         0.0       \n",
       " 0.0         0.0         0.0         …  0.0         0.0         0.0       \n",
       " 0.0         0.0         0.0            0.0         0.0         0.0       \n",
       " 0.0         0.0         0.0            0.0         0.0         0.0       \n",
       " 0.0         0.0         0.0            0.0         0.0         0.0       \n",
       " 0.0         0.0         0.0            0.0         0.0         0.0       \n",
       " 0.0         0.0         0.0         …  0.0         0.0         0.0       \n",
       " 0.0         0.0         0.0            0.0         0.0         0.0       \n",
       " 0.0         0.0         0.0            0.0         0.0         0.0       \n",
       " ⋮                                   ⋱              ⋮                     \n",
       " 0.0         0.0         0.0         …  0.0         0.0         0.0       \n",
       " 0.0         0.0         0.0            0.0         0.0         0.0       \n",
       " 0.0         0.0         0.0            0.0         0.0         0.0       \n",
       " 0.0         0.0         0.0            0.0         0.0         0.0       \n",
       " 0.0         0.0         0.0            0.0         0.0         0.0       \n",
       " 0.0         0.0         0.0         …  0.0         0.0         0.0       \n",
       " 0.0         0.0         0.0            0.0         0.0         0.0       \n",
       " 0.0         0.0         0.0            0.0         0.0         0.0       \n",
       " 0.0         0.0         0.0            0.0         0.0         0.0       \n",
       " 0.0         0.0         0.0            0.00084246  0.0         0.0       \n",
       " 0.0         0.0         0.0         …  0.0         0.00084246  0.0       \n",
       " 0.0         0.0         0.0            0.0         0.0         0.00084246"
      ]
     },
     "execution_count": 40,
     "metadata": {},
     "output_type": "execute_result"
    }
   ],
   "source": [
    "FuzzyArr = map(x -> FuzzyFloat(x / n), arr)"
   ]
  },
  {
   "cell_type": "code",
   "execution_count": 41,
   "metadata": {},
   "outputs": [],
   "source": [
    "# function getTransitiveClosure(FuzzyArr) "
   ]
  },
  {
   "cell_type": "code",
   "execution_count": 42,
   "metadata": {},
   "outputs": [
    {
     "data": {
      "text/plain": [
       "1187×1187 Array{fuzzynum.FuzzyFloat,2}:\n",
       " 0.00084246  0.0         0.0         …  0.0         0.0         0.0       \n",
       " 0.0         0.00084246  0.0            0.0         0.0         0.0       \n",
       " 0.0         0.0         0.00084246     0.0         0.0         0.0       \n",
       " 0.0         0.0         0.0            0.0         0.0         0.0       \n",
       " 0.0         0.0         0.0            0.0         0.0         0.0       \n",
       " 0.0         0.0         0.0         …  0.0         0.0         0.0       \n",
       " 0.0         0.0         0.0            0.0         0.0         0.0       \n",
       " 0.0         0.0         0.0            0.0         0.0         0.0       \n",
       " 0.0         0.0         0.0            0.0         0.0         0.0       \n",
       " 0.0         0.0         0.0            0.0         0.0         0.0       \n",
       " 0.0         0.0         0.0         …  0.0         0.0         0.0       \n",
       " 0.0         0.0         0.0            0.0         0.0         0.0       \n",
       " 0.0         0.0         0.0            0.0         0.0         0.0       \n",
       " ⋮                                   ⋱              ⋮                     \n",
       " 0.0         0.0         0.0         …  0.0         0.0         0.0       \n",
       " 0.0         0.0         0.0            0.0         0.0         0.0       \n",
       " 0.0         0.0         0.0            0.0         0.0         0.0       \n",
       " 0.0         0.0         0.0            0.0         0.0         0.0       \n",
       " 0.0         0.0         0.0            0.0         0.0         0.0       \n",
       " 0.0         0.0         0.0         …  0.0         0.0         0.0       \n",
       " 0.0         0.0         0.0            0.0         0.0         0.0       \n",
       " 0.0         0.0         0.0            0.0         0.0         0.0       \n",
       " 0.0         0.0         0.0            0.0         0.0         0.0       \n",
       " 0.0         0.0         0.0            0.00084246  0.0         0.0       \n",
       " 0.0         0.0         0.0         …  0.0         0.00084246  0.0       \n",
       " 0.0         0.0         0.0            0.0         0.0         0.00084246"
      ]
     },
     "execution_count": 42,
     "metadata": {},
     "output_type": "execute_result"
    }
   ],
   "source": [
    "FuzzyArr_TC = getTransitiveClosure(FuzzyArr)"
   ]
  },
  {
   "cell_type": "code",
   "execution_count": 43,
   "metadata": {},
   "outputs": [
    {
     "data": {
      "text/plain": [
       "Set([0.00252738, 0.00168492, 0.00084246, 0.0])"
      ]
     },
     "execution_count": 43,
     "metadata": {},
     "output_type": "execute_result"
    }
   ],
   "source": [
    "Set(map(x -> Float64(x), FuzzyArr_TC))"
   ]
  },
  {
   "cell_type": "code",
   "execution_count": 44,
   "metadata": {},
   "outputs": [
    {
     "data": {
      "text/plain": [
       "1187×1187 Array{fuzzynum.FuzzyFloat,2}:\n",
       " 1.0  0.0  0.0  0.0  0.0  0.0  0.0  0.0  …  0.0  0.0  0.0  0.0  0.0  0.0  0.0\n",
       " 0.0  1.0  0.0  0.0  0.0  0.0  0.0  0.0     0.0  0.0  0.0  0.0  0.0  0.0  0.0\n",
       " 0.0  0.0  1.0  0.0  0.0  0.0  0.0  0.0     0.0  0.0  0.0  0.0  0.0  0.0  0.0\n",
       " 0.0  0.0  0.0  1.0  0.0  0.0  0.0  0.0     0.0  0.0  0.0  0.0  0.0  0.0  0.0\n",
       " 0.0  0.0  0.0  0.0  1.0  0.0  0.0  0.0     0.0  0.0  0.0  0.0  0.0  0.0  0.0\n",
       " 0.0  0.0  0.0  0.0  0.0  1.0  0.0  0.0  …  0.0  0.0  0.0  0.0  0.0  0.0  0.0\n",
       " 0.0  0.0  0.0  0.0  0.0  0.0  1.0  0.0     0.0  0.0  0.0  0.0  0.0  0.0  0.0\n",
       " 0.0  0.0  0.0  0.0  0.0  0.0  0.0  1.0     0.0  0.0  0.0  0.0  0.0  0.0  0.0\n",
       " 0.0  0.0  0.0  0.0  0.0  0.0  0.0  0.0     0.0  0.0  0.0  0.0  0.0  0.0  0.0\n",
       " 0.0  0.0  0.0  0.0  0.0  0.0  0.0  0.0     0.0  0.0  0.0  0.0  0.0  0.0  0.0\n",
       " 0.0  0.0  0.0  0.0  0.0  0.0  0.0  0.0  …  0.0  0.0  0.0  0.0  0.0  0.0  0.0\n",
       " 0.0  0.0  0.0  0.0  0.0  0.0  0.0  1.0     0.0  0.0  0.0  0.0  0.0  0.0  0.0\n",
       " 0.0  0.0  0.0  0.0  0.0  0.0  0.0  1.0     0.0  0.0  0.0  0.0  0.0  0.0  0.0\n",
       " ⋮                        ⋮              ⋱  ⋮                        ⋮       \n",
       " 0.0  0.0  0.0  0.0  0.0  0.0  0.0  0.0  …  0.0  0.0  0.0  0.0  0.0  0.0  0.0\n",
       " 0.0  0.0  0.0  0.0  0.0  0.0  0.0  0.0     0.0  0.0  0.0  0.0  0.0  0.0  0.0\n",
       " 0.0  0.0  0.0  0.0  0.0  0.0  0.0  0.0     0.0  0.0  0.0  0.0  0.0  0.0  0.0\n",
       " 0.0  0.0  0.0  0.0  0.0  0.0  0.0  0.0     0.0  0.0  0.0  0.0  0.0  0.0  0.0\n",
       " 0.0  0.0  0.0  0.0  0.0  0.0  0.0  0.0     0.0  0.0  0.0  0.0  0.0  0.0  0.0\n",
       " 0.0  0.0  0.0  0.0  0.0  0.0  0.0  0.0  …  1.0  0.0  0.0  0.0  0.0  0.0  0.0\n",
       " 0.0  0.0  0.0  0.0  0.0  0.0  0.0  0.0     0.0  1.0  0.0  0.0  0.0  0.0  0.0\n",
       " 0.0  0.0  0.0  0.0  0.0  0.0  0.0  0.0     0.0  0.0  1.0  0.0  0.0  0.0  0.0\n",
       " 0.0  0.0  0.0  0.0  0.0  0.0  0.0  0.0     0.0  0.0  0.0  1.0  0.0  0.0  0.0\n",
       " 0.0  0.0  0.0  0.0  0.0  0.0  0.0  0.0     0.0  0.0  0.0  0.0  1.0  0.0  0.0\n",
       " 0.0  0.0  0.0  0.0  0.0  0.0  0.0  0.0  …  0.0  0.0  0.0  0.0  0.0  1.0  0.0\n",
       " 0.0  0.0  0.0  0.0  0.0  0.0  0.0  0.0     0.0  0.0  0.0  0.0  0.0  0.0  1.0"
      ]
     },
     "execution_count": 44,
     "metadata": {},
     "output_type": "execute_result"
    }
   ],
   "source": [
    "FuzzyArr_Regression_TC = getTransitiveClosure(map(x -> FuzzyFloat(x == zero(x) ? 0.0 : 1.0), FuzzyArr))"
   ]
  },
  {
   "cell_type": "code",
   "execution_count": 45,
   "metadata": {},
   "outputs": [
    {
     "data": {
      "text/plain": [
       "getCluster (generic function with 1 method)"
      ]
     },
     "execution_count": 45,
     "metadata": {},
     "output_type": "execute_result"
    }
   ],
   "source": [
    "function getCluster(arr)\n",
    "    arr_new = map(x -> Float64(x), arr)\n",
    "\n",
    "    ss = []\n",
    "    for i in 1:n\n",
    "        if all(xs -> !in(i, xs), ss)\n",
    "            s = map(x -> x[2], filter(x -> x[1] != zero(x[1]), zip(view(arr_new, :, i), collect(1:n))))\n",
    "            if length(s) != 0\n",
    "                push!(ss, s)\n",
    "            end\n",
    "        end\n",
    "    end\n",
    "    ss\n",
    "end"
   ]
  },
  {
   "cell_type": "code",
   "execution_count": 46,
   "metadata": {},
   "outputs": [
    {
     "name": "stderr",
     "output_type": "stream",
     "text": [
      "\u001b[1m\u001b[33mWARNING: \u001b[39m\u001b[22m\u001b[33mfilter(flt, itr) is deprecated, use Iterators.filter(flt, itr) instead.\u001b[39m\n",
      "Stacktrace:\n",
      " [1] \u001b[1mdepwarn\u001b[22m\u001b[22m\u001b[1m(\u001b[22m\u001b[22m::String, ::Symbol\u001b[1m)\u001b[22m\u001b[22m at \u001b[1m.\\deprecated.jl:70\u001b[22m\u001b[22m\n",
      " [2] \u001b[1mfilter\u001b[22m\u001b[22m\u001b[1m(\u001b[22m\u001b[22m::Function, ::Base.Iterators.Zip2{SubArray{Float64,1,Array{Float64,2},Tuple{Base.Slice{Base.OneTo{Int64}},Int64},true},Array{Int64,1}}\u001b[1m)\u001b[22m\u001b[22m at \u001b[1m.\\deprecated.jl:57\u001b[22m\u001b[22m\n",
      " [3] \u001b[1mgetCluster\u001b[22m\u001b[22m\u001b[1m(\u001b[22m\u001b[22m::Array{fuzzynum.FuzzyFloat,2}\u001b[1m)\u001b[22m\u001b[22m at \u001b[1m.\\In[45]:7\u001b[22m\u001b[22m\n",
      " [4] \u001b[1minclude_string\u001b[22m\u001b[22m\u001b[1m(\u001b[22m\u001b[22m::String, ::String\u001b[1m)\u001b[22m\u001b[22m at \u001b[1m.\\loading.jl:522\u001b[22m\u001b[22m\n",
      " [5] \u001b[1minclude_string\u001b[22m\u001b[22m\u001b[1m(\u001b[22m\u001b[22m::Module, ::String, ::String\u001b[1m)\u001b[22m\u001b[22m at \u001b[1mE:\\julia-depot\\v0.6\\Compat\\src\\Compat.jl:88\u001b[22m\u001b[22m\n",
      " [6] \u001b[1mexecute_request\u001b[22m\u001b[22m\u001b[1m(\u001b[22m\u001b[22m::ZMQ.Socket, ::IJulia.Msg\u001b[1m)\u001b[22m\u001b[22m at \u001b[1mE:\\julia-depot\\v0.6\\IJulia\\src\\execute_request.jl:180\u001b[22m\u001b[22m\n",
      " [7] \u001b[1m(::Compat.#inner#14{Array{Any,1},IJulia.#execute_request,Tuple{ZMQ.Socket,IJulia.Msg}})\u001b[22m\u001b[22m\u001b[1m(\u001b[22m\u001b[22m\u001b[1m)\u001b[22m\u001b[22m at \u001b[1mE:\\julia-depot\\v0.6\\Compat\\src\\Compat.jl:332\u001b[22m\u001b[22m\n",
      " [8] \u001b[1meventloop\u001b[22m\u001b[22m\u001b[1m(\u001b[22m\u001b[22m::ZMQ.Socket\u001b[1m)\u001b[22m\u001b[22m at \u001b[1mE:\\julia-depot\\v0.6\\IJulia\\src\\eventloop.jl:8\u001b[22m\u001b[22m\n",
      " [9] \u001b[1m(::IJulia.##15#18)\u001b[22m\u001b[22m\u001b[1m(\u001b[22m\u001b[22m\u001b[1m)\u001b[22m\u001b[22m at \u001b[1m.\\task.jl:335\u001b[22m\u001b[22m\n",
      "while loading In[46], in expression starting on line 1\n"
     ]
    },
    {
     "data": {
      "text/plain": [
       "260-element Array{Any,1}:\n",
       " [1, 77, 83, 149, 320, 379, 444, 476, 573, 609, 700, 829, 904, 1001, 1008, 1112, 1155]                \n",
       " [2, 142, 168, 266, 394, 552, 803, 909, 933]                                                          \n",
       " [3, 439, 725]                                                                                        \n",
       " [4, 35, 160, 230, 388, 418, 801, 1060, 1128]                                                         \n",
       " [5, 203, 213, 674, 789, 822, 943, 985, 1132]                                                         \n",
       " [6, 585, 862, 1097]                                                                                  \n",
       " [7, 279, 356, 384, 779, 930, 969, 984]                                                               \n",
       " [8, 12, 13, 61, 93, 101, 117, 136, 153, 177  …  780, 782, 854, 892, 902, 905, 952, 989, 1021, 1048]  \n",
       " [9, 25, 30, 287, 366, 664, 716, 775, 929, 1012, 1105]                                                \n",
       " [10, 26, 201, 273, 336, 414, 597, 695, 1123]                                                         \n",
       " [11, 40, 43, 55, 70, 133, 147, 286, 296, 385  …  611, 812, 852, 860, 882, 948, 966, 1015, 1032, 1129]\n",
       " [14, 877]                                                                                            \n",
       " [15, 87]                                                                                             \n",
       " ⋮                                                                                                    \n",
       " [849, 1111]                                                                                          \n",
       " [871, 915]                                                                                           \n",
       " [878, 1098]                                                                                          \n",
       " [883, 981]                                                                                           \n",
       " [895, 1101]                                                                                          \n",
       " [924, 927]                                                                                           \n",
       " [932, 998]                                                                                           \n",
       " [1036, 1079]                                                                                         \n",
       " [1037, 1126]                                                                                         \n",
       " [1084, 1165]                                                                                         \n",
       " [1103, 1162]                                                                                         \n",
       " [1127, 1136]                                                                                         "
      ]
     },
     "execution_count": 46,
     "metadata": {},
     "output_type": "execute_result"
    }
   ],
   "source": [
    "c_regress = getCluster(FuzzyArr_Regression_TC)"
   ]
  },
  {
   "cell_type": "code",
   "execution_count": 47,
   "metadata": {
    "scrolled": false
   },
   "outputs": [
    {
     "name": "stdout",
     "output_type": "stream",
     "text": [
      "婁于熱朱足別句滅輸列誅俞隅辥逾俱芻\n",
      "肌夷尼糾資私脂飢黝\n",
      "焉軒言\n",
      "肴孝交嘲茅稍皃覺教\n",
      "制訐罽蔽袂例憩祭弊\n",
      "懈隘卦賣\n",
      "鍾封用凶容頌庸恭\n",
      "預灼甾姐遮若嗟居車魚奢藥諸邪其而爵洳雀賒與兹之勺略余野持\n",
      "孟行當盲浪宕剛岡郎庚更\n",
      "綸筠脣贇倫旬遵勻迍\n",
      "爲隨倚毀吹危帋垂紙是規綺離移知支累詭彼靡此髓爾侈捶氏隋委豸\n",
      "隱謹\n",
      "焮靳\n",
      "帶太大轄貝艾蓋\n",
      "敢覽埯\n",
      "合閤荅沓雜\n",
      "彪烋幽虯\n",
      "類醉遂萃\n",
      "賜避益迹昔智寄積義亦恚易辟豉\n",
      "佞徑定\n",
      "哀來開\n",
      "勞刀遭牢曹\n",
      "冉廉漸淹炎染琰占斂鹽\n",
      "政正成盛盈貞姓征并情鄭\n",
      "貢弄鳳送\n",
      "晏澗鴈按旰諫案旦贊\n",
      "妙虐笑肖約\n",
      "幸耿\n",
      "蛙緺媧\n",
      "鑒懺\n",
      "文倦權員彥變囀攣眷云分戀卷圓\n",
      "綏維遺隹追\n",
      "記既溉志豙吏置\n",
      "道抱晧老早浩\n",
      "甚深淫枕針朕稔荏\n",
      "法乏\n",
      "贍豔\n",
      "乎姑吾孤胡都烏吳\n",
      "皛晈鳥了皎\n",
      "賄猥罪\n",
      "典峴殄繭\n",
      "激弔嘯叫\n",
      "妹輩昧佩\n",
      "酉九有柳婦久\n",
      "麵見電練甸\n",
      "夥𠁥蟹買\n",
      "幻幰偃蹇辨免堰\n",
      "摘核革責厄戹\n",
      "越拔伐八發黠\n",
      "戶補賈魯杜古\n",
      "俾婢企弭\n",
      "或國\n",
      "男陷𧸖含南韽\n",
      "刮䫄\n",
      "筆乙密\n",
      "涬冷靈刑萌頂莖爭鼎宏迥丁挺剄耕打經醒\n",
      "巷絳\n",
      "界戒怪壞介拜\n",
      "逼即側力極直\n",
      "灰恢回杯\n",
      "恕署\n",
      "證蒸乘應庱矜冰升膺𩜁仍孕甑兢陵\n",
      "運問\n",
      "勒德得則\n",
      "昆尊䰟渾奔\n",
      "計詣戾\n",
      "緣川泉全宣專\n",
      "四質叱至寐畢必利自一二日悉栗冀器七吉\n",
      "唾臥钁縛貨籰\n",
      "朗黨\n",
      "犯錽范\n",
      "河何俄歌\n",
      "令仙扇然連延\n",
      "店念\n",
      "六逐菊竹福匊\n",
      "㢡掌网妄養放昉丈往兩\n",
      "疋葅\n",
      "恆滕崩增登棱朋\n",
      "賀邏个箇佐\n",
      "訪亮向況讓㨾\n",
      "候奏漏豆遘\n",
      "羽甫矩雨武禹\n",
      "展演翦煙輦先前淺善\n",
      "真振珍遴鄰印刃覲晉人賓\n",
      "𩏩嚴\n",
      "飽巧絞爪\n",
      "割曷葛達\n",
      "還鰥關班頑\n",
      "月厥物勿弗\n",
      "銜監鑑\n",
      "牙加霞巴\n",
      "敏殞\n",
      "泛終梵中弓眾融戎仲宮\n",
      "禾婆和過波戈\n",
      "但寒乾安干\n",
      "兼甜\n",
      "檻𣊟暫唵瞰禫濫蹔黤感\n",
      "里紀史理擬士己\n",
      "墨北黑\n",
      "張羊章莊陽良\n",
      "輒葉攝接涉\n",
      "丸潘貫喚官端筭\n",
      "董摠孔動\n",
      "華瓜花\n",
      "話夬邁快\n",
      "玉欲蜀曲錄\n",
      "在紿改肯等亥愷乃宰\n",
      "膎佳\n",
      "哉才\n",
      "戰膳\n",
      "冬宗\n",
      "任林心尋\n",
      "郤逆戟劇\n",
      "尾匪\n",
      "后垢口厚苟斗\n",
      "恩痕根\n",
      "霸㕦嫁訝駕化亞\n",
      "楷皆駭諧\n",
      "遇注具戍\n",
      "爇衛歲芮銳輟劣稅\n",
      "公蠓空紅東凍\n",
      "扃螢\n",
      "䒦凡\n",
      "緩伴管滿旱纂笴\n",
      "瀌夭表嬌矯喬囂\n",
      "滑屑忽結蔑骨\n",
      "內報秏隊繢對\n",
      "甲狎\n",
      "閑閒山\n",
      "謝夜炙\n",
      "呪宿祐副溜富又救\n",
      "板綰鯇赧\n",
      "協愜頰牒\n",
      "京驚卿\n",
      "病命\n",
      "冢奉踵宂勇隴\n",
      "役隻石\n",
      "奇羈宜\n",
      "末撥\n",
      "桂惠\n",
      "广奄儉檢險\n",
      "翼職\n",
      "篆兗轉緬\n",
      "迄訖乞\n",
      "綜宋統\n",
      "庾主\n",
      "潁營傾頃䁝\n",
      "昭遙招\n",
      "湩𪁪\n",
      "準尹允\n",
      "擊狄歷\n",
      "建阮怨願袁販煩晚元万遠\n",
      "秋周尤由鳩求州流\n",
      "外會最\n",
      "臘榼盍\n",
      "黃橫光旁\n",
      "水誄美軌鄙壘洧癸否\n",
      "郭格博各落穫\n",
      "浮謀\n",
      "玄縣涓\n",
      "卹聿律\n",
      "靜整井郢\n",
      "鎋瞎\n",
      "淮乖懷\n",
      "三酣談甘\n",
      "悚拱\n",
      "臡奚迷兮稽雞低\n",
      "路誤故暮祚擭\n",
      "勃沒\n",
      "礦猛梗杏\n",
      "劫怯業\n",
      "味未沸\n",
      "蔭禁凜今金吟譖鴆簪\n",
      "降雙江\n",
      "耐代愛概\n",
      "謬幼\n",
      "戢急立汁及汲㘝入執\n",
      "慣患\n",
      "影丙永憬景\n",
      "紺暗\n",
      "年顛賢堅田佃\n",
      "禮啓弟米\n",
      "陌白伯虢\n",
      "就僦\n",
      "瓦寡\n",
      "火果\n",
      "篤毒沃酷\n",
      "肺廢吠穢\n",
      "止市\n",
      "胃貴畏\n",
      "肱弘\n",
      "簟忝栝玷\n",
      "據慮助倨御\n",
      "舉渚去与呂許巨\n",
      "紖盡忍軫腎引\n",
      "岳角谷祿\n",
      "焦堯蕭霄宵消要幺邀聊彫\n",
      "斤欣\n",
      "非韋歸微\n",
      "巾銀\n",
      "項講慃\n",
      "媚備祕\n",
      "劒欠釅\n",
      "眉悲\n",
      "豏減斬\n",
      "慶敬\n",
      "歇竭謁\n",
      "閏順峻\n",
      "睡僞瑞\n",
      "櫛瑟\n",
      "本損袞忖\n",
      "艮恨\n",
      "掾釧絹\n",
      "莧襇\n",
      "顏姦\n",
      "絕雪悅\n",
      "迦伽\n",
      "困悶寸\n",
      "吻粉\n",
      "可我\n",
      "很墾\n",
      "小兆\n",
      "榮兵明\n",
      "悸季\n",
      "雉姊几履\n",
      "半漫\n",
      "少照召廟沼\n",
      "詵臻㾕\n",
      "泫畎\n",
      "決穴\n",
      "獲麥摑\n",
      "亙鄧隥贈\n",
      "換段玩亂\n",
      "希衣豈豨依\n",
      "圭攜\n",
      "箭賤碾面線\n",
      "導到\n",
      "矢視\n",
      "曠謗\n",
      "雅罵下\n",
      "靴𦚢𩨷\n",
      "毛袍襃\n",
      "者冶也\n",
      "闃狊鶪\n",
      "愧位\n",
      "鉤侯\n",
      "諍迸\n",
      "拯\n",
      "括活\n",
      "飲錦\n",
      "廣晃\n",
      "讒咸\n",
      "驗窆\n",
      "洽夾\n",
      "喝犗\n",
      "卜木\n",
      "方王\n",
      "偉鬼\n",
      "夫無\n",
      "限簡\n"
     ]
    }
   ],
   "source": [
    "for i in map(m -> join(map(n -> xs[n], m)), c_regress)\n",
    "    println(i)\n",
    "end"
   ]
  }
 ],
 "metadata": {
  "kernelspec": {
   "display_name": "Julia 0.6.4",
   "language": "julia",
   "name": "julia-0.6"
  },
  "language_info": {
   "file_extension": ".jl",
   "mimetype": "application/julia",
   "name": "julia",
   "version": "0.6.4"
  }
 },
 "nbformat": 4,
 "nbformat_minor": 2
}
