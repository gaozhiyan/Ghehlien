{
 "cells": [
  {
   "cell_type": "markdown",
   "metadata": {},
   "source": [
    "# Ghehlien\n",
    "\n",
    "**Ghehlien** (系聯) is a clustering method used in Old Chinese Phonology\n",
    "\n",
    "## 1. Prerequisites\n",
    "\n",
    "### 1.1 Playing with Fuzzy Numbers\n",
    "\n",
    "Defining a new type called `FuzzyFloat`, in which `*` becomes `min` and `+` becomes `max`."
   ]
  },
  {
   "cell_type": "code",
   "execution_count": 1,
   "metadata": {},
   "outputs": [],
   "source": [
    "include(\"fuzzynum.jl\")\n",
    "using fuzzynum"
   ]
  },
  {
   "cell_type": "code",
   "execution_count": 2,
   "metadata": {},
   "outputs": [
    {
     "data": {
      "text/plain": [
       "0.6"
      ]
     },
     "execution_count": 2,
     "metadata": {},
     "output_type": "execute_result"
    }
   ],
   "source": [
    "FuzzyFloat(0.5) + FuzzyFloat(0.6)"
   ]
  },
  {
   "cell_type": "code",
   "execution_count": 3,
   "metadata": {},
   "outputs": [
    {
     "data": {
      "text/plain": [
       "2×2 Array{fuzzynum.FuzzyFloat,2}:\n",
       " 0.4  0.8\n",
       " 0.2  0.6"
      ]
     },
     "execution_count": 3,
     "metadata": {},
     "output_type": "execute_result"
    }
   ],
   "source": [
    "a = [FuzzyFloat(0.4) FuzzyFloat(0.8); FuzzyFloat(0.2) FuzzyFloat(0.6)]"
   ]
  },
  {
   "cell_type": "code",
   "execution_count": 4,
   "metadata": {},
   "outputs": [
    {
     "data": {
      "text/plain": [
       "2×2 Array{fuzzynum.FuzzyFloat,2}:\n",
       " 0.2  0.7\n",
       " 0.5  0.1"
      ]
     },
     "execution_count": 4,
     "metadata": {},
     "output_type": "execute_result"
    }
   ],
   "source": [
    "b = [FuzzyFloat(0.2) FuzzyFloat(0.7); FuzzyFloat(0.5) FuzzyFloat(0.1)]"
   ]
  },
  {
   "cell_type": "code",
   "execution_count": 5,
   "metadata": {},
   "outputs": [
    {
     "data": {
      "text/plain": [
       "2×2 Array{fuzzynum.FuzzyFloat,2}:\n",
       " 0.5  0.4\n",
       " 0.5  0.2"
      ]
     },
     "execution_count": 5,
     "metadata": {},
     "output_type": "execute_result"
    }
   ],
   "source": [
    "a * b"
   ]
  },
  {
   "cell_type": "markdown",
   "metadata": {},
   "source": [
    "### 1.2 Reading data from file"
   ]
  },
  {
   "cell_type": "code",
   "execution_count": 6,
   "metadata": {},
   "outputs": [],
   "source": [
    "using CSV"
   ]
  },
  {
   "cell_type": "markdown",
   "metadata": {},
   "source": [
    "When reading data from a CSV file, the result would be `DataFrames.DataFrame`."
   ]
  },
  {
   "cell_type": "code",
   "execution_count": 7,
   "metadata": {},
   "outputs": [
    {
     "data": {
      "text/html": [
       "<table class=\"data-frame\"><thead><tr><th></th><th>廣韻韻部順序&廣韻韻部原貌(調整前)</th><th>小韻序</th><th>上字</th><th>下字</th><th>中古拼音(polyhedron 版)</th><th>廣韻字頭(覈校後)</th><th>小韻內字序</th></tr></thead><tbody><tr><th>1</th><td>上平01東</td><td>1</td><td>德</td><td>紅</td><td>tung</td><td>東</td><td>1</td></tr><tr><th>2</th><td>上平01東</td><td>1</td><td>德</td><td>紅</td><td>tung</td><td>菄</td><td>2</td></tr><tr><th>3</th><td>上平01東</td><td>1</td><td>德</td><td>紅</td><td>tung</td><td>鶇</td><td>3</td></tr><tr><th>4</th><td>上平01東</td><td>1</td><td>德</td><td>紅</td><td>tung</td><td>䍶</td><td>4</td></tr><tr><th>5</th><td>上平01東</td><td>1</td><td>德</td><td>紅</td><td>tung</td><td>𠍀</td><td>5</td></tr><tr><th>6</th><td>上平01東</td><td>1</td><td>德</td><td>紅</td><td>tung</td><td>倲</td><td>6</td></tr><tr><th>7</th><td>上平01東</td><td>1</td><td>德</td><td>紅</td><td>tung</td><td>𩜍</td><td>7</td></tr><tr><th>8</th><td>上平01東</td><td>1</td><td>德</td><td>紅</td><td>tung</td><td>𢘐</td><td>8</td></tr><tr><th>9</th><td>上平01東</td><td>1</td><td>德</td><td>紅</td><td>tung</td><td>涷</td><td>9</td></tr><tr><th>10</th><td>上平01東</td><td>1</td><td>德</td><td>紅</td><td>tung</td><td>蝀</td><td>10</td></tr><tr><th>11</th><td>上平01東</td><td>1</td><td>德</td><td>紅</td><td>tung</td><td>凍</td><td>11</td></tr><tr><th>12</th><td>上平01東</td><td>1</td><td>德</td><td>紅</td><td>tung</td><td>鯟</td><td>12</td></tr><tr><th>13</th><td>上平01東</td><td>1</td><td>德</td><td>紅</td><td>tung</td><td>𢔅</td><td>13</td></tr><tr><th>14</th><td>上平01東</td><td>1</td><td>德</td><td>紅</td><td>tung</td><td>崠</td><td>14</td></tr><tr><th>15</th><td>上平01東</td><td>1</td><td>德</td><td>紅</td><td>tung</td><td>埬</td><td>15</td></tr><tr><th>16</th><td>上平01東</td><td>1</td><td>德</td><td>紅</td><td>tung</td><td>𧓕</td><td>16</td></tr><tr><th>17</th><td>上平01東</td><td>1</td><td>德</td><td>紅</td><td>tung</td><td>䰤</td><td>17</td></tr><tr><th>18</th><td>上平01東</td><td>2</td><td>徒</td><td>紅</td><td>dung</td><td>同</td><td>1</td></tr><tr><th>19</th><td>上平01東</td><td>2</td><td>徒</td><td>紅</td><td>dung</td><td>仝</td><td>2</td></tr><tr><th>20</th><td>上平01東</td><td>2</td><td>徒</td><td>紅</td><td>dung</td><td>童</td><td>3</td></tr><tr><th>21</th><td>上平01東</td><td>2</td><td>徒</td><td>紅</td><td>dung</td><td>僮</td><td>4</td></tr><tr><th>22</th><td>上平01東</td><td>2</td><td>徒</td><td>紅</td><td>dung</td><td>銅</td><td>5</td></tr><tr><th>23</th><td>上平01東</td><td>2</td><td>徒</td><td>紅</td><td>dung</td><td>桐</td><td>6</td></tr><tr><th>24</th><td>上平01東</td><td>2</td><td>徒</td><td>紅</td><td>dung</td><td>峒</td><td>7</td></tr><tr><th>25</th><td>上平01東</td><td>2</td><td>徒</td><td>紅</td><td>dung</td><td>硐</td><td>8</td></tr><tr><th>26</th><td>上平01東</td><td>2</td><td>徒</td><td>紅</td><td>dung</td><td>𦨴</td><td>9</td></tr><tr><th>27</th><td>上平01東</td><td>2</td><td>徒</td><td>紅</td><td>dung</td><td>𧱁</td><td>10</td></tr><tr><th>28</th><td>上平01東</td><td>2</td><td>徒</td><td>紅</td><td>dung</td><td>筒</td><td>11</td></tr><tr><th>29</th><td>上平01東</td><td>2</td><td>徒</td><td>紅</td><td>dung</td><td>瞳</td><td>12</td></tr><tr><th>30</th><td>上平01東</td><td>2</td><td>徒</td><td>紅</td><td>dung</td><td>㼧</td><td>13</td></tr><tr><th>&vellip;</th><td>&vellip;</td><td>&vellip;</td><td>&vellip;</td><td>&vellip;</td><td>&vellip;</td><td>&vellip;</td><td>&vellip;</td></tr></tbody></table>"
      ],
      "text/plain": [
       "25333×7 DataFrames.DataFrame. Omitted printing of 3 columns\n",
       "│ Row   │ 廣韻韻部順序&廣韻韻部原貌(調整前) │ 小韻序 │ 上字 │ 下字 │\n",
       "├───────┼───────────────────────────────────┼────────┼──────┼──────┤\n",
       "│ 1     │ 上平01東                          │ 1      │ 德   │ 紅   │\n",
       "│ 2     │ 上平01東                          │ 1      │ 德   │ 紅   │\n",
       "│ 3     │ 上平01東                          │ 1      │ 德   │ 紅   │\n",
       "│ 4     │ 上平01東                          │ 1      │ 德   │ 紅   │\n",
       "│ 5     │ 上平01東                          │ 1      │ 德   │ 紅   │\n",
       "│ 6     │ 上平01東                          │ 1      │ 德   │ 紅   │\n",
       "│ 7     │ 上平01東                          │ 1      │ 德   │ 紅   │\n",
       "│ 8     │ 上平01東                          │ 1      │ 德   │ 紅   │\n",
       "│ 9     │ 上平01東                          │ 1      │ 德   │ 紅   │\n",
       "│ 10    │ 上平01東                          │ 1      │ 德   │ 紅   │\n",
       "│ 11    │ 上平01東                          │ 1      │ 德   │ 紅   │\n",
       "⋮\n",
       "│ 25322 │ 下平01先                          │ 576    │ 昨   │ 先   │\n",
       "│ 25323 │ 下平09麻                          │ 777    │ 女   │ 加   │\n",
       "│ 25324 │ 下平17登                          │ 974    │ 武   │ 登   │\n",
       "│ 25325 │ 下平27銜                          │ 1148   │ 古   │ 銜   │\n",
       "│ 25326 │ 上14賄                            │ 1441   │ 七   │ 罪   │\n",
       "│ 25327 │ 去06至                            │ 2230   │ 息   │ 利   │\n",
       "│ 25328 │ 去31襇                            │ 2687   │ 蒲   │ 莧   │\n",
       "│ 25329 │ 去42宕                            │ 2936   │ 他   │ 浪   │\n",
       "│ 25330 │ 去54闞                            │ 3121   │ 古   │ 蹔   │\n",
       "│ 25331 │ 入11沒                            │ 3390   │ 戶   │ 骨   │\n",
       "│ 25332 │ 入16屑                            │ 3473   │ 古   │ 穴   │\n",
       "│ 25333 │ 入29葉                            │ 3817   │ 尼   │ 輒   │"
      ]
     },
     "execution_count": 7,
     "metadata": {},
     "output_type": "execute_result"
    }
   ],
   "source": [
    "df = CSV.read(\"data.csv\", types = Dict(7 => String))"
   ]
  },
  {
   "cell_type": "code",
   "execution_count": 8,
   "metadata": {},
   "outputs": [
    {
     "data": {
      "text/plain": [
       "4.192949907235621"
      ]
     },
     "execution_count": 8,
     "metadata": {},
     "output_type": "execute_result"
    }
   ],
   "source": [
    "mapfoldl(length, +, 0, df[5])/25333  # Process the column 中古拼音(polyhedron 版)"
   ]
  },
  {
   "cell_type": "markdown",
   "metadata": {},
   "source": [
    "## 2. Analyses of Kuangxyonh\n",
    "\n",
    "In this section, the ghehlien of **pyanxchet upper characters** (反切上字) and **pyanxchet lower characters** (反切下字) in **Kuangxyonh** (廣韻) will be analysed.\n",
    "\n",
    "### 2.1 Pyanxchet Upper Characters\n",
    "\n",
    "**2.1.1. Create a new set $S$ and put all upper characters into it:**"
   ]
  },
  {
   "cell_type": "code",
   "execution_count": 9,
   "metadata": {},
   "outputs": [
    {
     "data": {
      "text/plain": [
       "Set(Union{CategoricalArrays.CategoricalString{UInt32}, Missings.Missing}[CategoricalArrays.CategoricalString{UInt32} \"當\", CategoricalArrays.CategoricalString{UInt32} \"跪\", CategoricalArrays.CategoricalString{UInt32} \"女\", CategoricalArrays.CategoricalString{UInt32} \"握\", CategoricalArrays.CategoricalString{UInt32} \"羽\", CategoricalArrays.CategoricalString{UInt32} \"危\", CategoricalArrays.CategoricalString{UInt32} \"尼\", CategoricalArrays.CategoricalString{UInt32} \"羊\", CategoricalArrays.CategoricalString{UInt32} \"同\", CategoricalArrays.CategoricalString{UInt32} \"醋\"  …  CategoricalArrays.CategoricalString{UInt32} \"匹\", CategoricalArrays.CategoricalString{UInt32} \"連\", CategoricalArrays.CategoricalString{UInt32} \"征\", CategoricalArrays.CategoricalString{UInt32} \"并\", CategoricalArrays.CategoricalString{UInt32} \"下\", CategoricalArrays.CategoricalString{UInt32} \"辝\", CategoricalArrays.CategoricalString{UInt32} \"色\", CategoricalArrays.CategoricalString{UInt32} \"卑\", CategoricalArrays.CategoricalString{UInt32} \"視\", CategoricalArrays.CategoricalString{UInt32} \"縛\"])"
      ]
     },
     "execution_count": 9,
     "metadata": {},
     "output_type": "execute_result"
    }
   ],
   "source": [
    "s = Set(df[:上字])"
   ]
  },
  {
   "cell_type": "code",
   "execution_count": 10,
   "metadata": {},
   "outputs": [
    {
     "data": {
      "text/plain": [
       "Set(Union{CategoricalArrays.CategoricalString{UInt32}, Missings.Missing}[CategoricalArrays.CategoricalString{UInt32} \"當\", CategoricalArrays.CategoricalString{UInt32} \"跪\", CategoricalArrays.CategoricalString{UInt32} \"女\", CategoricalArrays.CategoricalString{UInt32} \"握\", CategoricalArrays.CategoricalString{UInt32} \"羽\", CategoricalArrays.CategoricalString{UInt32} \"危\", CategoricalArrays.CategoricalString{UInt32} \"尼\", CategoricalArrays.CategoricalString{UInt32} \"羊\", CategoricalArrays.CategoricalString{UInt32} \"同\", CategoricalArrays.CategoricalString{UInt32} \"醋\"  …  CategoricalArrays.CategoricalString{UInt32} \"匹\", CategoricalArrays.CategoricalString{UInt32} \"連\", CategoricalArrays.CategoricalString{UInt32} \"征\", CategoricalArrays.CategoricalString{UInt32} \"并\", CategoricalArrays.CategoricalString{UInt32} \"下\", CategoricalArrays.CategoricalString{UInt32} \"辝\", CategoricalArrays.CategoricalString{UInt32} \"色\", CategoricalArrays.CategoricalString{UInt32} \"卑\", CategoricalArrays.CategoricalString{UInt32} \"視\", CategoricalArrays.CategoricalString{UInt32} \"縛\"])"
      ]
     },
     "execution_count": 10,
     "metadata": {},
     "output_type": "execute_result"
    }
   ],
   "source": [
    "filter!(x -> typeof(x) != Missings.Missing, s)  # Remove missing data, for those small rhymes (小韻) that has no pyanxchet"
   ]
  },
  {
   "cell_type": "markdown",
   "metadata": {},
   "source": [
    "**2.1.2. Get the length of the set $S$, construct an empty $n*n$ array**"
   ]
  },
  {
   "cell_type": "code",
   "execution_count": 11,
   "metadata": {},
   "outputs": [
    {
     "data": {
      "text/plain": [
       "471"
      ]
     },
     "execution_count": 11,
     "metadata": {},
     "output_type": "execute_result"
    }
   ],
   "source": [
    "n = length(s)"
   ]
  },
  {
   "cell_type": "code",
   "execution_count": 12,
   "metadata": {},
   "outputs": [
    {
     "data": {
      "text/plain": [
       "471×471 Array{Int64,2}:\n",
       " 0  0  0  0  0  0  0  0  0  0  0  0  0  …  0  0  0  0  0  0  0  0  0  0  0  0\n",
       " 0  0  0  0  0  0  0  0  0  0  0  0  0     0  0  0  0  0  0  0  0  0  0  0  0\n",
       " 0  0  0  0  0  0  0  0  0  0  0  0  0     0  0  0  0  0  0  0  0  0  0  0  0\n",
       " 0  0  0  0  0  0  0  0  0  0  0  0  0     0  0  0  0  0  0  0  0  0  0  0  0\n",
       " 0  0  0  0  0  0  0  0  0  0  0  0  0     0  0  0  0  0  0  0  0  0  0  0  0\n",
       " 0  0  0  0  0  0  0  0  0  0  0  0  0  …  0  0  0  0  0  0  0  0  0  0  0  0\n",
       " 0  0  0  0  0  0  0  0  0  0  0  0  0     0  0  0  0  0  0  0  0  0  0  0  0\n",
       " 0  0  0  0  0  0  0  0  0  0  0  0  0     0  0  0  0  0  0  0  0  0  0  0  0\n",
       " 0  0  0  0  0  0  0  0  0  0  0  0  0     0  0  0  0  0  0  0  0  0  0  0  0\n",
       " 0  0  0  0  0  0  0  0  0  0  0  0  0     0  0  0  0  0  0  0  0  0  0  0  0\n",
       " 0  0  0  0  0  0  0  0  0  0  0  0  0  …  0  0  0  0  0  0  0  0  0  0  0  0\n",
       " 0  0  0  0  0  0  0  0  0  0  0  0  0     0  0  0  0  0  0  0  0  0  0  0  0\n",
       " 0  0  0  0  0  0  0  0  0  0  0  0  0     0  0  0  0  0  0  0  0  0  0  0  0\n",
       " ⋮              ⋮              ⋮        ⋱     ⋮              ⋮              ⋮\n",
       " 0  0  0  0  0  0  0  0  0  0  0  0  0     0  0  0  0  0  0  0  0  0  0  0  0\n",
       " 0  0  0  0  0  0  0  0  0  0  0  0  0  …  0  0  0  0  0  0  0  0  0  0  0  0\n",
       " 0  0  0  0  0  0  0  0  0  0  0  0  0     0  0  0  0  0  0  0  0  0  0  0  0\n",
       " 0  0  0  0  0  0  0  0  0  0  0  0  0     0  0  0  0  0  0  0  0  0  0  0  0\n",
       " 0  0  0  0  0  0  0  0  0  0  0  0  0     0  0  0  0  0  0  0  0  0  0  0  0\n",
       " 0  0  0  0  0  0  0  0  0  0  0  0  0     0  0  0  0  0  0  0  0  0  0  0  0\n",
       " 0  0  0  0  0  0  0  0  0  0  0  0  0  …  0  0  0  0  0  0  0  0  0  0  0  0\n",
       " 0  0  0  0  0  0  0  0  0  0  0  0  0     0  0  0  0  0  0  0  0  0  0  0  0\n",
       " 0  0  0  0  0  0  0  0  0  0  0  0  0     0  0  0  0  0  0  0  0  0  0  0  0\n",
       " 0  0  0  0  0  0  0  0  0  0  0  0  0     0  0  0  0  0  0  0  0  0  0  0  0\n",
       " 0  0  0  0  0  0  0  0  0  0  0  0  0     0  0  0  0  0  0  0  0  0  0  0  0\n",
       " 0  0  0  0  0  0  0  0  0  0  0  0  0  …  0  0  0  0  0  0  0  0  0  0  0  0"
      ]
     },
     "execution_count": 12,
     "metadata": {},
     "output_type": "execute_result"
    }
   ],
   "source": [
    "arr = zeros(Int, n, n)"
   ]
  },
  {
   "cell_type": "markdown",
   "metadata": {},
   "source": [
    "**2.1.3. Generate a list $xs$ from set $S$**"
   ]
  },
  {
   "cell_type": "code",
   "execution_count": 13,
   "metadata": {},
   "outputs": [
    {
     "data": {
      "text/plain": [
       "setToList (generic function with 1 method)"
      ]
     },
     "execution_count": 13,
     "metadata": {},
     "output_type": "execute_result"
    }
   ],
   "source": [
    "function setToList(s)\n",
    "    dupS = copy(s)\n",
    "    n = length(dupS)\n",
    "    xs = []\n",
    "    for i in 1:n\n",
    "        push!(xs, pop!(dupS))\n",
    "    end\n",
    "    xs\n",
    "end"
   ]
  },
  {
   "cell_type": "code",
   "execution_count": 14,
   "metadata": {},
   "outputs": [
    {
     "data": {
      "text/plain": [
       "471-element Array{Any,1}:\n",
       " \"兹\"\n",
       " \"鋤\"\n",
       " \"爭\"\n",
       " \"明\"\n",
       " \"之\"\n",
       " \"數\"\n",
       " \"北\"\n",
       " \"彼\"\n",
       " \"衢\"\n",
       " \"爲\"\n",
       " \"匹\"\n",
       " \"愛\"\n",
       " \"傍\"\n",
       " ⋮  \n",
       " \"平\"\n",
       " \"區\"\n",
       " \"速\"\n",
       " \"始\"\n",
       " \"呵\"\n",
       " \"部\"\n",
       " \"諸\"\n",
       " \"丕\"\n",
       " \"榮\"\n",
       " \"遵\"\n",
       " \"除\"\n",
       " \"狂\""
      ]
     },
     "execution_count": 14,
     "metadata": {},
     "output_type": "execute_result"
    }
   ],
   "source": [
    "xs = setToList(s)"
   ]
  },
  {
   "cell_type": "markdown",
   "metadata": {},
   "source": [
    "**2.1.4. Set `count` = 0**"
   ]
  },
  {
   "cell_type": "code",
   "execution_count": 15,
   "metadata": {},
   "outputs": [
    {
     "data": {
      "text/plain": [
       "0"
      ]
     },
     "execution_count": 15,
     "metadata": {},
     "output_type": "execute_result"
    }
   ],
   "source": [
    "count = 0"
   ]
  },
  {
   "cell_type": "markdown",
   "metadata": {},
   "source": [
    "**2.1.5. Iterate `xs`, for all `x` in `xs`, find the upper character of `x`**\n",
    "\n",
    "**Then, let $i_1$ be the index of `x` in `xs`, $i_2$ be the index of (the upper character of `x`) in `xs`**\n",
    "\n",
    "**Increace one for array $(i_1, i_2)$ and $(i_2, i_1)$**"
   ]
  },
  {
   "cell_type": "code",
   "execution_count": 16,
   "metadata": {},
   "outputs": [
    {
     "data": {
      "text/plain": [
       "findUpperChar (generic function with 1 method)"
      ]
     },
     "execution_count": 16,
     "metadata": {},
     "output_type": "execute_result"
    }
   ],
   "source": [
    "function findUpperChar(ch)\n",
    "    for (wrd, ucOfWrd) in zip(df[6], df[:上字])\n",
    "        if wrd == ch\n",
    "            return ucOfWrd\n",
    "        end\n",
    "    end\n",
    "end"
   ]
  },
  {
   "cell_type": "code",
   "execution_count": 17,
   "metadata": {},
   "outputs": [
    {
     "data": {
      "text/plain": [
       "getUpperCharIndex (generic function with 1 method)"
      ]
     },
     "execution_count": 17,
     "metadata": {},
     "output_type": "execute_result"
    }
   ],
   "source": [
    "function getUpperCharIndex(ch :: typeof(xs[1]))\n",
    "    for i in 1:n\n",
    "        if ch == xs[i]\n",
    "            return i\n",
    "        end\n",
    "    end\n",
    "end"
   ]
  },
  {
   "cell_type": "code",
   "execution_count": 18,
   "metadata": {},
   "outputs": [
    {
     "data": {
      "text/plain": [
       "33"
      ]
     },
     "execution_count": 18,
     "metadata": {},
     "output_type": "execute_result"
    }
   ],
   "source": [
    "getUpperCharIndex(findUpperChar(df[6][1]))"
   ]
  },
  {
   "cell_type": "code",
   "execution_count": 19,
   "metadata": {},
   "outputs": [],
   "source": [
    "for i in 1:n\n",
    "    i1 = i\n",
    "    i2 = getUpperCharIndex(findUpperChar(xs[i]))\n",
    "    arr[i1, i2] += 1\n",
    "    arr[i2, i1] += 1\n",
    "end"
   ]
  },
  {
   "cell_type": "markdown",
   "metadata": {},
   "source": [
    "**2.1.6. Get the transitive closure of `arr`**"
   ]
  },
  {
   "cell_type": "code",
   "execution_count": 20,
   "metadata": {},
   "outputs": [
    {
     "data": {
      "text/plain": [
       "471×471 Array{fuzzynum.FuzzyFloat,2}:\n",
       " 0.0  0.0  0.0  0.0  0.0  0.0  0.0  0.0  …  0.0  0.0  0.0  0.0  0.0  0.0  0.0\n",
       " 0.0  0.0  0.0  0.0  0.0  0.0  0.0  0.0     0.0  0.0  0.0  0.0  0.0  0.0  0.0\n",
       " 0.0  0.0  0.0  0.0  0.0  0.0  0.0  0.0     0.0  0.0  0.0  0.0  0.0  0.0  0.0\n",
       " 0.0  0.0  0.0  0.0  0.0  0.0  0.0  0.0     0.0  0.0  0.0  0.0  0.0  0.0  0.0\n",
       " 0.0  0.0  0.0  0.0  0.0  0.0  0.0  0.0     0.0  0.0  0.0  0.0  0.0  0.0  0.0\n",
       " 0.0  0.0  0.0  0.0  0.0  0.0  0.0  0.0  …  0.0  0.0  0.0  0.0  0.0  0.0  0.0\n",
       " 0.0  0.0  0.0  0.0  0.0  0.0  0.0  0.0     0.0  0.0  0.0  0.0  0.0  0.0  0.0\n",
       " 0.0  0.0  0.0  0.0  0.0  0.0  0.0  0.0     0.0  0.0  0.0  0.0  0.0  0.0  0.0\n",
       " 0.0  0.0  0.0  0.0  0.0  0.0  0.0  0.0     0.0  0.0  0.0  0.0  0.0  0.0  0.0\n",
       " 0.0  0.0  0.0  0.0  0.0  0.0  0.0  0.0     0.0  0.0  0.0  0.0  0.0  0.0  0.0\n",
       " 0.0  0.0  0.0  0.0  0.0  0.0  0.0  0.0  …  0.0  0.0  0.0  0.0  0.0  0.0  0.0\n",
       " 0.0  0.0  0.0  0.0  0.0  0.0  0.0  0.0     0.0  0.0  0.0  0.0  0.0  0.0  0.0\n",
       " 0.0  0.0  0.0  0.0  0.0  0.0  0.0  0.0     0.0  0.0  0.0  0.0  0.0  0.0  0.0\n",
       " ⋮                        ⋮              ⋱       ⋮                        ⋮  \n",
       " 0.0  0.0  0.0  0.0  0.0  0.0  0.0  0.0     0.0  0.0  0.0  0.0  0.0  0.0  0.0\n",
       " 0.0  0.0  0.0  0.0  0.0  0.0  0.0  0.0  …  0.0  0.0  0.0  0.0  0.0  0.0  0.0\n",
       " 0.0  0.0  0.0  0.0  0.0  0.0  0.0  0.0     0.0  0.0  0.0  0.0  0.0  0.0  0.0\n",
       " 0.0  0.0  0.0  0.0  0.0  0.0  0.0  0.0     0.0  0.0  0.0  0.0  0.0  0.0  0.0\n",
       " 0.0  0.0  0.0  0.0  0.0  0.0  0.0  0.0     0.0  0.0  0.0  0.0  0.0  0.0  0.0\n",
       " 0.0  0.0  0.0  0.0  0.0  0.0  0.0  0.0     0.0  0.0  0.0  0.0  0.0  0.0  0.0\n",
       " 0.0  0.0  0.0  0.0  0.0  0.0  0.0  0.0  …  0.0  0.0  0.0  0.0  0.0  0.0  0.0\n",
       " 0.0  0.0  0.0  0.0  0.0  0.0  0.0  0.0     0.0  0.0  0.0  0.0  0.0  0.0  0.0\n",
       " 0.0  0.0  0.0  0.0  0.0  0.0  0.0  0.0     0.0  0.0  0.0  0.0  0.0  0.0  0.0\n",
       " 0.0  0.0  0.0  0.0  0.0  0.0  0.0  0.0     0.0  0.0  0.0  0.0  0.0  0.0  0.0\n",
       " 0.0  0.0  0.0  0.0  0.0  0.0  0.0  0.0     0.0  0.0  0.0  0.0  0.0  0.0  0.0\n",
       " 0.0  0.0  0.0  0.0  0.0  0.0  0.0  0.0  …  0.0  0.0  0.0  0.0  0.0  0.0  0.0"
      ]
     },
     "execution_count": 20,
     "metadata": {},
     "output_type": "execute_result"
    }
   ],
   "source": [
    "FuzzyArr = map(x -> FuzzyFloat(x / n), arr)"
   ]
  },
  {
   "cell_type": "code",
   "execution_count": 21,
   "metadata": {},
   "outputs": [
    {
     "data": {
      "text/plain": [
       "getTransitiveClosure (generic function with 1 method)"
      ]
     },
     "execution_count": 21,
     "metadata": {},
     "output_type": "execute_result"
    }
   ],
   "source": [
    "function getTransitiveClosure(FuzzyArr)\n",
    "    while true\n",
    "        arr_new = FuzzyArr * FuzzyArr\n",
    "        if arr_new == FuzzyArr\n",
    "            return arr_new\n",
    "        end\n",
    "        FuzzyArr = arr_new\n",
    "    end\n",
    "end       "
   ]
  },
  {
   "cell_type": "code",
   "execution_count": 22,
   "metadata": {},
   "outputs": [
    {
     "data": {
      "text/plain": [
       "471×471 Array{fuzzynum.FuzzyFloat,2}:\n",
       " 0.00212314  0.0         0.0         …  0.0         0.0         0.0       \n",
       " 0.0         0.00212314  0.0            0.0         0.0         0.0       \n",
       " 0.0         0.0         0.00212314     0.0         0.0         0.0       \n",
       " 0.0         0.0         0.0            0.0         0.0         0.0       \n",
       " 0.0         0.0         0.0            0.0         0.0         0.0       \n",
       " 0.0         0.0         0.0         …  0.0         0.0         0.0       \n",
       " 0.0         0.0         0.0            0.0         0.0         0.0       \n",
       " 0.0         0.0         0.0            0.0         0.0         0.0       \n",
       " 0.0         0.0         0.0            0.0         0.0         0.0       \n",
       " 0.0         0.0         0.0            0.0         0.0         0.0       \n",
       " 0.0         0.0         0.0         …  0.0         0.0         0.0       \n",
       " 0.0         0.0         0.0            0.0         0.0         0.0       \n",
       " 0.0         0.0         0.0            0.0         0.0         0.0       \n",
       " ⋮                                   ⋱                          ⋮         \n",
       " 0.0         0.0         0.0            0.0         0.0         0.0       \n",
       " 0.0         0.0         0.0         …  0.0         0.0         0.0       \n",
       " 0.0         0.0         0.0            0.0         0.0         0.0       \n",
       " 0.0         0.0         0.0            0.0         0.0         0.0       \n",
       " 0.0         0.0         0.0            0.0         0.0         0.0       \n",
       " 0.0         0.0         0.0            0.0         0.0         0.0       \n",
       " 0.0         0.0         0.0         …  0.0         0.0         0.0       \n",
       " 0.0         0.0         0.0            0.0         0.0         0.0       \n",
       " 0.0         0.0         0.0            0.0         0.0         0.0       \n",
       " 0.0         0.0         0.0            0.00212314  0.0         0.0       \n",
       " 0.0         0.0         0.0            0.0         0.00424628  0.0       \n",
       " 0.0         0.0         0.0         …  0.0         0.0         0.00212314"
      ]
     },
     "execution_count": 22,
     "metadata": {},
     "output_type": "execute_result"
    }
   ],
   "source": [
    "FuzzyArr_TC = getTransitiveClosure(FuzzyArr)"
   ]
  },
  {
   "cell_type": "code",
   "execution_count": 23,
   "metadata": {},
   "outputs": [
    {
     "data": {
      "text/plain": [
       "Set([0.00212314, 0.00424628, 0.0])"
      ]
     },
     "execution_count": 23,
     "metadata": {},
     "output_type": "execute_result"
    }
   ],
   "source": [
    "Set(map(x -> Float64(x), FuzzyArr_TC))"
   ]
  },
  {
   "cell_type": "code",
   "execution_count": 24,
   "metadata": {},
   "outputs": [
    {
     "data": {
      "text/plain": [
       "471×471 Array{fuzzynum.FuzzyFloat,2}:\n",
       " 1.0  0.0  0.0  0.0  0.0  0.0  0.0  0.0  …  0.0  0.0  0.0  0.0  0.0  0.0  0.0\n",
       " 0.0  1.0  0.0  0.0  0.0  0.0  0.0  0.0     0.0  0.0  0.0  0.0  0.0  0.0  0.0\n",
       " 0.0  0.0  1.0  0.0  0.0  0.0  0.0  0.0     0.0  0.0  0.0  0.0  0.0  0.0  0.0\n",
       " 0.0  0.0  0.0  1.0  0.0  0.0  0.0  0.0     0.0  0.0  0.0  0.0  0.0  0.0  0.0\n",
       " 0.0  0.0  0.0  0.0  1.0  0.0  0.0  0.0     0.0  1.0  0.0  0.0  0.0  0.0  0.0\n",
       " 0.0  0.0  0.0  0.0  0.0  1.0  0.0  0.0  …  0.0  0.0  0.0  0.0  0.0  0.0  0.0\n",
       " 0.0  0.0  0.0  0.0  0.0  0.0  1.0  0.0     0.0  0.0  0.0  0.0  0.0  0.0  0.0\n",
       " 0.0  0.0  0.0  0.0  0.0  0.0  0.0  1.0     0.0  0.0  0.0  0.0  0.0  0.0  0.0\n",
       " 0.0  0.0  0.0  0.0  0.0  0.0  0.0  0.0     0.0  0.0  0.0  0.0  0.0  0.0  0.0\n",
       " 0.0  0.0  0.0  0.0  0.0  0.0  0.0  0.0     0.0  0.0  0.0  1.0  0.0  0.0  0.0\n",
       " 0.0  0.0  0.0  0.0  0.0  0.0  0.0  0.0  …  0.0  0.0  0.0  0.0  0.0  0.0  0.0\n",
       " 0.0  0.0  0.0  0.0  0.0  0.0  0.0  0.0     0.0  0.0  0.0  0.0  0.0  0.0  0.0\n",
       " 0.0  0.0  0.0  0.0  0.0  0.0  0.0  0.0     0.0  0.0  0.0  0.0  0.0  0.0  0.0\n",
       " ⋮                        ⋮              ⋱       ⋮                        ⋮  \n",
       " 0.0  0.0  0.0  0.0  0.0  0.0  0.0  0.0     1.0  0.0  0.0  0.0  0.0  0.0  0.0\n",
       " 0.0  0.0  0.0  0.0  0.0  0.0  0.0  0.0  …  0.0  0.0  0.0  0.0  0.0  0.0  0.0\n",
       " 0.0  0.0  0.0  0.0  0.0  0.0  0.0  0.0     0.0  0.0  0.0  0.0  0.0  0.0  0.0\n",
       " 0.0  0.0  0.0  0.0  0.0  0.0  0.0  0.0     0.0  0.0  0.0  0.0  0.0  0.0  0.0\n",
       " 0.0  0.0  0.0  0.0  0.0  0.0  0.0  0.0     0.0  0.0  0.0  0.0  0.0  0.0  0.0\n",
       " 0.0  0.0  0.0  0.0  0.0  0.0  0.0  0.0     1.0  0.0  0.0  0.0  0.0  0.0  0.0\n",
       " 0.0  0.0  0.0  0.0  1.0  0.0  0.0  0.0  …  0.0  1.0  0.0  0.0  0.0  0.0  0.0\n",
       " 0.0  0.0  0.0  0.0  0.0  0.0  0.0  0.0     0.0  0.0  1.0  0.0  0.0  0.0  0.0\n",
       " 0.0  0.0  0.0  0.0  0.0  0.0  0.0  0.0     0.0  0.0  0.0  1.0  0.0  0.0  0.0\n",
       " 0.0  0.0  0.0  0.0  0.0  0.0  0.0  0.0     0.0  0.0  0.0  0.0  1.0  0.0  0.0\n",
       " 0.0  0.0  0.0  0.0  0.0  0.0  0.0  0.0     0.0  0.0  0.0  0.0  0.0  1.0  0.0\n",
       " 0.0  0.0  0.0  0.0  0.0  0.0  0.0  0.0  …  0.0  0.0  0.0  0.0  0.0  0.0  1.0"
      ]
     },
     "execution_count": 24,
     "metadata": {},
     "output_type": "execute_result"
    }
   ],
   "source": [
    "FuzzyArr_Regression_TC = getTransitiveClosure(map(x -> FuzzyFloat(x == zero(x) ? 0.0 : 1.0), FuzzyArr))"
   ]
  },
  {
   "cell_type": "code",
   "execution_count": 25,
   "metadata": {},
   "outputs": [
    {
     "data": {
      "text/plain": [
       "getCluster (generic function with 1 method)"
      ]
     },
     "execution_count": 25,
     "metadata": {},
     "output_type": "execute_result"
    }
   ],
   "source": [
    "function getCluster(arr)\n",
    "    arr_new = map(x -> Float64(x), arr)\n",
    "\n",
    "    ss = []\n",
    "    for i in 1:n\n",
    "        if all(xs -> !in(i, xs), ss)\n",
    "            s = map(x -> x[2], filter(x -> x[1] != zero(x[1]), zip(view(arr_new, :, i), collect(1:n))))\n",
    "            if length(s) != 0\n",
    "                push!(ss, s)\n",
    "            end\n",
    "        end\n",
    "    end\n",
    "    ss\n",
    "end"
   ]
  },
  {
   "cell_type": "code",
   "execution_count": 26,
   "metadata": {},
   "outputs": [
    {
     "name": "stderr",
     "output_type": "stream",
     "text": [
      "\u001b[1m\u001b[33mWARNING: \u001b[39m\u001b[22m\u001b[33mfilter(flt, itr) is deprecated, use Iterators.filter(flt, itr) instead.\u001b[39m\n",
      "Stacktrace:\n",
      " [1] \u001b[1mdepwarn\u001b[22m\u001b[22m\u001b[1m(\u001b[22m\u001b[22m::String, ::Symbol\u001b[1m)\u001b[22m\u001b[22m at \u001b[1m.\\deprecated.jl:70\u001b[22m\u001b[22m\n",
      " [2] \u001b[1mfilter\u001b[22m\u001b[22m\u001b[1m(\u001b[22m\u001b[22m::Function, ::Base.Iterators.Zip2{SubArray{Float64,1,Array{Float64,2},Tuple{Base.Slice{Base.OneTo{Int64}},Int64},true},Array{Int64,1}}\u001b[1m)\u001b[22m\u001b[22m at \u001b[1m.\\deprecated.jl:57\u001b[22m\u001b[22m\n",
      " [3] \u001b[1mgetCluster\u001b[22m\u001b[22m\u001b[1m(\u001b[22m\u001b[22m::Array{fuzzynum.FuzzyFloat,2}\u001b[1m)\u001b[22m\u001b[22m at \u001b[1m.\\In[25]:7\u001b[22m\u001b[22m\n",
      " [4] \u001b[1minclude_string\u001b[22m\u001b[22m\u001b[1m(\u001b[22m\u001b[22m::String, ::String\u001b[1m)\u001b[22m\u001b[22m at \u001b[1m.\\loading.jl:522\u001b[22m\u001b[22m\n",
      " [5] \u001b[1minclude_string\u001b[22m\u001b[22m\u001b[1m(\u001b[22m\u001b[22m::Module, ::String, ::String\u001b[1m)\u001b[22m\u001b[22m at \u001b[1mE:\\julia-depot\\v0.6\\Compat\\src\\Compat.jl:88\u001b[22m\u001b[22m\n",
      " [6] \u001b[1mexecute_request\u001b[22m\u001b[22m\u001b[1m(\u001b[22m\u001b[22m::ZMQ.Socket, ::IJulia.Msg\u001b[1m)\u001b[22m\u001b[22m at \u001b[1mE:\\julia-depot\\v0.6\\IJulia\\src\\execute_request.jl:180\u001b[22m\u001b[22m\n",
      " [7] \u001b[1m(::Compat.#inner#14{Array{Any,1},IJulia.#execute_request,Tuple{ZMQ.Socket,IJulia.Msg}})\u001b[22m\u001b[22m\u001b[1m(\u001b[22m\u001b[22m\u001b[1m)\u001b[22m\u001b[22m at \u001b[1mE:\\julia-depot\\v0.6\\Compat\\src\\Compat.jl:332\u001b[22m\u001b[22m\n",
      " [8] \u001b[1meventloop\u001b[22m\u001b[22m\u001b[1m(\u001b[22m\u001b[22m::ZMQ.Socket\u001b[1m)\u001b[22m\u001b[22m at \u001b[1mE:\\julia-depot\\v0.6\\IJulia\\src\\eventloop.jl:8\u001b[22m\u001b[22m\n",
      " [9] \u001b[1m(::IJulia.##15#18)\u001b[22m\u001b[22m\u001b[1m(\u001b[22m\u001b[22m\u001b[1m)\u001b[22m\u001b[22m at \u001b[1m.\\task.jl:335\u001b[22m\u001b[22m\n",
      "while loading In[26], in expression starting on line 1\n"
     ]
    },
    {
     "data": {
      "text/plain": [
       "88-element Array{Any,1}:\n",
       " [1, 30, 203, 222, 263, 421, 443]                                         \n",
       " [2, 74, 84, 118, 158, 360, 391, 397]                                     \n",
       " [3, 134, 230, 380, 438]                                                  \n",
       " [4, 17, 41, 48, 52, 90, 119, 258, 285, 298, 366, 426]                    \n",
       " [5, 83, 86, 243, 289, 335, 408, 466]                                     \n",
       " [6, 71, 115, 133, 138, 233, 244, 305]                                    \n",
       " [7, 40, 79, 320, 388, 407]                                               \n",
       " [8, 63, 65, 68, 82, 98, 177, 192, 193, 268, 347, 352, 355, 427, 436, 454]\n",
       " [9, 80, 319, 329, 435]                                                   \n",
       " [10, 95, 266, 280, 359, 468]                                             \n",
       " [11]                                                                     \n",
       " [12, 23, 145, 162]                                                       \n",
       " [13, 127, 146, 198, 317, 433]                                            \n",
       " ⋮                                                                        \n",
       " [294, 372]                                                               \n",
       " [306, 441]                                                               \n",
       " [312, 387]                                                               \n",
       " [326]                                                                    \n",
       " [339]                                                                    \n",
       " [343, 444, 457]                                                          \n",
       " [356]                                                                    \n",
       " [358]                                                                    \n",
       " [395]                                                                    \n",
       " [401, 464]                                                               \n",
       " [410]                                                                    \n",
       " [437]                                                                    "
      ]
     },
     "execution_count": 26,
     "metadata": {},
     "output_type": "execute_result"
    }
   ],
   "source": [
    "c_regress = getCluster(FuzzyArr_Regression_TC)"
   ]
  },
  {
   "cell_type": "code",
   "execution_count": 27,
   "metadata": {},
   "outputs": [
    {
     "name": "stdout",
     "output_type": "stream",
     "text": [
      "兹匠疾自情慈秦\n",
      "鋤鶵查豺雛崱鉏牀\n",
      "爭阻莊鄒簪\n",
      "明靡文美武亡望眉巫彌綿無\n",
      "之氏占旨煑識支諸\n",
      "數山沙色疏疎生砂\n",
      "北伯布補百晡\n",
      "彼兵并防筆婢卑方皮縛畀分裴封附房\n",
      "衢具渠臼巨\n",
      "爲于有韋王榮\n",
      "匹\n",
      "愛哀安鷖\n",
      "傍白捕薄蒲步\n",
      "先胥須息素寫速\n",
      "雨筠羽薳洧雲云永\n",
      "胡侯乎懷\n",
      "父甫必弼陂符扶毗馮浮府鄙便平部\n",
      "弋台隨悅實營辝余似旬夷辭以羊乘食寺詳移翼徐祥予與餘神夕\n",
      "堂唐特同陀度杜\n",
      "憂謁握央依烟委衣一乙伊憶\n",
      "驅傾跪袪乞丘欽詰羌卿窺墟區\n",
      "側仄\n",
      "博邊巴\n",
      "獲下戶何黃\n",
      "署是視市寔殖\n",
      "德得\n",
      "嘗承成常蜀殊時\n",
      "力良離\n",
      "借𩛠醉作即姊漸則遵\n",
      "當冬\n",
      "仕崇助士\n",
      "廁創瘡初叉楚測芻\n",
      "連縷里呂林\n",
      "郎\n",
      "章征止脂職正\n",
      "治丈持佇植遟墜池場柱馳除\n",
      "天吐土託通\n",
      "蘇司辛雖斯桑思相私悉\n",
      "虛香羲朽休興況許喜\n",
      "姑乖各過兼楷公佳格\n",
      "母模慕摸謨\n",
      "洛勒落\n",
      "如儒耳汝\n",
      "火虎花馨荒海\n",
      "宅臣直\n",
      "豬追張竹丁卓徵陟珍迍知中褚猪\n",
      "蒼取倉遷親\n",
      "牛俄虞魚疑研愚吾\n",
      "乃內諾㚷\n",
      "康口謙枯恪空牽客\n",
      "女\n",
      "強俟求暨奇其狂\n",
      "披拂芳峯丕\n",
      "弃起曲綺去豈\n",
      "前藏在徂才\n",
      "挹於紆\n",
      "徒\n",
      "舉規居九俱紀几吉\n",
      "資祖將子臧\n",
      "敷孚撫妃\n",
      "式釋書舒始\n",
      "矢施詩試傷失湯賞商\n",
      "麁采麤醋青七千\n",
      "抽楮癡敕\n",
      "滂\n",
      "充處赤尺叱\n",
      "拏尼穠\n",
      "都\n",
      "烏\n",
      "兒人而仍\n",
      "雌\n",
      "危宜玉遇擬五語\n",
      "奴那\n",
      "莫\n",
      "恥丑\n",
      "古詭\n",
      "魯練\n",
      "苦可\n",
      "所史\n",
      "普\n",
      "此\n",
      "賴盧來\n",
      "他\n",
      "譬\n",
      "多\n",
      "呼呵\n",
      "昌\n",
      "昨\n"
     ]
    }
   ],
   "source": [
    "for i in map(m -> join(map(n -> xs[n], m)), c_regress)\n",
    "    println(i)\n",
    "end"
   ]
  },
  {
   "cell_type": "markdown",
   "metadata": {},
   "source": [
    "### 2.2 Pyanxchet Lower Characters\n",
    "\n",
    "**2.2.1. Create a new set $S$ and put all upper characters into it:**"
   ]
  },
  {
   "cell_type": "code",
   "execution_count": 28,
   "metadata": {},
   "outputs": [
    {
     "data": {
      "text/plain": [
       "Set(Union{CategoricalArrays.CategoricalString{UInt32}, Missings.Missing}[CategoricalArrays.CategoricalString{UInt32} \"懈\", CategoricalArrays.CategoricalString{UInt32} \"甾\", CategoricalArrays.CategoricalString{UInt32} \"當\", CategoricalArrays.CategoricalString{UInt32} \"甚\", CategoricalArrays.CategoricalString{UInt32} \"法\", CategoricalArrays.CategoricalString{UInt32} \"賄\", CategoricalArrays.CategoricalString{UInt32} \"越\", CategoricalArrays.CategoricalString{UInt32} \"俾\", CategoricalArrays.CategoricalString{UInt32} \"運\", CategoricalArrays.CategoricalString{UInt32} \"河\"  …  CategoricalArrays.CategoricalString{UInt32} \"亞\", CategoricalArrays.CategoricalString{UInt32} \"寸\", CategoricalArrays.CategoricalString{UInt32} \"教\", CategoricalArrays.CategoricalString{UInt32} \"戀\", CategoricalArrays.CategoricalString{UInt32} \"畏\", CategoricalArrays.CategoricalString{UInt32} \"位\", CategoricalArrays.CategoricalString{UInt32} \"鄭\", CategoricalArrays.CategoricalString{UInt32} \"醒\", CategoricalArrays.CategoricalString{UInt32} \"贈\", CategoricalArrays.CategoricalString{UInt32} \"圓\"])"
      ]
     },
     "execution_count": 28,
     "metadata": {},
     "output_type": "execute_result"
    }
   ],
   "source": [
    "s = Set(df[:下字])"
   ]
  },
  {
   "cell_type": "code",
   "execution_count": 29,
   "metadata": {},
   "outputs": [
    {
     "data": {
      "text/plain": [
       "Set(Union{CategoricalArrays.CategoricalString{UInt32}, Missings.Missing}[CategoricalArrays.CategoricalString{UInt32} \"懈\", CategoricalArrays.CategoricalString{UInt32} \"甾\", CategoricalArrays.CategoricalString{UInt32} \"當\", CategoricalArrays.CategoricalString{UInt32} \"甚\", CategoricalArrays.CategoricalString{UInt32} \"法\", CategoricalArrays.CategoricalString{UInt32} \"賄\", CategoricalArrays.CategoricalString{UInt32} \"越\", CategoricalArrays.CategoricalString{UInt32} \"俾\", CategoricalArrays.CategoricalString{UInt32} \"運\", CategoricalArrays.CategoricalString{UInt32} \"河\"  …  CategoricalArrays.CategoricalString{UInt32} \"亞\", CategoricalArrays.CategoricalString{UInt32} \"寸\", CategoricalArrays.CategoricalString{UInt32} \"教\", CategoricalArrays.CategoricalString{UInt32} \"戀\", CategoricalArrays.CategoricalString{UInt32} \"畏\", CategoricalArrays.CategoricalString{UInt32} \"位\", CategoricalArrays.CategoricalString{UInt32} \"鄭\", CategoricalArrays.CategoricalString{UInt32} \"醒\", CategoricalArrays.CategoricalString{UInt32} \"贈\", CategoricalArrays.CategoricalString{UInt32} \"圓\"])"
      ]
     },
     "execution_count": 29,
     "metadata": {},
     "output_type": "execute_result"
    }
   ],
   "source": [
    "filter!(x -> typeof(x) != Missings.Missing, s)  # Remove missing data, for those small rhymes (小韻) that has no pyanxchet"
   ]
  },
  {
   "cell_type": "markdown",
   "metadata": {},
   "source": [
    "**2.2.2. Get the length of the set $S$, construct an empty $n*n$ array**"
   ]
  },
  {
   "cell_type": "code",
   "execution_count": 30,
   "metadata": {},
   "outputs": [
    {
     "data": {
      "text/plain": [
       "1187"
      ]
     },
     "execution_count": 30,
     "metadata": {},
     "output_type": "execute_result"
    }
   ],
   "source": [
    "n = length(s)"
   ]
  },
  {
   "cell_type": "code",
   "execution_count": 31,
   "metadata": {},
   "outputs": [
    {
     "data": {
      "text/plain": [
       "1187×1187 Array{Int64,2}:\n",
       " 0  0  0  0  0  0  0  0  0  0  0  0  0  …  0  0  0  0  0  0  0  0  0  0  0  0\n",
       " 0  0  0  0  0  0  0  0  0  0  0  0  0     0  0  0  0  0  0  0  0  0  0  0  0\n",
       " 0  0  0  0  0  0  0  0  0  0  0  0  0     0  0  0  0  0  0  0  0  0  0  0  0\n",
       " 0  0  0  0  0  0  0  0  0  0  0  0  0     0  0  0  0  0  0  0  0  0  0  0  0\n",
       " 0  0  0  0  0  0  0  0  0  0  0  0  0     0  0  0  0  0  0  0  0  0  0  0  0\n",
       " 0  0  0  0  0  0  0  0  0  0  0  0  0  …  0  0  0  0  0  0  0  0  0  0  0  0\n",
       " 0  0  0  0  0  0  0  0  0  0  0  0  0     0  0  0  0  0  0  0  0  0  0  0  0\n",
       " 0  0  0  0  0  0  0  0  0  0  0  0  0     0  0  0  0  0  0  0  0  0  0  0  0\n",
       " 0  0  0  0  0  0  0  0  0  0  0  0  0     0  0  0  0  0  0  0  0  0  0  0  0\n",
       " 0  0  0  0  0  0  0  0  0  0  0  0  0     0  0  0  0  0  0  0  0  0  0  0  0\n",
       " 0  0  0  0  0  0  0  0  0  0  0  0  0  …  0  0  0  0  0  0  0  0  0  0  0  0\n",
       " 0  0  0  0  0  0  0  0  0  0  0  0  0     0  0  0  0  0  0  0  0  0  0  0  0\n",
       " 0  0  0  0  0  0  0  0  0  0  0  0  0     0  0  0  0  0  0  0  0  0  0  0  0\n",
       " ⋮              ⋮              ⋮        ⋱  ⋮              ⋮              ⋮   \n",
       " 0  0  0  0  0  0  0  0  0  0  0  0  0  …  0  0  0  0  0  0  0  0  0  0  0  0\n",
       " 0  0  0  0  0  0  0  0  0  0  0  0  0     0  0  0  0  0  0  0  0  0  0  0  0\n",
       " 0  0  0  0  0  0  0  0  0  0  0  0  0     0  0  0  0  0  0  0  0  0  0  0  0\n",
       " 0  0  0  0  0  0  0  0  0  0  0  0  0     0  0  0  0  0  0  0  0  0  0  0  0\n",
       " 0  0  0  0  0  0  0  0  0  0  0  0  0     0  0  0  0  0  0  0  0  0  0  0  0\n",
       " 0  0  0  0  0  0  0  0  0  0  0  0  0  …  0  0  0  0  0  0  0  0  0  0  0  0\n",
       " 0  0  0  0  0  0  0  0  0  0  0  0  0     0  0  0  0  0  0  0  0  0  0  0  0\n",
       " 0  0  0  0  0  0  0  0  0  0  0  0  0     0  0  0  0  0  0  0  0  0  0  0  0\n",
       " 0  0  0  0  0  0  0  0  0  0  0  0  0     0  0  0  0  0  0  0  0  0  0  0  0\n",
       " 0  0  0  0  0  0  0  0  0  0  0  0  0     0  0  0  0  0  0  0  0  0  0  0  0\n",
       " 0  0  0  0  0  0  0  0  0  0  0  0  0  …  0  0  0  0  0  0  0  0  0  0  0  0\n",
       " 0  0  0  0  0  0  0  0  0  0  0  0  0     0  0  0  0  0  0  0  0  0  0  0  0"
      ]
     },
     "execution_count": 31,
     "metadata": {},
     "output_type": "execute_result"
    }
   ],
   "source": [
    "arr = zeros(Int, n, n)"
   ]
  },
  {
   "cell_type": "markdown",
   "metadata": {},
   "source": [
    "**2.2.3. Generate a list $xs$ from set $S$**"
   ]
  },
  {
   "cell_type": "code",
   "execution_count": 32,
   "metadata": {},
   "outputs": [],
   "source": [
    "# function setToList(s)"
   ]
  },
  {
   "cell_type": "code",
   "execution_count": 33,
   "metadata": {},
   "outputs": [
    {
     "data": {
      "text/plain": [
       "1187-element Array{Any,1}:\n",
       " \"婁\"\n",
       " \"肌\"\n",
       " \"焉\"\n",
       " \"肴\"\n",
       " \"制\"\n",
       " \"懈\"\n",
       " \"鍾\"\n",
       " \"預\"\n",
       " \"孟\"\n",
       " \"綸\"\n",
       " \"爲\"\n",
       " \"灼\"\n",
       " \"甾\"\n",
       " ⋮  \n",
       " \"杯\"\n",
       " \"佃\"\n",
       " \"贈\"\n",
       " \"襃\"\n",
       " \"拜\"\n",
       " \"荏\"\n",
       " \"允\"\n",
       " \"赧\"\n",
       " \"牒\"\n",
       " \"斗\"\n",
       " \"曹\"\n",
       " \"圓\""
      ]
     },
     "execution_count": 33,
     "metadata": {},
     "output_type": "execute_result"
    }
   ],
   "source": [
    "xs = setToList(s)"
   ]
  },
  {
   "cell_type": "markdown",
   "metadata": {},
   "source": [
    "**2.2.4. Set `count` = 0**"
   ]
  },
  {
   "cell_type": "code",
   "execution_count": 34,
   "metadata": {},
   "outputs": [
    {
     "data": {
      "text/plain": [
       "0"
      ]
     },
     "execution_count": 34,
     "metadata": {},
     "output_type": "execute_result"
    }
   ],
   "source": [
    "count = 0"
   ]
  },
  {
   "cell_type": "markdown",
   "metadata": {},
   "source": [
    "**2.2.5. Iterate `xs`, for all `x` in `xs`, find the upper character of `x`**\n",
    "\n",
    "**Then, let $i_1$ be the index of `x` in `xs`, $i_2$ be the index of (the upper character of `x`) in `xs`**\n",
    "\n",
    "**Increace one for array $(i_1, i_2)$ and $(i_2, i_1)$**"
   ]
  },
  {
   "cell_type": "code",
   "execution_count": 35,
   "metadata": {},
   "outputs": [
    {
     "data": {
      "text/plain": [
       "findLowerChar (generic function with 1 method)"
      ]
     },
     "execution_count": 35,
     "metadata": {},
     "output_type": "execute_result"
    }
   ],
   "source": [
    "function findLowerChar(ch)\n",
    "    for (wrd, ucOfWrd) in zip(df[6], df[:下字])\n",
    "        if wrd == ch\n",
    "            return ucOfWrd\n",
    "        end\n",
    "    end\n",
    "end"
   ]
  },
  {
   "cell_type": "code",
   "execution_count": 36,
   "metadata": {},
   "outputs": [
    {
     "data": {
      "text/plain": [
       "getLowerCharIndex (generic function with 1 method)"
      ]
     },
     "execution_count": 36,
     "metadata": {},
     "output_type": "execute_result"
    }
   ],
   "source": [
    "function getLowerCharIndex(ch :: typeof(xs[1]))\n",
    "    for i in 1:n\n",
    "        if ch == xs[i]\n",
    "            return i\n",
    "        end\n",
    "    end\n",
    "end"
   ]
  },
  {
   "cell_type": "code",
   "execution_count": 37,
   "metadata": {},
   "outputs": [
    {
     "data": {
      "text/plain": [
       "595"
      ]
     },
     "execution_count": 37,
     "metadata": {},
     "output_type": "execute_result"
    }
   ],
   "source": [
    "getLowerCharIndex(findLowerChar(df[6][1]))"
   ]
  },
  {
   "cell_type": "code",
   "execution_count": 38,
   "metadata": {},
   "outputs": [
    {
     "name": "stdout",
     "output_type": "stream",
     "text": [
      "(i, typeof(findLowerChar(xs[i]))) = (278, Void)\n",
      "(i, typeof(findLowerChar(xs[i]))) = (816, Missings.Missing)\n"
     ]
    }
   ],
   "source": [
    "for i in 1:n\n",
    "    if typeof(findLowerChar(xs[i])) != typeof(findLowerChar(xs[1]))\n",
    "        @show i, typeof(findLowerChar(xs[i]))\n",
    "    end\n",
    "end"
   ]
  },
  {
   "cell_type": "code",
   "execution_count": 39,
   "metadata": {},
   "outputs": [],
   "source": [
    "for i in 1:n\n",
    "    i1 = i\n",
    "    lc = findLowerChar(xs[i])\n",
    "    if typeof(findLowerChar(xs[i])) == typeof(findLowerChar(xs[1]))\n",
    "        i2 = getLowerCharIndex(lc)\n",
    "        arr[i1, i2] += 1\n",
    "        arr[i2, i1] += 1\n",
    "    end\n",
    "end"
   ]
  },
  {
   "cell_type": "markdown",
   "metadata": {},
   "source": [
    "**6. Get the transitive closure of `arr`**"
   ]
  },
  {
   "cell_type": "code",
   "execution_count": 40,
   "metadata": {},
   "outputs": [
    {
     "data": {
      "text/plain": [
       "1187×1187 Array{fuzzynum.FuzzyFloat,2}:\n",
       " 0.0  0.0  0.0  0.0  0.0  0.0  0.0  0.0  …  0.0  0.0  0.0  0.0  0.0  0.0  0.0\n",
       " 0.0  0.0  0.0  0.0  0.0  0.0  0.0  0.0     0.0  0.0  0.0  0.0  0.0  0.0  0.0\n",
       " 0.0  0.0  0.0  0.0  0.0  0.0  0.0  0.0     0.0  0.0  0.0  0.0  0.0  0.0  0.0\n",
       " 0.0  0.0  0.0  0.0  0.0  0.0  0.0  0.0     0.0  0.0  0.0  0.0  0.0  0.0  0.0\n",
       " 0.0  0.0  0.0  0.0  0.0  0.0  0.0  0.0     0.0  0.0  0.0  0.0  0.0  0.0  0.0\n",
       " 0.0  0.0  0.0  0.0  0.0  0.0  0.0  0.0  …  0.0  0.0  0.0  0.0  0.0  0.0  0.0\n",
       " 0.0  0.0  0.0  0.0  0.0  0.0  0.0  0.0     0.0  0.0  0.0  0.0  0.0  0.0  0.0\n",
       " 0.0  0.0  0.0  0.0  0.0  0.0  0.0  0.0     0.0  0.0  0.0  0.0  0.0  0.0  0.0\n",
       " 0.0  0.0  0.0  0.0  0.0  0.0  0.0  0.0     0.0  0.0  0.0  0.0  0.0  0.0  0.0\n",
       " 0.0  0.0  0.0  0.0  0.0  0.0  0.0  0.0     0.0  0.0  0.0  0.0  0.0  0.0  0.0\n",
       " 0.0  0.0  0.0  0.0  0.0  0.0  0.0  0.0  …  0.0  0.0  0.0  0.0  0.0  0.0  0.0\n",
       " 0.0  0.0  0.0  0.0  0.0  0.0  0.0  0.0     0.0  0.0  0.0  0.0  0.0  0.0  0.0\n",
       " 0.0  0.0  0.0  0.0  0.0  0.0  0.0  0.0     0.0  0.0  0.0  0.0  0.0  0.0  0.0\n",
       " ⋮                        ⋮              ⋱  ⋮                        ⋮       \n",
       " 0.0  0.0  0.0  0.0  0.0  0.0  0.0  0.0  …  0.0  0.0  0.0  0.0  0.0  0.0  0.0\n",
       " 0.0  0.0  0.0  0.0  0.0  0.0  0.0  0.0     0.0  0.0  0.0  0.0  0.0  0.0  0.0\n",
       " 0.0  0.0  0.0  0.0  0.0  0.0  0.0  0.0     0.0  0.0  0.0  0.0  0.0  0.0  0.0\n",
       " 0.0  0.0  0.0  0.0  0.0  0.0  0.0  0.0     0.0  0.0  0.0  0.0  0.0  0.0  0.0\n",
       " 0.0  0.0  0.0  0.0  0.0  0.0  0.0  0.0     0.0  0.0  0.0  0.0  0.0  0.0  0.0\n",
       " 0.0  0.0  0.0  0.0  0.0  0.0  0.0  0.0  …  0.0  0.0  0.0  0.0  0.0  0.0  0.0\n",
       " 0.0  0.0  0.0  0.0  0.0  0.0  0.0  0.0     0.0  0.0  0.0  0.0  0.0  0.0  0.0\n",
       " 0.0  0.0  0.0  0.0  0.0  0.0  0.0  0.0     0.0  0.0  0.0  0.0  0.0  0.0  0.0\n",
       " 0.0  0.0  0.0  0.0  0.0  0.0  0.0  0.0     0.0  0.0  0.0  0.0  0.0  0.0  0.0\n",
       " 0.0  0.0  0.0  0.0  0.0  0.0  0.0  0.0     0.0  0.0  0.0  0.0  0.0  0.0  0.0\n",
       " 0.0  0.0  0.0  0.0  0.0  0.0  0.0  0.0  …  0.0  0.0  0.0  0.0  0.0  0.0  0.0\n",
       " 0.0  0.0  0.0  0.0  0.0  0.0  0.0  0.0     0.0  0.0  0.0  0.0  0.0  0.0  0.0"
      ]
     },
     "execution_count": 40,
     "metadata": {},
     "output_type": "execute_result"
    }
   ],
   "source": [
    "FuzzyArr = map(x -> FuzzyFloat(x / n), arr)"
   ]
  },
  {
   "cell_type": "code",
   "execution_count": 41,
   "metadata": {},
   "outputs": [],
   "source": [
    "# function getTransitiveClosure(FuzzyArr) "
   ]
  },
  {
   "cell_type": "code",
   "execution_count": 42,
   "metadata": {},
   "outputs": [
    {
     "data": {
      "text/plain": [
       "1187×1187 Array{fuzzynum.FuzzyFloat,2}:\n",
       " 0.00084246  0.0         0.0         …  0.0         0.0         0.0       \n",
       " 0.0         0.00084246  0.0            0.0         0.0         0.0       \n",
       " 0.0         0.0         0.00084246     0.0         0.0         0.0       \n",
       " 0.0         0.0         0.0            0.0         0.0         0.0       \n",
       " 0.0         0.0         0.0            0.0         0.0         0.0       \n",
       " 0.0         0.0         0.0         …  0.0         0.0         0.0       \n",
       " 0.0         0.0         0.0            0.0         0.0         0.0       \n",
       " 0.0         0.0         0.0            0.0         0.0         0.0       \n",
       " 0.0         0.0         0.0            0.0         0.0         0.0       \n",
       " 0.0         0.0         0.0            0.0         0.0         0.0       \n",
       " 0.0         0.0         0.0         …  0.0         0.0         0.0       \n",
       " 0.0         0.0         0.0            0.0         0.0         0.0       \n",
       " 0.0         0.0         0.0            0.0         0.0         0.0       \n",
       " ⋮                                   ⋱              ⋮                     \n",
       " 0.0         0.0         0.0         …  0.0         0.0         0.0       \n",
       " 0.0         0.0         0.0            0.0         0.0         0.0       \n",
       " 0.0         0.0         0.0            0.0         0.0         0.0       \n",
       " 0.0         0.0         0.0            0.0         0.0         0.0       \n",
       " 0.0         0.0         0.0            0.0         0.0         0.0       \n",
       " 0.0         0.0         0.0         …  0.0         0.0         0.0       \n",
       " 0.0         0.0         0.0            0.0         0.0         0.0       \n",
       " 0.0         0.0         0.0            0.0         0.0         0.0       \n",
       " 0.0         0.0         0.0            0.0         0.0         0.0       \n",
       " 0.0         0.0         0.0            0.00084246  0.0         0.0       \n",
       " 0.0         0.0         0.0         …  0.0         0.00084246  0.0       \n",
       " 0.0         0.0         0.0            0.0         0.0         0.00084246"
      ]
     },
     "execution_count": 42,
     "metadata": {},
     "output_type": "execute_result"
    }
   ],
   "source": [
    "FuzzyArr_TC = getTransitiveClosure(FuzzyArr)"
   ]
  },
  {
   "cell_type": "code",
   "execution_count": 43,
   "metadata": {},
   "outputs": [
    {
     "data": {
      "text/plain": [
       "Set([0.00168492, 0.00084246, 0.0])"
      ]
     },
     "execution_count": 43,
     "metadata": {},
     "output_type": "execute_result"
    }
   ],
   "source": [
    "Set(map(x -> Float64(x), FuzzyArr_TC))"
   ]
  },
  {
   "cell_type": "code",
   "execution_count": 44,
   "metadata": {},
   "outputs": [
    {
     "data": {
      "text/plain": [
       "1187×1187 Array{fuzzynum.FuzzyFloat,2}:\n",
       " 1.0  0.0  0.0  0.0  0.0  0.0  0.0  0.0  …  0.0  0.0  0.0  0.0  0.0  0.0  0.0\n",
       " 0.0  1.0  0.0  0.0  0.0  0.0  0.0  0.0     0.0  0.0  0.0  0.0  0.0  0.0  0.0\n",
       " 0.0  0.0  1.0  0.0  0.0  0.0  0.0  0.0     0.0  0.0  0.0  0.0  0.0  0.0  0.0\n",
       " 0.0  0.0  0.0  1.0  0.0  0.0  0.0  0.0     0.0  0.0  0.0  0.0  0.0  0.0  0.0\n",
       " 0.0  0.0  0.0  0.0  1.0  0.0  0.0  0.0     0.0  0.0  0.0  0.0  0.0  0.0  0.0\n",
       " 0.0  0.0  0.0  0.0  0.0  1.0  0.0  0.0  …  0.0  0.0  0.0  0.0  0.0  0.0  0.0\n",
       " 0.0  0.0  0.0  0.0  0.0  0.0  1.0  0.0     0.0  0.0  0.0  0.0  0.0  0.0  0.0\n",
       " 0.0  0.0  0.0  0.0  0.0  0.0  0.0  1.0     0.0  0.0  0.0  0.0  0.0  0.0  0.0\n",
       " 0.0  0.0  0.0  0.0  0.0  0.0  0.0  0.0     0.0  0.0  0.0  0.0  0.0  0.0  0.0\n",
       " 0.0  0.0  0.0  0.0  0.0  0.0  0.0  0.0     0.0  0.0  0.0  0.0  0.0  0.0  0.0\n",
       " 0.0  0.0  0.0  0.0  0.0  0.0  0.0  0.0  …  0.0  0.0  0.0  0.0  0.0  0.0  0.0\n",
       " 0.0  0.0  0.0  0.0  0.0  0.0  0.0  0.0     0.0  0.0  0.0  0.0  0.0  0.0  0.0\n",
       " 0.0  0.0  0.0  0.0  0.0  0.0  0.0  0.0     0.0  0.0  0.0  0.0  0.0  0.0  0.0\n",
       " ⋮                        ⋮              ⋱  ⋮                        ⋮       \n",
       " 0.0  0.0  0.0  0.0  0.0  0.0  0.0  0.0  …  0.0  0.0  0.0  0.0  0.0  0.0  0.0\n",
       " 0.0  0.0  0.0  0.0  0.0  0.0  0.0  0.0     0.0  0.0  0.0  0.0  0.0  0.0  0.0\n",
       " 0.0  0.0  0.0  0.0  0.0  0.0  0.0  0.0     0.0  0.0  0.0  0.0  0.0  0.0  0.0\n",
       " 0.0  0.0  0.0  0.0  0.0  0.0  0.0  0.0     0.0  0.0  0.0  0.0  0.0  0.0  0.0\n",
       " 0.0  0.0  0.0  0.0  0.0  0.0  0.0  0.0     0.0  0.0  0.0  0.0  0.0  0.0  0.0\n",
       " 0.0  0.0  0.0  0.0  0.0  0.0  0.0  0.0  …  1.0  0.0  0.0  0.0  0.0  0.0  0.0\n",
       " 0.0  0.0  0.0  0.0  0.0  0.0  0.0  0.0     0.0  1.0  0.0  0.0  0.0  0.0  0.0\n",
       " 0.0  0.0  0.0  0.0  0.0  0.0  0.0  0.0     0.0  0.0  1.0  0.0  0.0  0.0  0.0\n",
       " 0.0  0.0  0.0  0.0  0.0  0.0  0.0  0.0     0.0  0.0  0.0  1.0  0.0  0.0  0.0\n",
       " 0.0  0.0  0.0  0.0  0.0  0.0  0.0  0.0     0.0  0.0  0.0  0.0  1.0  0.0  0.0\n",
       " 0.0  0.0  0.0  0.0  0.0  0.0  0.0  0.0  …  0.0  0.0  0.0  0.0  0.0  1.0  0.0\n",
       " 0.0  0.0  0.0  0.0  0.0  0.0  0.0  0.0     0.0  0.0  0.0  0.0  0.0  0.0  1.0"
      ]
     },
     "execution_count": 44,
     "metadata": {},
     "output_type": "execute_result"
    }
   ],
   "source": [
    "FuzzyArr_Regression_TC = getTransitiveClosure(map(x -> FuzzyFloat(x == zero(x) ? 0.0 : 1.0), FuzzyArr))"
   ]
  },
  {
   "cell_type": "code",
   "execution_count": 45,
   "metadata": {},
   "outputs": [
    {
     "data": {
      "text/plain": [
       "getCluster (generic function with 1 method)"
      ]
     },
     "execution_count": 45,
     "metadata": {},
     "output_type": "execute_result"
    }
   ],
   "source": [
    "function getCluster(arr)\n",
    "    arr_new = map(x -> Float64(x), arr)\n",
    "\n",
    "    ss = []\n",
    "    for i in 1:n\n",
    "        if all(xs -> !in(i, xs), ss)\n",
    "            s = map(x -> x[2], filter(x -> x[1] != zero(x[1]), zip(view(arr_new, :, i), collect(1:n))))\n",
    "            if length(s) != 0\n",
    "                push!(ss, s)\n",
    "            end\n",
    "        end\n",
    "    end\n",
    "    ss\n",
    "end"
   ]
  },
  {
   "cell_type": "code",
   "execution_count": 46,
   "metadata": {},
   "outputs": [
    {
     "name": "stderr",
     "output_type": "stream",
     "text": [
      "\u001b[1m\u001b[33mWARNING: \u001b[39m\u001b[22m\u001b[33mfilter(flt, itr) is deprecated, use Iterators.filter(flt, itr) instead.\u001b[39m\n",
      "Stacktrace:\n",
      " [1] \u001b[1mdepwarn\u001b[22m\u001b[22m\u001b[1m(\u001b[22m\u001b[22m::String, ::Symbol\u001b[1m)\u001b[22m\u001b[22m at \u001b[1m.\\deprecated.jl:70\u001b[22m\u001b[22m\n",
      " [2] \u001b[1mfilter\u001b[22m\u001b[22m\u001b[1m(\u001b[22m\u001b[22m::Function, ::Base.Iterators.Zip2{SubArray{Float64,1,Array{Float64,2},Tuple{Base.Slice{Base.OneTo{Int64}},Int64},true},Array{Int64,1}}\u001b[1m)\u001b[22m\u001b[22m at \u001b[1m.\\deprecated.jl:57\u001b[22m\u001b[22m\n",
      " [3] \u001b[1mgetCluster\u001b[22m\u001b[22m\u001b[1m(\u001b[22m\u001b[22m::Array{fuzzynum.FuzzyFloat,2}\u001b[1m)\u001b[22m\u001b[22m at \u001b[1m.\\In[45]:7\u001b[22m\u001b[22m\n",
      " [4] \u001b[1minclude_string\u001b[22m\u001b[22m\u001b[1m(\u001b[22m\u001b[22m::String, ::String\u001b[1m)\u001b[22m\u001b[22m at \u001b[1m.\\loading.jl:522\u001b[22m\u001b[22m\n",
      " [5] \u001b[1minclude_string\u001b[22m\u001b[22m\u001b[1m(\u001b[22m\u001b[22m::Module, ::String, ::String\u001b[1m)\u001b[22m\u001b[22m at \u001b[1mE:\\julia-depot\\v0.6\\Compat\\src\\Compat.jl:88\u001b[22m\u001b[22m\n",
      " [6] \u001b[1mexecute_request\u001b[22m\u001b[22m\u001b[1m(\u001b[22m\u001b[22m::ZMQ.Socket, ::IJulia.Msg\u001b[1m)\u001b[22m\u001b[22m at \u001b[1mE:\\julia-depot\\v0.6\\IJulia\\src\\execute_request.jl:180\u001b[22m\u001b[22m\n",
      " [7] \u001b[1m(::Compat.#inner#14{Array{Any,1},IJulia.#execute_request,Tuple{ZMQ.Socket,IJulia.Msg}})\u001b[22m\u001b[22m\u001b[1m(\u001b[22m\u001b[22m\u001b[1m)\u001b[22m\u001b[22m at \u001b[1mE:\\julia-depot\\v0.6\\Compat\\src\\Compat.jl:332\u001b[22m\u001b[22m\n",
      " [8] \u001b[1meventloop\u001b[22m\u001b[22m\u001b[1m(\u001b[22m\u001b[22m::ZMQ.Socket\u001b[1m)\u001b[22m\u001b[22m at \u001b[1mE:\\julia-depot\\v0.6\\IJulia\\src\\eventloop.jl:8\u001b[22m\u001b[22m\n",
      " [9] \u001b[1m(::IJulia.##15#18)\u001b[22m\u001b[22m\u001b[1m(\u001b[22m\u001b[22m\u001b[1m)\u001b[22m\u001b[22m at \u001b[1m.\\task.jl:335\u001b[22m\u001b[22m\n",
      "while loading In[46], in expression starting on line 1\n"
     ]
    },
    {
     "data": {
      "text/plain": [
       "495-element Array{Any,1}:\n",
       " [1, 83, 320, 379, 476, 573, 829, 1001, 1008, 1112, 1155]                    \n",
       " [2, 168, 266, 394, 552, 803, 909]                                           \n",
       " [3, 439]                                                                    \n",
       " [4, 35, 160, 230, 388, 418, 801, 1060, 1128]                                \n",
       " [5, 203, 213, 789, 943, 985]                                                \n",
       " [6, 862]                                                                    \n",
       " [7, 279, 356, 384, 984]                                                     \n",
       " [8, 93, 101, 117, 136, 153, 302, 303, 515, 518, 892, 952, 1021, 1048]       \n",
       " [9, 25, 30, 287, 664, 716, 775]                                             \n",
       " [10, 26, 336, 414]                                                          \n",
       " [11, 43, 55, 70, 147, 296, 405, 498, 502, 554, 583, 603, 812, 852, 860, 882]\n",
       " [12, 13, 61, 177, 198, 314, 542, 568, 780, 782, 854, 902, 905, 989]         \n",
       " [14]                                                                        \n",
       " ⋮                                                                           \n",
       " [1127]                                                                      \n",
       " [1131]                                                                      \n",
       " [1136]                                                                      \n",
       " [1141]                                                                      \n",
       " [1143]                                                                      \n",
       " [1144]                                                                      \n",
       " [1148]                                                                      \n",
       " [1154]                                                                      \n",
       " [1162]                                                                      \n",
       " [1165]                                                                      \n",
       " [1169]                                                                      \n",
       " [1172]                                                                      "
      ]
     },
     "execution_count": 46,
     "metadata": {},
     "output_type": "execute_result"
    }
   ],
   "source": [
    "c_regress = getCluster(FuzzyArr_Regression_TC)"
   ]
  },
  {
   "cell_type": "code",
   "execution_count": 47,
   "metadata": {
    "scrolled": false
   },
   "outputs": [
    {
     "name": "stdout",
     "output_type": "stream",
     "text": [
      "婁熱足別滅輸俞辥逾俱芻\n",
      "肌尼糾資私脂飢\n",
      "焉軒\n",
      "肴孝交嘲茅稍皃覺教\n",
      "制訐罽袂憩祭\n",
      "懈卦\n",
      "鍾封用凶恭\n",
      "預遮若嗟居車藥諸其而兹略野持\n",
      "孟行當盲宕剛岡\n",
      "綸筠倫旬\n",
      "爲倚毀吹帋紙規離移累詭彼此髓爾侈\n",
      "灼甾姐魚奢邪爵洳雀賒與之勺余\n",
      "隱\n",
      "焮\n",
      "帶太大轄貝艾\n",
      "敢\n",
      "合閤荅沓雜\n",
      "彪幽\n",
      "類醉\n",
      "賜避昔智寄亦辟豉\n",
      "佞徑\n",
      "哀\n",
      "勞遭牢\n",
      "冉廉淹染\n",
      "政正成盛盈貞姓征并情鄭\n",
      "貢弄鳳送\n",
      "晏按案贊\n",
      "妙約\n",
      "幸\n",
      "蛙\n",
      "鑒\n",
      "文倦員變云戀圓\n",
      "綏追\n",
      "記既溉志置\n",
      "隨危垂是綺知支靡捶氏隋委豸\n",
      "道抱老早\n",
      "甚深淫朕\n",
      "法\n",
      "贍\n",
      "乎胡都\n",
      "姑吾孤烏吳\n",
      "皛晈鳥皎\n",
      "賄\n",
      "典\n",
      "激嘯叫\n",
      "妹昧\n",
      "酉有柳婦\n",
      "麵見練\n",
      "夥買\n",
      "幻幰蹇免\n",
      "摘核責厄戹\n",
      "越八發\n",
      "戶補魯杜\n",
      "俾婢企弭\n",
      "或\n",
      "男𧸖南韽\n",
      "刮\n",
      "筆\n",
      "涬冷靈刑萌莖迥挺醒\n",
      "巷\n",
      "界戒怪壞介拜\n",
      "逼力\n",
      "灰回\n",
      "恕\n",
      "證升𩜁仍甑陵\n",
      "于朱句列誅隅\n",
      "運\n",
      "勒德得\n",
      "昆\n",
      "計\n",
      "緣\n",
      "四質叱至寐畢必自一冀七\n",
      "靳\n",
      "唾縛貨\n",
      "朗\n",
      "犯范\n",
      "河何俄歌\n",
      "令然連\n",
      "店\n",
      "六\n",
      "㢡掌网妄養丈往\n",
      "疋\n",
      "恆滕棱朋\n",
      "賀佐\n",
      "訪亮向況讓㨾\n",
      "維遺隹\n",
      "候\n",
      "羽甫雨禹\n",
      "展煙先淺善\n",
      "真振珍遴印晉人賓\n",
      "輩佩\n",
      "𩏩\n",
      "𠁥蟹\n",
      "飽絞\n",
      "割曷葛達\n",
      "還鰥\n",
      "月物勿\n",
      "銜\n",
      "牙霞巴\n",
      "敏\n",
      "泛中戎仲\n",
      "蒸乘應庱矜冰膺孕兢\n",
      "豔\n",
      "禾婆和\n",
      "但寒\n",
      "兼\n",
      "檻濫感\n",
      "里史理擬\n",
      "墨黑\n",
      "張章莊\n",
      "輒接涉\n",
      "丸潘喚端筭\n",
      "夷黝\n",
      "奏漏豆遘\n",
      "董摠\n",
      "華瓜花\n",
      "話夬\n",
      "玉欲蜀曲錄\n",
      "逐菊竹福匊\n",
      "巧爪\n",
      "在等亥\n",
      "膎\n",
      "哉\n",
      "戰\n",
      "冬\n",
      "任心尋\n",
      "即側極直\n",
      "郤逆戟劇\n",
      "尾\n",
      "后厚斗\n",
      "恩根\n",
      "霸㕦訝亞\n",
      "羊陽良\n",
      "楷皆\n",
      "遇注\n",
      "爇歲芮輟\n",
      "公蠓空東凍\n",
      "扃\n",
      "駭諧\n",
      "䒦\n",
      "乙密\n",
      "演翦輦前\n",
      "緩伴滿纂笴\n",
      "葉攝\n",
      "拔伐黠\n",
      "崩增登\n",
      "瀌夭表嬌矯喬囂\n",
      "滑結骨\n",
      "內報隊繢\n",
      "川泉全宣專\n",
      "甲\n",
      "脣贇遵勻迍\n",
      "閑山\n",
      "謝炙\n",
      "呪宿祐副溜又\n",
      "殞\n",
      "板\n",
      "仙扇延\n",
      "偃辨堰\n",
      "協\n",
      "京驚\n",
      "甜\n",
      "病\n",
      "冢奉踵宂勇\n",
      "覽埯\n",
      "役石\n",
      "䫄\n",
      "奇宜\n",
      "末\n",
      "桂\n",
      "广奄險\n",
      "林\n",
      "翼\n",
      "篆轉緬\n",
      "迄乞\n",
      "綜宋統\n",
      "庾\n",
      "尊䰟渾奔\n",
      "潁營䁝\n",
      "昭招\n",
      "紀士己\n",
      "湩\n",
      "準\n",
      "擊狄\n",
      "建阮怨販煩晚元\n",
      "秋周求州\n",
      "外\n",
      "臘榼\n",
      "會最\n",
      "黃旁\n",
      "水誄鄙壘洧\n",
      "漸炎琰占斂鹽\n",
      "𣊟暫唵瞰禫蹔黤\n",
      "郭格各\n",
      "浮\n",
      "玄縣\n",
      "卹聿律\n",
      "益迹積義恚易\n",
      "靜整井\n",
      "鎋\n",
      "淮懷\n",
      "權彥囀攣眷分卷\n",
      "凡\n",
      "革\n",
      "葅\n",
      "三酣談\n",
      "悚\n",
      "臡奚兮\n",
      "路誤暮\n",
      "勃\n",
      "礦杏\n",
      "劫業\n",
      "味未\n",
      "邏个箇\n",
      "蔭凜吟鴆\n",
      "懺\n",
      "降雙\n",
      "北\n",
      "嫁駕化\n",
      "虐笑肖\n",
      "耐愛概\n",
      "謬\n",
      "管旱\n",
      "戢急及汲㘝入\n",
      "峴殄繭\n",
      "博落穫\n",
      "慣\n",
      "影永\n",
      "紺\n",
      "年賢\n",
      "美軌癸否\n",
      "橫光\n",
      "緺媧\n",
      "弔\n",
      "禮\n",
      "陌虢\n",
      "就\n",
      "瓦\n",
      "尤由鳩流\n",
      "澗鴈旰諫旦\n",
      "錽\n",
      "代\n",
      "火\n",
      "羈\n",
      "篤沃\n",
      "問\n",
      "浪郎庚更\n",
      "賈古\n",
      "屑忽蔑\n",
      "烋虯\n",
      "終梵弓眾融宮\n",
      "患\n",
      "衛銳劣稅\n",
      "肺吠穢\n",
      "止\n",
      "胃\n",
      "肱\n",
      "枕針稔荏\n",
      "頂爭鼎宏丁剄耕打經\n",
      "簟忝栝\n",
      "據倨\n",
      "舉渚去与呂許巨\n",
      "白伯\n",
      "利二日悉栗器吉\n",
      "猥罪\n",
      "恢杯\n",
      "關班頑\n",
      "禁今金譖簪\n",
      "貫官\n",
      "放昉兩\n",
      "鄰刃覲\n",
      "紖忍\n",
      "岳谷\n",
      "監鑑\n",
      "焦堯蕭霄宵消要幺邀聊彫\n",
      "晧浩\n",
      "拱\n",
      "啓弟米\n",
      "九久\n",
      "嚴\n",
      "斤\n",
      "非歸\n",
      "厥弗\n",
      "兗\n",
      "巾\n",
      "丙憬景\n",
      "市\n",
      "項\n",
      "媚備\n",
      "加\n",
      "劒釅\n",
      "眉\n",
      "豏減\n",
      "矩武\n",
      "了\n",
      "慶\n",
      "遂萃\n",
      "歇竭謁\n",
      "閏\n",
      "韋微\n",
      "迷稽雞低\n",
      "願袁万遠\n",
      "佳\n",
      "電甸\n",
      "順峻\n",
      "垢口苟\n",
      "睡瑞\n",
      "櫛\n",
      "本\n",
      "刀曹\n",
      "講慃\n",
      "撥\n",
      "艮\n",
      "掾釧\n",
      "莧\n",
      "顏\n",
      "絕悅\n",
      "夜\n",
      "迦\n",
      "紿改肯愷乃宰\n",
      "困\n",
      "欠\n",
      "匪\n",
      "黨\n",
      "猛梗\n",
      "吻\n",
      "怯\n",
      "膳\n",
      "可\n",
      "損袞忖\n",
      "詣戾\n",
      "很\n",
      "雪\n",
      "閒\n",
      "來開\n",
      "隘賣\n",
      "小\n",
      "毒酷\n",
      "立汁執\n",
      "紅\n",
      "榮明\n",
      "幼\n",
      "悸\n",
      "雉姊履\n",
      "半\n",
      "少召\n",
      "儉檢\n",
      "詵㾕\n",
      "泫\n",
      "我\n",
      "決穴\n",
      "獲\n",
      "亙隥\n",
      "命\n",
      "慮助御\n",
      "鄧贈\n",
      "盡軫腎引\n",
      "廢\n",
      "換段\n",
      "臥钁籰\n",
      "涓\n",
      "兵\n",
      "國\n",
      "希豨\n",
      "圭\n",
      "狎\n",
      "具戍\n",
      "傾頃\n",
      "箭賤碾面線\n",
      "故祚擭\n",
      "隻\n",
      "瞎\n",
      "導\n",
      "蔽例弊\n",
      "乖\n",
      "孔動\n",
      "乾安干\n",
      "角祿\n",
      "姦\n",
      "過波戈\n",
      "秏對\n",
      "矢\n",
      "銀\n",
      "顛堅田佃\n",
      "言\n",
      "曠\n",
      "果\n",
      "兆\n",
      "雅罵\n",
      "螢\n",
      "靴\n",
      "毛袍襃\n",
      "隴\n",
      "麥摑\n",
      "者\n",
      "冶也\n",
      "粉\n",
      "瑟\n",
      "痕\n",
      "衣豈依\n",
      "綰鯇赧\n",
      "闃\n",
      "容頌庸\n",
      "富救\n",
      "愜頰牒\n",
      "愧\n",
      "𪁪\n",
      "鉤\n",
      "甘\n",
      "才\n",
      "玩亂\n",
      "諍\n",
      "敬\n",
      "照廟沼\n",
      "職\n",
      "沒\n",
      "几\n",
      "墾\n",
      "臻\n",
      "𦚢𩨷\n",
      "悲\n",
      "括活\n",
      "迸\n",
      "江\n",
      "陷含\n",
      "訖\n",
      "飲\n",
      "謹\n",
      "廣\n",
      "讒\n",
      "宗\n",
      "欣\n",
      "惠\n",
      "恨\n",
      "驗\n",
      "僞\n",
      "豙吏\n",
      "僦\n",
      "歷\n",
      "遙\n",
      "玷\n",
      "錦\n",
      "暗\n",
      "侯\n",
      "署\n",
      "洽\n",
      "夾\n",
      "喝\n",
      "邁快\n",
      "耿\n",
      "下\n",
      "攜\n",
      "咸\n",
      "犗\n",
      "寡\n",
      "悶寸\n",
      "季\n",
      "沸\n",
      "郢\n",
      "謗\n",
      "尹允\n",
      "狊鶪\n",
      "視\n",
      "卜\n",
      "方王\n",
      "伽\n",
      "祕\n",
      "絳\n",
      "畎\n",
      "到\n",
      "盍\n",
      "蓋\n",
      "木\n",
      "謀\n",
      "漫\n",
      "偉\n",
      "絹\n",
      "貴畏\n",
      "晃\n",
      "窆\n",
      "夫\n",
      "乏\n",
      "主\n",
      "限\n",
      "卿\n",
      "簡\n",
      "念\n",
      "定\n",
      "斬\n",
      "位\n",
      "弘\n",
      "無\n",
      "鬼\n",
      "則\n",
      "襇\n"
     ]
    }
   ],
   "source": [
    "for i in map(m -> join(map(n -> xs[n], m)), c_regress)\n",
    "    println(i)\n",
    "end"
   ]
  }
 ],
 "metadata": {
  "kernelspec": {
   "display_name": "Julia 0.6.4",
   "language": "julia",
   "name": "julia-0.6"
  },
  "language_info": {
   "file_extension": ".jl",
   "mimetype": "application/julia",
   "name": "julia",
   "version": "0.6.4"
  }
 },
 "nbformat": 4,
 "nbformat_minor": 2
}
