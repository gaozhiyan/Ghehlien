{
 "cells": [
  {
   "cell_type": "markdown",
   "metadata": {},
   "source": [
    "# Ghehlien\n",
    "\n",
    "**Ghehlien** (系聯) is a clustering method used in Old Chinese Phonology"
   ]
  },
  {
   "cell_type": "markdown",
   "metadata": {},
   "source": [
    "## 1. Analyses of Kuangxyonh\n",
    "\n",
    "In this section, the ghehlien of **pyanxchet upper characters** (反切上字) and **pyanxchet lower characters** (反切下字) in **Kuangxyonh** (廣韻) will be analysed.\n",
    "\n",
    "### 1.1 Reading data from file"
   ]
  },
  {
   "cell_type": "code",
   "execution_count": 1,
   "metadata": {},
   "outputs": [],
   "source": [
    "using CSV"
   ]
  },
  {
   "cell_type": "code",
   "execution_count": 2,
   "metadata": {},
   "outputs": [
    {
     "data": {
      "text/html": [
       "<table class=\"data-frame\"><thead><tr><th></th><th>廣韻韻部順序&廣韻韻部原貌(調整前)</th><th>小韻序</th><th>上字</th><th>下字</th><th>中古拼音(polyhedron 版)</th><th>廣韻字頭(覈校後)</th><th>小韻內字序</th></tr></thead><tbody><tr><th>1</th><td>上平01東</td><td>1</td><td>德</td><td>紅</td><td>tung</td><td>東</td><td>1</td></tr><tr><th>2</th><td>上平01東</td><td>1</td><td>德</td><td>紅</td><td>tung</td><td>菄</td><td>2</td></tr><tr><th>3</th><td>上平01東</td><td>1</td><td>德</td><td>紅</td><td>tung</td><td>鶇</td><td>3</td></tr><tr><th>4</th><td>上平01東</td><td>1</td><td>德</td><td>紅</td><td>tung</td><td>䍶</td><td>4</td></tr><tr><th>5</th><td>上平01東</td><td>1</td><td>德</td><td>紅</td><td>tung</td><td>𠍀</td><td>5</td></tr><tr><th>6</th><td>上平01東</td><td>1</td><td>德</td><td>紅</td><td>tung</td><td>倲</td><td>6</td></tr><tr><th>7</th><td>上平01東</td><td>1</td><td>德</td><td>紅</td><td>tung</td><td>𩜍</td><td>7</td></tr><tr><th>8</th><td>上平01東</td><td>1</td><td>德</td><td>紅</td><td>tung</td><td>𢘐</td><td>8</td></tr><tr><th>9</th><td>上平01東</td><td>1</td><td>德</td><td>紅</td><td>tung</td><td>涷</td><td>9</td></tr><tr><th>10</th><td>上平01東</td><td>1</td><td>德</td><td>紅</td><td>tung</td><td>蝀</td><td>10</td></tr><tr><th>11</th><td>上平01東</td><td>1</td><td>德</td><td>紅</td><td>tung</td><td>凍</td><td>11</td></tr><tr><th>12</th><td>上平01東</td><td>1</td><td>德</td><td>紅</td><td>tung</td><td>鯟</td><td>12</td></tr><tr><th>13</th><td>上平01東</td><td>1</td><td>德</td><td>紅</td><td>tung</td><td>𢔅</td><td>13</td></tr><tr><th>14</th><td>上平01東</td><td>1</td><td>德</td><td>紅</td><td>tung</td><td>崠</td><td>14</td></tr><tr><th>15</th><td>上平01東</td><td>1</td><td>德</td><td>紅</td><td>tung</td><td>埬</td><td>15</td></tr><tr><th>16</th><td>上平01東</td><td>1</td><td>德</td><td>紅</td><td>tung</td><td>𧓕</td><td>16</td></tr><tr><th>17</th><td>上平01東</td><td>1</td><td>德</td><td>紅</td><td>tung</td><td>䰤</td><td>17</td></tr><tr><th>18</th><td>上平01東</td><td>2</td><td>徒</td><td>紅</td><td>dung</td><td>同</td><td>1</td></tr><tr><th>19</th><td>上平01東</td><td>2</td><td>徒</td><td>紅</td><td>dung</td><td>仝</td><td>2</td></tr><tr><th>20</th><td>上平01東</td><td>2</td><td>徒</td><td>紅</td><td>dung</td><td>童</td><td>3</td></tr><tr><th>21</th><td>上平01東</td><td>2</td><td>徒</td><td>紅</td><td>dung</td><td>僮</td><td>4</td></tr><tr><th>22</th><td>上平01東</td><td>2</td><td>徒</td><td>紅</td><td>dung</td><td>銅</td><td>5</td></tr><tr><th>23</th><td>上平01東</td><td>2</td><td>徒</td><td>紅</td><td>dung</td><td>桐</td><td>6</td></tr><tr><th>24</th><td>上平01東</td><td>2</td><td>徒</td><td>紅</td><td>dung</td><td>峒</td><td>7</td></tr><tr><th>25</th><td>上平01東</td><td>2</td><td>徒</td><td>紅</td><td>dung</td><td>硐</td><td>8</td></tr><tr><th>26</th><td>上平01東</td><td>2</td><td>徒</td><td>紅</td><td>dung</td><td>𦨴</td><td>9</td></tr><tr><th>27</th><td>上平01東</td><td>2</td><td>徒</td><td>紅</td><td>dung</td><td>𧱁</td><td>10</td></tr><tr><th>28</th><td>上平01東</td><td>2</td><td>徒</td><td>紅</td><td>dung</td><td>筒</td><td>11</td></tr><tr><th>29</th><td>上平01東</td><td>2</td><td>徒</td><td>紅</td><td>dung</td><td>瞳</td><td>12</td></tr><tr><th>30</th><td>上平01東</td><td>2</td><td>徒</td><td>紅</td><td>dung</td><td>㼧</td><td>13</td></tr><tr><th>&vellip;</th><td>&vellip;</td><td>&vellip;</td><td>&vellip;</td><td>&vellip;</td><td>&vellip;</td><td>&vellip;</td><td>&vellip;</td></tr></tbody></table>"
      ],
      "text/plain": [
       "25333×7 DataFrames.DataFrame. Omitted printing of 3 columns\n",
       "│ Row   │ 廣韻韻部順序&廣韻韻部原貌(調整前) │ 小韻序 │ 上字 │ 下字 │\n",
       "├───────┼───────────────────────────────────┼────────┼──────┼──────┤\n",
       "│ 1     │ 上平01東                          │ 1      │ 德   │ 紅   │\n",
       "│ 2     │ 上平01東                          │ 1      │ 德   │ 紅   │\n",
       "│ 3     │ 上平01東                          │ 1      │ 德   │ 紅   │\n",
       "│ 4     │ 上平01東                          │ 1      │ 德   │ 紅   │\n",
       "│ 5     │ 上平01東                          │ 1      │ 德   │ 紅   │\n",
       "│ 6     │ 上平01東                          │ 1      │ 德   │ 紅   │\n",
       "│ 7     │ 上平01東                          │ 1      │ 德   │ 紅   │\n",
       "│ 8     │ 上平01東                          │ 1      │ 德   │ 紅   │\n",
       "│ 9     │ 上平01東                          │ 1      │ 德   │ 紅   │\n",
       "│ 10    │ 上平01東                          │ 1      │ 德   │ 紅   │\n",
       "│ 11    │ 上平01東                          │ 1      │ 德   │ 紅   │\n",
       "⋮\n",
       "│ 25322 │ 下平01先                          │ 576    │ 昨   │ 先   │\n",
       "│ 25323 │ 下平09麻                          │ 777    │ 女   │ 加   │\n",
       "│ 25324 │ 下平17登                          │ 974    │ 武   │ 登   │\n",
       "│ 25325 │ 下平27銜                          │ 1148   │ 古   │ 銜   │\n",
       "│ 25326 │ 上14賄                            │ 1441   │ 七   │ 罪   │\n",
       "│ 25327 │ 去06至                            │ 2230   │ 息   │ 利   │\n",
       "│ 25328 │ 去31襇                            │ 2687   │ 蒲   │ 莧   │\n",
       "│ 25329 │ 去42宕                            │ 2936   │ 他   │ 浪   │\n",
       "│ 25330 │ 去54闞                            │ 3121   │ 古   │ 蹔   │\n",
       "│ 25331 │ 入11沒                            │ 3390   │ 戶   │ 骨   │\n",
       "│ 25332 │ 入16屑                            │ 3473   │ 古   │ 穴   │\n",
       "│ 25333 │ 入29葉                            │ 3817   │ 尼   │ 輒   │"
      ]
     },
     "execution_count": 2,
     "metadata": {},
     "output_type": "execute_result"
    }
   ],
   "source": [
    "df = CSV.read(\"data.csv\", types = Dict(7 => String))"
   ]
  },
  {
   "cell_type": "markdown",
   "metadata": {},
   "source": [
    "### 1.2 Pyanxchet Upper Characters"
   ]
  },
  {
   "cell_type": "code",
   "execution_count": 3,
   "metadata": {},
   "outputs": [],
   "source": [
    "include(\"fuzzynum.jl\")\n",
    "using fuzzynum"
   ]
  },
  {
   "cell_type": "markdown",
   "metadata": {},
   "source": [
    "**1.2.1. Create a new set $S$ and put all upper characters into it:**"
   ]
  },
  {
   "cell_type": "code",
   "execution_count": 4,
   "metadata": {},
   "outputs": [
    {
     "data": {
      "text/plain": [
       "Set(String[\"當\", \"跪\", \"女\", \"握\", \"羽\", \"危\", \"尼\", \"羊\", \"同\", \"醋\"  …  \"匹\", \"連\", \"征\", \"并\", \"下\", \"辝\", \"色\", \"卑\", \"視\", \"縛\"])"
      ]
     },
     "execution_count": 4,
     "metadata": {},
     "output_type": "execute_result"
    }
   ],
   "source": [
    "# Remove missing data, for those small rhymes (小韻) that has no pyanxchet\n",
    "\n",
    "s = Set{String}(filter!(x -> typeof(x) == String, Array(df[:上字])))"
   ]
  },
  {
   "cell_type": "markdown",
   "metadata": {},
   "source": [
    "**1.2.2. Zip all the pyanxchet upper characters with their pyanxchet upper characters**"
   ]
  },
  {
   "cell_type": "code",
   "execution_count": 5,
   "metadata": {
    "scrolled": false
   },
   "outputs": [
    {
     "data": {
      "text/plain": [
       "getUCList (generic function with 1 method)"
      ]
     },
     "execution_count": 5,
     "metadata": {},
     "output_type": "execute_result"
    }
   ],
   "source": [
    "function getUCList()\n",
    "    dfG = Array(df[Symbol(\"廣韻字頭(覈校後)\")])\n",
    "    dfS = Array(df[:上字])\n",
    "    lst = setToList(s)\n",
    "    n = length(lst)\n",
    "    ret = []\n",
    "    for i in 1:n\n",
    "        ch = lst[i]\n",
    "        push!(ret, (ch, dfS[getIndexInArr(dfG, ch)]))\n",
    "    end\n",
    "    ret\n",
    "end"
   ]
  },
  {
   "cell_type": "code",
   "execution_count": 6,
   "metadata": {},
   "outputs": [
    {
     "data": {
      "text/plain": [
       "471-element Array{Any,1}:\n",
       " (\"兹\", \"疾\")\n",
       " (\"鋤\", \"士\")\n",
       " (\"爭\", \"側\")\n",
       " (\"明\", \"武\")\n",
       " (\"之\", \"止\")\n",
       " (\"數\", \"所\")\n",
       " (\"北\", \"博\")\n",
       " (\"彼\", \"甫\")\n",
       " (\"衢\", \"其\")\n",
       " (\"爲\", \"薳\")\n",
       " (\"匹\", \"譬\")\n",
       " (\"愛\", \"烏\")\n",
       " (\"傍\", \"步\")\n",
       " ⋮         \n",
       " (\"平\", \"房\")\n",
       " (\"區\", \"豈\")\n",
       " (\"速\", \"桑\")\n",
       " (\"始\", \"詩\")\n",
       " (\"呵\", \"虎\")\n",
       " (\"部\", \"裴\")\n",
       " (\"諸\", \"章\")\n",
       " (\"丕\", \"敷\")\n",
       " (\"榮\", \"永\")\n",
       " (\"遵\", \"將\")\n",
       " (\"除\", \"直\")\n",
       " (\"狂\", \"巨\")"
      ]
     },
     "execution_count": 6,
     "metadata": {},
     "output_type": "execute_result"
    }
   ],
   "source": [
    "uclist = getUCList()"
   ]
  },
  {
   "cell_type": "markdown",
   "metadata": {},
   "source": [
    "**1.2.3 Do ghehlien**"
   ]
  },
  {
   "cell_type": "code",
   "execution_count": 7,
   "metadata": {},
   "outputs": [
    {
     "name": "stdout",
     "output_type": "stream",
     "text": [
      "兹匠疾自情慈秦\n",
      "鋤仕崇鶵查豺助雛士崱鉏牀\n",
      "爭側阻仄莊鄒簪\n",
      "明靡文美武亡望眉巫彌綿無\n",
      "之章征氏占止旨煑脂識職正支諸\n",
      "數山沙色疏疎生砂所史\n",
      "北博伯布邊補巴百晡\n",
      "彼父甫必兵并防筆弼婢陂符卑方皮縛扶畀分毗裴馮浮府鄙便封附房平部\n",
      "爲雨筠于羽薳洧雲云永有韋王榮\n",
      "衢具強俟求暨渠臼奇其巨狂\n",
      "匹譬\n",
      "愛哀安鷖烏\n",
      "傍白捕薄蒲步\n",
      "先胥蘇須司息素寫辛雖斯桑思相私悉速\n",
      "胡侯獲乎下戶懷何黃\n",
      "弋台隨悅實營辝余似旬夷辭以羊乘食寺詳移翼徐祥予與餘神夕\n",
      "堂徒唐特同陀度杜\n",
      "驅傾跪弃起袪曲乞綺丘欽詰羌去卿窺豈墟區\n",
      "憂謁握挹央依烟於委衣一乙紆伊憶\n",
      "署嘗承是成視市常蜀殊寔時殖\n",
      "德多得\n",
      "力連縷里良呂離林\n",
      "借𩛠醉資祖將作即子姊漸則臧遵\n",
      "當都冬\n",
      "廁創瘡初叉楚測芻\n",
      "郎魯練\n",
      "治宅丈持佇植臣遟直墜池場柱馳除\n",
      "天吐土託他通\n",
      "虛香羲朽休興況許喜\n",
      "姑乖各過兼楷公古佳格詭\n",
      "母模慕莫摸謨\n",
      "洛勒落賴盧來\n",
      "如兒儒人耳而仍汝\n",
      "火虎花馨荒海呼呵\n",
      "豬追張竹丁卓徵陟珍迍知中褚猪\n",
      "蒼麁取采麤倉遷醋青七千親\n",
      "牛俄虞危宜玉遇魚擬疑研愚吾五語\n",
      "乃奴內諾那㚷\n",
      "康口謙枯恪苦空牽可客\n",
      "女拏尼穠\n",
      "披敷孚拂撫芳峯妃丕\n",
      "前藏在徂才昨\n",
      "舉規居九俱紀几吉\n",
      "式矢施詩釋試傷失湯書賞舒商始\n",
      "抽楮癡恥敕丑\n",
      "滂普\n",
      "充處赤尺叱昌\n",
      "雌此\n"
     ]
    }
   ],
   "source": [
    "ghehlien(uclist)"
   ]
  },
  {
   "cell_type": "markdown",
   "metadata": {},
   "source": [
    "### 1.3 Pyanxchet Lower Characters\n",
    "\n",
    "**1.3.1. Create a new set $S$ and put all upper characters into it:**"
   ]
  },
  {
   "cell_type": "code",
   "execution_count": 8,
   "metadata": {},
   "outputs": [
    {
     "data": {
      "text/plain": [
       "Set(String[\"懈\", \"甾\", \"當\", \"甚\", \"法\", \"賄\", \"越\", \"俾\", \"運\", \"河\"  …  \"亞\", \"寸\", \"教\", \"戀\", \"畏\", \"位\", \"鄭\", \"醒\", \"贈\", \"圓\"])"
      ]
     },
     "execution_count": 8,
     "metadata": {},
     "output_type": "execute_result"
    }
   ],
   "source": [
    "# Remove missing data, for those small rhymes (小韻) that has no pyanxchet\n",
    "\n",
    "s = Set{String}(filter!(x -> typeof(x) == String, Array(df[:下字])))"
   ]
  },
  {
   "cell_type": "markdown",
   "metadata": {},
   "source": [
    "**1.3.2. Zip all the pyanxchet upper characters with their pyanxchet upper characters**"
   ]
  },
  {
   "cell_type": "code",
   "execution_count": 9,
   "metadata": {
    "scrolled": false
   },
   "outputs": [
    {
     "data": {
      "text/plain": [
       "getLCList (generic function with 1 method)"
      ]
     },
     "execution_count": 9,
     "metadata": {},
     "output_type": "execute_result"
    }
   ],
   "source": [
    "function getLCList()\n",
    "    dfG = Array(df[Symbol(\"廣韻字頭(覈校後)\")])\n",
    "    dfS = Array(df[:下字])\n",
    "    lst = setToList(s)\n",
    "    n = length(lst)\n",
    "    ret = []\n",
    "    for i in 1:n\n",
    "        ch = lst[i]\n",
    "        ind = getIndexInArr(dfG, ch)\n",
    "        if ind != -1\n",
    "            if typeof(ch) == String && typeof(dfS[ind]) == String\n",
    "                push!(ret, (ch, dfS[ind]))\n",
    "            end\n",
    "        end\n",
    "    end\n",
    "    ret\n",
    "end"
   ]
  },
  {
   "cell_type": "code",
   "execution_count": 10,
   "metadata": {},
   "outputs": [
    {
     "data": {
      "text/plain": [
       "1185-element Array{Any,1}:\n",
       " (\"婁\", \"朱\")\n",
       " (\"肌\", \"夷\")\n",
       " (\"焉\", \"言\")\n",
       " (\"肴\", \"茅\")\n",
       " (\"制\", \"例\")\n",
       " (\"懈\", \"隘\")\n",
       " (\"鍾\", \"容\")\n",
       " (\"預\", \"洳\")\n",
       " (\"孟\", \"更\")\n",
       " (\"綸\", \"迍\")\n",
       " (\"爲\", \"支\")\n",
       " (\"灼\", \"若\")\n",
       " (\"甾\", \"持\")\n",
       " ⋮         \n",
       " (\"杯\", \"回\")\n",
       " (\"佃\", \"年\")\n",
       " (\"贈\", \"亙\")\n",
       " (\"襃\", \"毛\")\n",
       " (\"拜\", \"怪\")\n",
       " (\"荏\", \"甚\")\n",
       " (\"允\", \"準\")\n",
       " (\"赧\", \"板\")\n",
       " (\"牒\", \"協\")\n",
       " (\"斗\", \"口\")\n",
       " (\"曹\", \"勞\")\n",
       " (\"圓\", \"權\")"
      ]
     },
     "execution_count": 10,
     "metadata": {},
     "output_type": "execute_result"
    }
   ],
   "source": [
    "lclist = getLCList()"
   ]
  },
  {
   "cell_type": "markdown",
   "metadata": {},
   "source": [
    "**1.3.3 Do ghehlien**"
   ]
  },
  {
   "cell_type": "code",
   "execution_count": 11,
   "metadata": {
    "scrolled": false
   },
   "outputs": [
    {
     "name": "stdout",
     "output_type": "stream",
     "text": [
      "婁于熱朱足別句滅輸列誅俞隅辥逾俱芻\n",
      "肌夷尼糾資私脂飢黝\n",
      "焉軒言\n",
      "肴孝交嘲茅稍皃覺教\n",
      "制訐罽蔽袂例憩祭弊\n",
      "懈隘卦賣\n",
      "鍾封用凶容頌庸恭\n",
      "預灼甾姐遮若嗟居車魚奢藥諸邪其而爵洳雀賒與兹之勺略余野持\n",
      "孟行當盲浪宕剛岡郎庚更\n",
      "綸筠脣贇倫旬遵勻迍\n",
      "爲隨倚毀吹危帋垂紙是規綺離移知支累詭彼靡此髓爾侈捶氏隋委豸\n",
      "隱謹\n",
      "焮靳\n",
      "帶太大轄貝艾蓋\n",
      "敢覽埯\n",
      "合閤荅沓雜\n",
      "彪烋幽虯\n",
      "類醉遂萃\n",
      "賜避益迹昔智寄積義亦恚易辟豉\n",
      "佞徑定\n",
      "哀來開\n",
      "勞刀遭牢曹\n",
      "冉廉漸淹炎染琰占斂鹽\n",
      "政正成盛盈貞姓征并情鄭\n",
      "貢弄鳳送\n",
      "晏澗鴈按旰諫案旦贊\n",
      "妙虐笑肖約\n",
      "幸耿\n",
      "蛙緺媧\n",
      "鑒懺\n",
      "文倦權員彥變囀攣眷云分戀卷圓\n",
      "綏維遺隹追\n",
      "記既溉志豙吏置\n",
      "道抱晧老早浩\n",
      "甚深淫枕針朕稔荏\n",
      "法乏\n",
      "贍豔\n",
      "乎姑吾孤胡都烏吳\n",
      "皛晈鳥了皎\n",
      "賄猥罪\n",
      "典峴殄繭\n",
      "激弔嘯叫\n",
      "妹輩昧佩\n",
      "酉九有柳婦久\n",
      "麵見電練甸\n",
      "夥𠁥蟹買\n",
      "幻幰偃蹇辨免堰\n",
      "摘核革責厄戹\n",
      "越拔伐八發黠\n",
      "戶補賈魯杜古\n",
      "俾婢企弭\n",
      "或國\n",
      "男陷𧸖含南韽\n",
      "刮䫄\n",
      "筆乙密\n",
      "涬冷靈刑萌頂莖爭鼎宏迥丁挺剄耕打經醒\n",
      "巷絳\n",
      "界戒怪壞介拜\n",
      "逼即側力極直\n",
      "灰恢回杯\n",
      "恕署\n",
      "證蒸乘應庱矜冰升膺𩜁仍孕甑兢陵\n",
      "運問\n",
      "勒德得則\n",
      "昆尊䰟渾奔\n",
      "計詣戾\n",
      "緣川泉全宣專\n",
      "四質叱至寐畢必利自一二日悉栗冀器七吉\n",
      "唾臥钁縛貨籰\n",
      "朗黨\n",
      "犯錽范\n",
      "河何俄歌\n",
      "令仙扇然連延\n",
      "店念\n",
      "六逐菊竹福匊\n",
      "㢡掌网妄養放昉丈往兩\n",
      "疋葅\n",
      "恆滕崩增登棱朋\n",
      "賀邏个箇佐\n",
      "訪亮向況讓㨾\n",
      "候奏漏豆遘\n",
      "羽甫矩雨武禹\n",
      "展演翦煙輦先前淺善\n",
      "真振珍遴鄰印刃覲晉人賓\n",
      "𩏩嚴\n",
      "飽巧絞爪\n",
      "割曷葛達\n",
      "還鰥關班頑\n",
      "月厥物勿弗\n",
      "銜監鑑\n",
      "牙加霞巴\n",
      "敏殞\n",
      "泛終梵中弓眾融戎仲宮\n",
      "禾婆和過波戈\n",
      "但寒乾安干\n",
      "兼甜\n",
      "檻𣊟暫唵瞰禫濫蹔黤感\n",
      "里紀史理擬士己\n",
      "墨北黑\n",
      "張羊章莊陽良\n",
      "輒葉攝接涉\n",
      "丸潘貫喚官端筭\n",
      "董摠孔動\n",
      "華瓜花\n",
      "話夬邁快\n",
      "玉欲蜀曲錄\n",
      "在紿改肯等亥愷乃宰\n",
      "膎佳\n",
      "哉才\n",
      "戰膳\n",
      "冬宗\n",
      "任林心尋\n",
      "郤逆戟劇\n",
      "尾匪\n",
      "后垢口厚苟斗\n",
      "恩痕根\n",
      "霸㕦嫁訝駕化亞\n",
      "楷皆駭諧\n",
      "遇注具戍\n",
      "爇衛歲芮銳輟劣稅\n",
      "公蠓空紅東凍\n",
      "扃螢\n",
      "䒦凡\n",
      "緩伴管滿旱纂笴\n",
      "瀌夭表嬌矯喬囂\n",
      "滑屑忽結蔑骨\n",
      "內報秏隊繢對\n",
      "甲狎\n",
      "閑閒山\n",
      "謝夜炙\n",
      "呪宿祐副溜富又救\n",
      "板綰鯇赧\n",
      "協愜頰牒\n",
      "京驚卿\n",
      "病命\n",
      "冢奉踵宂勇隴\n",
      "役隻石\n",
      "奇羈宜\n",
      "末撥\n",
      "桂惠\n",
      "广奄儉檢險\n",
      "翼職\n",
      "篆兗轉緬\n",
      "迄訖乞\n",
      "綜宋統\n",
      "庾主\n",
      "潁營傾頃䁝\n",
      "昭遙招\n",
      "湩𪁪\n",
      "準尹允\n",
      "擊狄歷\n",
      "建阮怨願袁販煩晚元万遠\n",
      "秋周尤由鳩求州流\n",
      "外會最\n",
      "臘榼盍\n",
      "黃橫光旁\n",
      "水誄美軌鄙壘洧癸否\n",
      "郭格博各落穫\n",
      "浮謀\n",
      "玄縣涓\n",
      "卹聿律\n",
      "靜整井郢\n",
      "鎋瞎\n",
      "淮乖懷\n",
      "三酣談甘\n",
      "悚拱\n",
      "臡奚迷兮稽雞低\n",
      "路誤故暮祚擭\n",
      "勃沒\n",
      "礦猛梗杏\n",
      "劫怯業\n",
      "味未沸\n",
      "蔭禁凜今金吟譖鴆簪\n",
      "降雙江\n",
      "耐代愛概\n",
      "謬幼\n",
      "戢急立汁及汲㘝入執\n",
      "慣患\n",
      "影丙永憬景\n",
      "紺暗\n",
      "年顛賢堅田佃\n",
      "禮啓弟米\n",
      "陌白伯虢\n",
      "就僦\n",
      "瓦寡\n",
      "火果\n",
      "篤毒沃酷\n",
      "肺廢吠穢\n",
      "止市\n",
      "胃貴畏\n",
      "肱弘\n",
      "簟忝栝玷\n",
      "據慮助倨御\n",
      "舉渚去与呂許巨\n",
      "紖盡忍軫腎引\n",
      "岳角谷祿\n",
      "焦堯蕭霄宵消要幺邀聊彫\n",
      "斤欣\n",
      "非韋歸微\n",
      "巾銀\n",
      "項講慃\n",
      "媚備祕\n",
      "劒欠釅\n",
      "眉悲\n",
      "豏減斬\n",
      "慶敬\n",
      "歇竭謁\n",
      "閏順峻\n",
      "睡僞瑞\n",
      "櫛瑟\n",
      "本損袞忖\n",
      "艮恨\n",
      "掾釧絹\n",
      "莧襇\n",
      "顏姦\n",
      "絕雪悅\n",
      "迦伽\n",
      "困悶寸\n",
      "吻粉\n",
      "可我\n",
      "很墾\n",
      "小兆\n",
      "榮兵明\n",
      "悸季\n",
      "雉姊几履\n",
      "半漫\n",
      "少照召廟沼\n",
      "詵臻㾕\n",
      "泫畎\n",
      "決穴\n",
      "獲麥摑\n",
      "亙鄧隥贈\n",
      "換段玩亂\n",
      "希衣豈豨依\n",
      "圭攜\n",
      "箭賤碾面線\n",
      "導到\n",
      "矢視\n",
      "曠謗\n",
      "雅罵下\n",
      "靴𦚢𩨷\n",
      "毛袍襃\n",
      "者冶也\n",
      "闃狊鶪\n",
      "愧位\n",
      "鉤侯\n",
      "諍迸\n",
      "括活\n",
      "飲錦\n",
      "廣晃\n",
      "讒咸\n",
      "驗窆\n",
      "洽夾\n",
      "喝犗\n",
      "卜木\n",
      "方王\n",
      "偉鬼\n",
      "夫無\n",
      "限簡\n"
     ]
    }
   ],
   "source": [
    "ghehlien(lclist)"
   ]
  },
  {
   "cell_type": "markdown",
   "metadata": {},
   "source": [
    "### 1.4 Pyanxchet Lower Characters (Grouped By Small Rhymes)"
   ]
  },
  {
   "cell_type": "code",
   "execution_count": 12,
   "metadata": {},
   "outputs": [],
   "source": [
    "using Query"
   ]
  },
  {
   "cell_type": "code",
   "execution_count": 13,
   "metadata": {},
   "outputs": [],
   "source": [
    "using DataFrames"
   ]
  },
  {
   "cell_type": "code",
   "execution_count": 14,
   "metadata": {},
   "outputs": [
    {
     "data": {
      "text/plain": [
       "solve_1_4 (generic function with 1 method)"
      ]
     },
     "execution_count": 14,
     "metadata": {},
     "output_type": "execute_result"
    }
   ],
   "source": [
    "function solve_1_4()\n",
    "    a1 = collect(zip(Array(df[Symbol(\"廣韻韻部順序&廣韻韻部原貌(調整前)\")]), Array(df[:下字])))\n",
    "    filter!(x -> typeof(x[1]) == String && typeof(x[2]) == String, a1)\n",
    "    a11 = fastuniq(a1)\n",
    "    a2 = zip(collect(zip(Array(df[Symbol(\"廣韻韻部順序&廣韻韻部原貌(調整前)\")]), Array(df[Symbol(\"廣韻字頭(覈校後)\")]))), df[:下字])\n",
    "    d1 = Dict(a2)\n",
    "    t1 = []\n",
    "    for a in a11\n",
    "        try\n",
    "            res = d1[a]\n",
    "            if typeof(res) != Missings.Missing\n",
    "                push!(t1, (a[1], a[2], res))\n",
    "            end\n",
    "        catch\n",
    "        end\n",
    "    end\n",
    "    res = []\n",
    "    for i in [ Array(i) for i in @groupby(t1, x -> x[1], x -> (x[1], x[2], x[3])) ]\n",
    "        push!(res, [ i[1][1], ghehlienAsArray([ (String(x[2]), String(x[3])) for x in i ]) ])\n",
    "    end\n",
    "    res\n",
    "end"
   ]
  },
  {
   "cell_type": "code",
   "execution_count": 15,
   "metadata": {
    "scrolled": false
   },
   "outputs": [
    {
     "data": {
      "text/html": [
       "<table width=\"900px\"><tr><th>上平01東</th><th>公空紅東</th><th>融戎中弓終宮</th></tr><tr><th>上平02冬</th><th>宗冬</th></tr><tr><th>上平03鍾</th><th>凶容庸封鍾恭</th></tr><tr><th>上平04江</th><th>雙江</th></tr><tr><th>上平05支</th><th>規隋吹知爲離支隨危移垂</th><th>奇羈宜</th></tr><tr><th>上平06脂</th><th>肌夷飢資私尼脂</th><th>隹綏遺追維</th><th>悲眉</th></tr><tr><th>上平07之</th><th>兹其甾而持之</th></tr><tr><th>上平08微</th><th>歸微非韋</th><th>希依衣</th></tr><tr><th>上平09魚</th><th>諸余魚居</th></tr><tr><th>上平10虞</th><th>芻俱誅隅朱于逾輸俞</th><th>無夫</th></tr><tr><th>上平11模</th><th>吳吾胡都姑孤乎烏</th></tr><tr><th>上平12齊</th><th>迷兮雞低稽臡奚</th><th>圭攜</th></tr><tr><th>上平13佳</th><th>佳膎</th><th>媧蛙緺</th></tr><tr><th>上平14皆</th><th>諧皆</th><th>乖淮懷</th></tr><tr><th>上平15灰</th><th>恢回杯灰</th></tr><tr><th>上平16咍</th><th>來哀開</th><th>哉才</th></tr><tr><th>上平17真</th><th>巾銀</th><th>人鄰珍賓真</th><th>筠贇倫</th></tr><tr><th>上平18諄</th><th>迍倫勻綸旬脣遵</th></tr><tr><th>上平19臻</th><th>詵臻</th></tr><tr><th>上平20文</th><th>云分文</th></tr><tr><th>上平21欣</th><th>斤欣</th></tr><tr><th>上平22元</th><th>袁元煩</th><th>言軒</th></tr><tr><th>上平23魂</th><th>渾尊䰟奔昆</th></tr><tr><th>上平24痕</th><th>恩根痕</th></tr><tr><th>上平25寒</th><th>寒安干</th></tr><tr><th>上平26桓</th><th>潘丸官端</th></tr><tr><th>上平27刪</th><th>顏姦</th><th>關班頑還</th></tr><tr><th>上平28山</th><th>閒山閑</th><th>鰥頑</th></tr><tr><th>下平01先</th><th>先前煙</th><th>田年堅顛賢</th><th>玄涓</th></tr><tr><th>下平02仙</th><th>權攣員圓</th><th>焉乾</th><th>川泉專宣全緣</th><th>然連延仙</th></tr><tr><th>下平03蕭</th><th>彫聊蕭堯幺</th></tr><tr><th>下平04宵</th><th>招昭遙</th><th>消宵霄邀焦</th><th>喬瀌嬌囂</th></tr><tr><th>下平05肴</th><th>嘲肴茅交</th></tr><tr><th>下平06豪</th><th>毛袍襃</th><th>遭勞刀牢曹</th></tr><tr><th>下平07歌</th><th>何俄河歌</th></tr><tr><th>下平08戈</th><th>波禾戈和婆</th><th>迦伽</th><th>𦚢靴𩨷</th></tr><tr><th>下平09麻</th><th>牙加霞巴</th><th>華瓜花</th><th>賒車奢遮</th><th>邪嗟</th></tr><tr><th>下平10陽</th><th>張方陽莊章羊良王</th></tr><tr><th>下平11唐</th><th>郎當岡剛</th><th>黃光旁</th></tr><tr><th>下平12庚</th><th>榮兵明</th><th>行橫盲庚</th><th>京卿驚</th></tr><tr><th>下平13耕</th><th>萌莖宏耕</th></tr><tr><th>下平14清</th><th>貞成并征盈情</th><th>傾營</th></tr><tr><th>下平15青</th><th>丁刑靈經</th><th>扃螢</th></tr><tr><th>下平16蒸</th><th>膺仍冰矜兢乘升蒸陵</th></tr><tr><th>下平17登</th><th>崩棱恆朋登滕增</th><th>肱弘</th></tr><tr><th>下平18尤</th><th>尤周流求州鳩秋由</th><th>浮謀</th></tr><tr><th>下平19侯</th><th>侯婁鉤</th></tr><tr><th>下平20幽</th><th>虯烋幽彪</th></tr><tr><th>下平21侵</th><th>任林尋心</th><th>吟簪今金</th><th>深針淫</th></tr><tr><th>下平22覃</th><th>男南含</th></tr><tr><th>下平23談</th><th>酣甘談三</th></tr><tr><th>下平24鹽</th><th>炎淹占鹽廉</th></tr><tr><th>下平25添</th><th>甜兼</th></tr><tr><th>下平26咸</th><th>咸讒</th></tr><tr><th>下平27銜</th><th>監銜</th></tr><tr><th>下平28嚴</th><th>𩏩嚴</th></tr><tr><th>下平29凡</th><th>䒦凡</th></tr><tr><th>上01董</th><th>孔動摠蠓董</th></tr><tr><th>上02腫</th><th>冢奉宂勇隴踵</th><th>悚拱</th><th>𪁪湩</th></tr><tr><th>上03講</th><th>項慃講</th></tr><tr><th>上04紙</th><th>俾弭婢</th><th>爾是氏豸帋此侈紙</th><th>詭委綺彼毀捶髓靡累倚</th></tr><tr><th>上05旨</th><th>壘癸誄鄙美水軌洧</th><th>几履雉姊</th><th>視矢</th></tr><tr><th>上06止</th><th>理里紀己擬史士</th><th>市止</th></tr><tr><th>上07尾</th><th>豨豈</th><th>匪尾</th><th>鬼偉</th></tr><tr><th>上08語</th><th>渚舉巨呂与與許</th></tr><tr><th>上09麌</th><th>甫雨羽矩禹武</th><th>庾主</th></tr><tr><th>上10姥</th><th>補魯古戶杜</th></tr><tr><th>上11薺</th><th>禮啓弟米</th></tr><tr><th>上12蟹</th><th>夥𠁥蟹買</th></tr><tr><th>上13駭</th><th>駭楷</th></tr><tr><th>上14賄</th><th>罪猥賄</th></tr><tr><th>上15海</th><th>愷改宰紿亥乃在</th></tr><tr><th>上16軫</th><th>忍軫盡引</th><th>殞敏</th></tr><tr><th>上17準</th><th>尹準允</th></tr><tr><th>上18吻</th><th>粉吻</th></tr><tr><th>上19隱</th><th>隱謹</th></tr><tr><th>上20阮</th><th>遠阮晚</th><th>幰偃</th></tr><tr><th>上21混</th><th>本損袞忖</th></tr><tr><th>上22很</th><th>很墾</th></tr><tr><th>上23旱</th><th>旱但笴</th></tr><tr><th>上24緩</th><th>管緩纂伴旱滿</th></tr><tr><th>上25潸</th><th>板綰鯇赧</th></tr><tr><th>上26產</th><th>簡限</th></tr><tr><th>上27銑</th><th>繭殄峴典</th><th>泫畎</th></tr><tr><th>上28獮</th><th>輦展翦免蹇演辨善淺</th><th>篆緬兗轉</th></tr><tr><th>上29篠</th><th>鳥皎了皛晈</th></tr><tr><th>上30小</th><th>沼少</th><th>兆矯小夭表</th></tr><tr><th>上31巧</th><th>絞巧飽爪</th></tr><tr><th>上32晧</th><th>浩老抱早晧道</th></tr><tr><th>上33哿</th><th>我可</th></tr><tr><th>上34果</th><th>果火</th></tr><tr><th>上35馬</th><th>賈雅疋下</th><th>也者冶野姐</th><th>瓦寡</th></tr><tr><th>上36養</th><th>昉网掌往㢡丈養兩</th></tr><tr><th>上37蕩</th><th>晃廣</th><th>朗黨</th></tr><tr><th>上38梗</th><th>丙永影憬景</th><th>礦猛梗䁝杏</th><th>冷打</th></tr><tr><th>上39耿</th><th>耿幸</th></tr><tr><th>上40靜</th><th>潁頃</th><th>靜郢井整</th></tr><tr><th>上41迥</th><th>剄鼎頂挺迥醒涬</th></tr><tr><th>上42拯</th><th>庱拯</th></tr><tr><th>上43等</th><th>等肯</th></tr><tr><th>上44有</th><th>九久否有酉柳婦</th></tr><tr><th>上45厚</th><th>垢厚口苟斗后</th></tr><tr><th>上46黝</th><th>糾黝</th></tr><tr><th>上47寑</th><th>朕凜稔枕荏甚</th><th>錦飲㾕</th></tr><tr><th>上48感</th><th>唵感禫</th></tr><tr><th>上49敢</th><th>覽敢</th></tr><tr><th>上50琰</th><th>琰冉染斂漸</th><th>險奄檢儉</th></tr><tr><th>上51忝</th><th>忝玷簟</th></tr><tr><th>上52儼</th><th>广埯</th></tr><tr><th>上53豏</th><th>豏斬減</th></tr><tr><th>上54檻</th><th>黤檻</th></tr><tr><th>上55范</th><th>錽犯范</th></tr><tr><th>去01送</th><th>眾仲</th><th>貢弄送鳳凍</th></tr><tr><th>去02宋</th><th>統綜宋</th></tr><tr><th>去03用</th><th>用頌</th></tr><tr><th>去04絳</th><th>降巷絳</th></tr><tr><th>去05寘</th><th>僞睡累瑞</th><th>避企恚智賜寄豉義</th></tr><tr><th>去06至</th><th>器寐自至冀利二四</th><th>季悸</th><th>祕媚備</th><th>遂萃類醉</th><th>位愧</th></tr><tr><th>去07志</th><th>志記吏置</th></tr><tr><th>去08未</th><th>既豙</th><th>味未沸</th><th>畏胃貴</th></tr><tr><th>去09御</th><th>恕預署洳</th><th>據慮倨去御助</th></tr><tr><th>去10遇</th><th>句具注遇戍</th></tr><tr><th>去11暮</th><th>故路祚暮誤</th></tr><tr><th>去12霽</th><th>戾詣計</th><th>惠桂</th></tr><tr><th>去13祭</th><th>制憩袂弊例祭罽蔽</th><th>銳衛芮歲稅</th></tr><tr><th>去14泰</th><th>蓋艾帶大太貝</th><th>會最外</th></tr><tr><th>去15卦</th><th>賣隘卦懈</th></tr><tr><th>去16怪</th><th>壞介怪拜戒界</th></tr><tr><th>去17夬</th><th>話快邁夬</th><th>喝犗</th></tr><tr><th>去18隊</th><th>輩佩妹昧</th><th>繢內隊對</th></tr><tr><th>去19代</th><th>代愛耐概溉</th></tr><tr><th>去20廢</th><th>穢肺廢</th></tr><tr><th>去21震</th><th>遴印覲刃振晉</th></tr><tr><th>去22稕</th><th>順閏峻</th></tr><tr><th>去23問</th><th>問運</th></tr><tr><th>去24焮</th><th>焮靳</th></tr><tr><th>去25願</th><th>建堰販万怨願</th></tr><tr><th>去26慁</th><th>悶寸困</th></tr><tr><th>去27恨</th><th>艮恨</th></tr><tr><th>去28翰</th><th>案旰旦贊按</th></tr><tr><th>去29換</th><th>換段筭貫玩喚亂</th><th>漫半</th></tr><tr><th>去30諫</th><th>鴈澗晏諫</th><th>慣患</th></tr><tr><th>去31襇</th><th>莧幻襇辨</th></tr><tr><th>去32霰</th><th>佃縣甸電練麵</th></tr><tr><th>去33線</th><th>箭賤線碾面</th><th>眷囀倦變戀卷彥</th><th>掾釧絹</th><th>扇膳戰</th></tr><tr><th>去34嘯</th><th>嘯叫弔</th></tr><tr><th>去35笑</th><th>照召廟少</th><th>肖妙笑要</th></tr><tr><th>去36效</th><th>稍教孝皃</th></tr><tr><th>去37号</th><th>導秏報到</th></tr><tr><th>去38箇</th><th>賀佐箇邏个</th></tr><tr><th>去39過</th><th>過唾貨臥</th></tr><tr><th>去40禡</th><th>夜謝</th><th>化㕦亞駕霸罵嫁訝</th></tr><tr><th>去41漾</th><th>妄放</th><th>㨾訪亮讓向況</th></tr><tr><th>去42宕</th><th>浪宕</th><th>曠謗</th></tr><tr><th>去43映</th><th>孟更橫</th><th>敬慶</th><th>病命</th></tr><tr><th>去44諍</th><th>諍迸</th></tr><tr><th>去45勁</th><th>鄭政盛令正姓</th></tr><tr><th>去46徑</th><th>佞定徑</th></tr><tr><th>去47證</th><th>證孕𩜁甑應</th></tr><tr><th>去48嶝</th><th>亙隥鄧贈</th></tr><tr><th>去49宥</th><th>祐救溜富又副呪</th><th>就僦</th></tr><tr><th>去50候</th><th>漏豆遘候奏</th></tr><tr><th>去51幼</th><th>幼謬</th></tr><tr><th>去52沁</th><th>蔭任鴆譖禁</th></tr><tr><th>去53勘</th><th>紺暗</th></tr><tr><th>去54闞</th><th>瞰蹔𣊟濫暫</th></tr><tr><th>去55豔</th><th>豔贍</th><th>驗窆</th></tr><tr><th>去56㮇</th><th>店念</th></tr><tr><th>去57釅</th><th>釅欠</th></tr><tr><th>去58陷</th><th>𧸖陷韽</th></tr><tr><th>去59鑑</th><th>懺鑑鑒</th></tr><tr><th>去60梵</th><th>欠劒</th><th>泛梵</th></tr><tr><th>入01屋</th><th>竹菊六逐匊福宿</th><th>祿谷</th><th>木卜</th></tr><tr><th>入02沃</th><th>篤酷沃毒</th></tr><tr><th>入03燭</th><th>曲蜀玉錄欲足</th></tr><tr><th>入04覺</th><th>角岳覺</th></tr><tr><th>入05質</th><th>乙筆密</th><th>吉叱日悉畢七質栗必一</th></tr><tr><th>入06術</th><th>律卹聿</th></tr><tr><th>入07櫛</th><th>櫛瑟</th></tr><tr><th>入08物</th><th>勿弗物</th></tr><tr><th>入09迄</th><th>迄乞訖</th></tr><tr><th>入10月</th><th>發越伐</th><th>謁竭歇訐</th><th>月厥</th></tr><tr><th>入11沒</th><th>忽骨</th><th>沒勃</th></tr><tr><th>入12曷</th><th>葛割達曷</th></tr><tr><th>入13末</th><th>撥末</th><th>括活栝</th></tr><tr><th>入14黠</th><th>八滑拔黠</th></tr><tr><th>入15鎋</th><th>轄鎋瞎</th><th>䫄刮</th></tr><tr><th>入16屑</th><th>穴決</th><th>蔑結屑</th></tr><tr><th>入17薛</th><th>絕悅雪</th><th>劣輟爇</th><th>滅列辥熱竭</th><th>別</th></tr><tr><th>入18藥</th><th>爵雀勺灼虐若約略藥</th><th>钁縛籰</th></tr><tr><th>入19鐸</th><th>落博穫各郭</th></tr><tr><th>入20陌</th><th>劇郤戟逆</th><th>虢白伯擭格陌</th></tr><tr><th>入21麥</th><th>責摘戹厄革核</th><th>獲麥摑</th></tr><tr><th>入22昔</th><th>役炙隻石</th><th>昔積易益亦迹</th><th>辟</th></tr><tr><th>入23錫</th><th>激擊狄歷</th><th>鶪闃</th><th>狊</th></tr><tr><th>入24職</th><th>即極力直逼側</th><th>職翼</th></tr><tr><th>入25德</th><th>黑北墨</th><th>則得勒德</th><th>或國</th></tr><tr><th>入26緝</th><th>戢汁入執急及汲立</th></tr><tr><th>入27合</th><th>沓荅合閤</th></tr><tr><th>入28盍</th><th>臘榼盍</th></tr><tr><th>入29葉</th><th>接輒葉攝涉</th></tr><tr><th>入30怗</th><th>頰牒協愜</th></tr><tr><th>入31洽</th><th>洽㘝夾</th></tr><tr><th>入32狎</th><th>甲狎</th></tr><tr><th>入33業</th><th>怯劫業</th></tr><tr><th>入34乏</th><th>乏法</th></tr></table>"
      ]
     },
     "metadata": {},
     "output_type": "display_data"
    }
   ],
   "source": [
    "function go()\n",
    "    res = \"<table width=\\\"900px\\\">\"\n",
    "    for i in solve_1_4()\n",
    "        res *= \"<tr><th>\"\n",
    "        res *= i[1]\n",
    "        res *= \"</th>\"\n",
    "        for j in i[2]\n",
    "            res *= \"<th>\"\n",
    "            res *= j\n",
    "            res *= \"</th>\"\n",
    "        end\n",
    "        res *= \"</tr>\"\n",
    "    end\n",
    "    res *= \"</table>\"\n",
    "    display(\"text/html\", res)\n",
    "end\n",
    "go()"
   ]
  }
 ],
 "metadata": {
  "kernelspec": {
   "display_name": "Julia 0.6.4",
   "language": "julia",
   "name": "julia-0.6"
  },
  "language_info": {
   "file_extension": ".jl",
   "mimetype": "application/julia",
   "name": "julia",
   "version": "0.6.4"
  }
 },
 "nbformat": 4,
 "nbformat_minor": 2
}
